{
  "nbformat": 4,
  "nbformat_minor": 0,
  "metadata": {
    "colab": {
      "name": "Untitled5.ipynb",
      "provenance": [],
      "collapsed_sections": []
    },
    "kernelspec": {
      "name": "python3",
      "display_name": "Python 3"
    },
    "language_info": {
      "name": "python"
    }
  },
  "cells": [
    {
      "cell_type": "code",
      "source": [
        "!pip install pmdarima"
      ],
      "metadata": {
        "colab": {
          "base_uri": "https://localhost:8080/"
        },
        "id": "PsNftjNqHetH",
        "outputId": "17b90509-f3b4-45f5-85a3-7af3dbc211a5"
      },
      "execution_count": 3,
      "outputs": [
        {
          "output_type": "stream",
          "name": "stdout",
          "text": [
            "Collecting pmdarima\n",
            "  Downloading pmdarima-1.8.5-cp37-cp37m-manylinux_2_17_x86_64.manylinux2014_x86_64.manylinux_2_24_x86_64.whl (1.4 MB)\n",
            "\u001b[?25l\r\u001b[K     |▎                               | 10 kB 25.3 MB/s eta 0:00:01\r\u001b[K     |▌                               | 20 kB 13.6 MB/s eta 0:00:01\r\u001b[K     |▊                               | 30 kB 10.1 MB/s eta 0:00:01\r\u001b[K     |█                               | 40 kB 8.5 MB/s eta 0:00:01\r\u001b[K     |█▏                              | 51 kB 4.4 MB/s eta 0:00:01\r\u001b[K     |█▍                              | 61 kB 5.1 MB/s eta 0:00:01\r\u001b[K     |█▋                              | 71 kB 5.5 MB/s eta 0:00:01\r\u001b[K     |██                              | 81 kB 5.7 MB/s eta 0:00:01\r\u001b[K     |██▏                             | 92 kB 6.3 MB/s eta 0:00:01\r\u001b[K     |██▍                             | 102 kB 5.2 MB/s eta 0:00:01\r\u001b[K     |██▋                             | 112 kB 5.2 MB/s eta 0:00:01\r\u001b[K     |██▉                             | 122 kB 5.2 MB/s eta 0:00:01\r\u001b[K     |███                             | 133 kB 5.2 MB/s eta 0:00:01\r\u001b[K     |███▎                            | 143 kB 5.2 MB/s eta 0:00:01\r\u001b[K     |███▌                            | 153 kB 5.2 MB/s eta 0:00:01\r\u001b[K     |███▉                            | 163 kB 5.2 MB/s eta 0:00:01\r\u001b[K     |████                            | 174 kB 5.2 MB/s eta 0:00:01\r\u001b[K     |████▎                           | 184 kB 5.2 MB/s eta 0:00:01\r\u001b[K     |████▌                           | 194 kB 5.2 MB/s eta 0:00:01\r\u001b[K     |████▊                           | 204 kB 5.2 MB/s eta 0:00:01\r\u001b[K     |█████                           | 215 kB 5.2 MB/s eta 0:00:01\r\u001b[K     |█████▏                          | 225 kB 5.2 MB/s eta 0:00:01\r\u001b[K     |█████▍                          | 235 kB 5.2 MB/s eta 0:00:01\r\u001b[K     |█████▊                          | 245 kB 5.2 MB/s eta 0:00:01\r\u001b[K     |██████                          | 256 kB 5.2 MB/s eta 0:00:01\r\u001b[K     |██████▏                         | 266 kB 5.2 MB/s eta 0:00:01\r\u001b[K     |██████▍                         | 276 kB 5.2 MB/s eta 0:00:01\r\u001b[K     |██████▋                         | 286 kB 5.2 MB/s eta 0:00:01\r\u001b[K     |██████▉                         | 296 kB 5.2 MB/s eta 0:00:01\r\u001b[K     |███████                         | 307 kB 5.2 MB/s eta 0:00:01\r\u001b[K     |███████▎                        | 317 kB 5.2 MB/s eta 0:00:01\r\u001b[K     |███████▋                        | 327 kB 5.2 MB/s eta 0:00:01\r\u001b[K     |███████▉                        | 337 kB 5.2 MB/s eta 0:00:01\r\u001b[K     |████████                        | 348 kB 5.2 MB/s eta 0:00:01\r\u001b[K     |████████▎                       | 358 kB 5.2 MB/s eta 0:00:01\r\u001b[K     |████████▌                       | 368 kB 5.2 MB/s eta 0:00:01\r\u001b[K     |████████▊                       | 378 kB 5.2 MB/s eta 0:00:01\r\u001b[K     |█████████                       | 389 kB 5.2 MB/s eta 0:00:01\r\u001b[K     |█████████▎                      | 399 kB 5.2 MB/s eta 0:00:01\r\u001b[K     |█████████▌                      | 409 kB 5.2 MB/s eta 0:00:01\r\u001b[K     |█████████▊                      | 419 kB 5.2 MB/s eta 0:00:01\r\u001b[K     |██████████                      | 430 kB 5.2 MB/s eta 0:00:01\r\u001b[K     |██████████▏                     | 440 kB 5.2 MB/s eta 0:00:01\r\u001b[K     |██████████▍                     | 450 kB 5.2 MB/s eta 0:00:01\r\u001b[K     |██████████▋                     | 460 kB 5.2 MB/s eta 0:00:01\r\u001b[K     |██████████▉                     | 471 kB 5.2 MB/s eta 0:00:01\r\u001b[K     |███████████▏                    | 481 kB 5.2 MB/s eta 0:00:01\r\u001b[K     |███████████▍                    | 491 kB 5.2 MB/s eta 0:00:01\r\u001b[K     |███████████▋                    | 501 kB 5.2 MB/s eta 0:00:01\r\u001b[K     |███████████▉                    | 512 kB 5.2 MB/s eta 0:00:01\r\u001b[K     |████████████                    | 522 kB 5.2 MB/s eta 0:00:01\r\u001b[K     |████████████▎                   | 532 kB 5.2 MB/s eta 0:00:01\r\u001b[K     |████████████▌                   | 542 kB 5.2 MB/s eta 0:00:01\r\u001b[K     |████████████▊                   | 552 kB 5.2 MB/s eta 0:00:01\r\u001b[K     |█████████████                   | 563 kB 5.2 MB/s eta 0:00:01\r\u001b[K     |█████████████▎                  | 573 kB 5.2 MB/s eta 0:00:01\r\u001b[K     |█████████████▌                  | 583 kB 5.2 MB/s eta 0:00:01\r\u001b[K     |█████████████▊                  | 593 kB 5.2 MB/s eta 0:00:01\r\u001b[K     |██████████████                  | 604 kB 5.2 MB/s eta 0:00:01\r\u001b[K     |██████████████▏                 | 614 kB 5.2 MB/s eta 0:00:01\r\u001b[K     |██████████████▍                 | 624 kB 5.2 MB/s eta 0:00:01\r\u001b[K     |██████████████▋                 | 634 kB 5.2 MB/s eta 0:00:01\r\u001b[K     |███████████████                 | 645 kB 5.2 MB/s eta 0:00:01\r\u001b[K     |███████████████▏                | 655 kB 5.2 MB/s eta 0:00:01\r\u001b[K     |███████████████▍                | 665 kB 5.2 MB/s eta 0:00:01\r\u001b[K     |███████████████▋                | 675 kB 5.2 MB/s eta 0:00:01\r\u001b[K     |███████████████▉                | 686 kB 5.2 MB/s eta 0:00:01\r\u001b[K     |████████████████                | 696 kB 5.2 MB/s eta 0:00:01\r\u001b[K     |████████████████▎               | 706 kB 5.2 MB/s eta 0:00:01\r\u001b[K     |████████████████▋               | 716 kB 5.2 MB/s eta 0:00:01\r\u001b[K     |████████████████▉               | 727 kB 5.2 MB/s eta 0:00:01\r\u001b[K     |█████████████████               | 737 kB 5.2 MB/s eta 0:00:01\r\u001b[K     |█████████████████▎              | 747 kB 5.2 MB/s eta 0:00:01\r\u001b[K     |█████████████████▌              | 757 kB 5.2 MB/s eta 0:00:01\r\u001b[K     |█████████████████▊              | 768 kB 5.2 MB/s eta 0:00:01\r\u001b[K     |██████████████████              | 778 kB 5.2 MB/s eta 0:00:01\r\u001b[K     |██████████████████▏             | 788 kB 5.2 MB/s eta 0:00:01\r\u001b[K     |██████████████████▌             | 798 kB 5.2 MB/s eta 0:00:01\r\u001b[K     |██████████████████▊             | 808 kB 5.2 MB/s eta 0:00:01\r\u001b[K     |███████████████████             | 819 kB 5.2 MB/s eta 0:00:01\r\u001b[K     |███████████████████▏            | 829 kB 5.2 MB/s eta 0:00:01\r\u001b[K     |███████████████████▍            | 839 kB 5.2 MB/s eta 0:00:01\r\u001b[K     |███████████████████▋            | 849 kB 5.2 MB/s eta 0:00:01\r\u001b[K     |███████████████████▉            | 860 kB 5.2 MB/s eta 0:00:01\r\u001b[K     |████████████████████            | 870 kB 5.2 MB/s eta 0:00:01\r\u001b[K     |████████████████████▍           | 880 kB 5.2 MB/s eta 0:00:01\r\u001b[K     |████████████████████▋           | 890 kB 5.2 MB/s eta 0:00:01\r\u001b[K     |████████████████████▉           | 901 kB 5.2 MB/s eta 0:00:01\r\u001b[K     |█████████████████████           | 911 kB 5.2 MB/s eta 0:00:01\r\u001b[K     |█████████████████████▎          | 921 kB 5.2 MB/s eta 0:00:01\r\u001b[K     |█████████████████████▌          | 931 kB 5.2 MB/s eta 0:00:01\r\u001b[K     |█████████████████████▊          | 942 kB 5.2 MB/s eta 0:00:01\r\u001b[K     |██████████████████████          | 952 kB 5.2 MB/s eta 0:00:01\r\u001b[K     |██████████████████████▎         | 962 kB 5.2 MB/s eta 0:00:01\r\u001b[K     |██████████████████████▌         | 972 kB 5.2 MB/s eta 0:00:01\r\u001b[K     |██████████████████████▊         | 983 kB 5.2 MB/s eta 0:00:01\r\u001b[K     |███████████████████████         | 993 kB 5.2 MB/s eta 0:00:01\r\u001b[K     |███████████████████████▏        | 1.0 MB 5.2 MB/s eta 0:00:01\r\u001b[K     |███████████████████████▍        | 1.0 MB 5.2 MB/s eta 0:00:01\r\u001b[K     |███████████████████████▋        | 1.0 MB 5.2 MB/s eta 0:00:01\r\u001b[K     |████████████████████████        | 1.0 MB 5.2 MB/s eta 0:00:01\r\u001b[K     |████████████████████████▏       | 1.0 MB 5.2 MB/s eta 0:00:01\r\u001b[K     |████████████████████████▍       | 1.1 MB 5.2 MB/s eta 0:00:01\r\u001b[K     |████████████████████████▋       | 1.1 MB 5.2 MB/s eta 0:00:01\r\u001b[K     |████████████████████████▉       | 1.1 MB 5.2 MB/s eta 0:00:01\r\u001b[K     |█████████████████████████       | 1.1 MB 5.2 MB/s eta 0:00:01\r\u001b[K     |█████████████████████████▎      | 1.1 MB 5.2 MB/s eta 0:00:01\r\u001b[K     |█████████████████████████▌      | 1.1 MB 5.2 MB/s eta 0:00:01\r\u001b[K     |█████████████████████████▉      | 1.1 MB 5.2 MB/s eta 0:00:01\r\u001b[K     |██████████████████████████      | 1.1 MB 5.2 MB/s eta 0:00:01\r\u001b[K     |██████████████████████████▎     | 1.1 MB 5.2 MB/s eta 0:00:01\r\u001b[K     |██████████████████████████▌     | 1.1 MB 5.2 MB/s eta 0:00:01\r\u001b[K     |██████████████████████████▊     | 1.2 MB 5.2 MB/s eta 0:00:01\r\u001b[K     |███████████████████████████     | 1.2 MB 5.2 MB/s eta 0:00:01\r\u001b[K     |███████████████████████████▏    | 1.2 MB 5.2 MB/s eta 0:00:01\r\u001b[K     |███████████████████████████▍    | 1.2 MB 5.2 MB/s eta 0:00:01\r\u001b[K     |███████████████████████████▊    | 1.2 MB 5.2 MB/s eta 0:00:01\r\u001b[K     |████████████████████████████    | 1.2 MB 5.2 MB/s eta 0:00:01\r\u001b[K     |████████████████████████████▏   | 1.2 MB 5.2 MB/s eta 0:00:01\r\u001b[K     |████████████████████████████▍   | 1.2 MB 5.2 MB/s eta 0:00:01\r\u001b[K     |████████████████████████████▋   | 1.2 MB 5.2 MB/s eta 0:00:01\r\u001b[K     |████████████████████████████▉   | 1.2 MB 5.2 MB/s eta 0:00:01\r\u001b[K     |█████████████████████████████   | 1.3 MB 5.2 MB/s eta 0:00:01\r\u001b[K     |█████████████████████████████▎  | 1.3 MB 5.2 MB/s eta 0:00:01\r\u001b[K     |█████████████████████████████▋  | 1.3 MB 5.2 MB/s eta 0:00:01\r\u001b[K     |█████████████████████████████▉  | 1.3 MB 5.2 MB/s eta 0:00:01\r\u001b[K     |██████████████████████████████  | 1.3 MB 5.2 MB/s eta 0:00:01\r\u001b[K     |██████████████████████████████▎ | 1.3 MB 5.2 MB/s eta 0:00:01\r\u001b[K     |██████████████████████████████▌ | 1.3 MB 5.2 MB/s eta 0:00:01\r\u001b[K     |██████████████████████████████▊ | 1.3 MB 5.2 MB/s eta 0:00:01\r\u001b[K     |███████████████████████████████ | 1.3 MB 5.2 MB/s eta 0:00:01\r\u001b[K     |███████████████████████████████▎| 1.4 MB 5.2 MB/s eta 0:00:01\r\u001b[K     |███████████████████████████████▌| 1.4 MB 5.2 MB/s eta 0:00:01\r\u001b[K     |███████████████████████████████▊| 1.4 MB 5.2 MB/s eta 0:00:01\r\u001b[K     |████████████████████████████████| 1.4 MB 5.2 MB/s eta 0:00:01\r\u001b[K     |████████████████████████████████| 1.4 MB 5.2 MB/s \n",
            "\u001b[?25hRequirement already satisfied: scikit-learn>=0.22 in /usr/local/lib/python3.7/dist-packages (from pmdarima) (1.0.2)\n",
            "Collecting statsmodels!=0.12.0,>=0.11\n",
            "  Downloading statsmodels-0.13.2-cp37-cp37m-manylinux_2_17_x86_64.manylinux2014_x86_64.whl (9.8 MB)\n",
            "\u001b[K     |████████████████████████████████| 9.8 MB 49.0 MB/s \n",
            "\u001b[?25hRequirement already satisfied: Cython!=0.29.18,>=0.29 in /usr/local/lib/python3.7/dist-packages (from pmdarima) (0.29.28)\n",
            "Requirement already satisfied: scipy>=1.3.2 in /usr/local/lib/python3.7/dist-packages (from pmdarima) (1.4.1)\n",
            "Requirement already satisfied: joblib>=0.11 in /usr/local/lib/python3.7/dist-packages (from pmdarima) (1.1.0)\n",
            "Requirement already satisfied: urllib3 in /usr/local/lib/python3.7/dist-packages (from pmdarima) (1.24.3)\n",
            "Requirement already satisfied: numpy>=1.19.3 in /usr/local/lib/python3.7/dist-packages (from pmdarima) (1.21.5)\n",
            "Requirement already satisfied: pandas>=0.19 in /usr/local/lib/python3.7/dist-packages (from pmdarima) (1.3.5)\n",
            "Requirement already satisfied: setuptools!=50.0.0,>=38.6.0 in /usr/local/lib/python3.7/dist-packages (from pmdarima) (57.4.0)\n",
            "Requirement already satisfied: python-dateutil>=2.7.3 in /usr/local/lib/python3.7/dist-packages (from pandas>=0.19->pmdarima) (2.8.2)\n",
            "Requirement already satisfied: pytz>=2017.3 in /usr/local/lib/python3.7/dist-packages (from pandas>=0.19->pmdarima) (2018.9)\n",
            "Requirement already satisfied: six>=1.5 in /usr/local/lib/python3.7/dist-packages (from python-dateutil>=2.7.3->pandas>=0.19->pmdarima) (1.15.0)\n",
            "Requirement already satisfied: threadpoolctl>=2.0.0 in /usr/local/lib/python3.7/dist-packages (from scikit-learn>=0.22->pmdarima) (3.1.0)\n",
            "Requirement already satisfied: packaging>=21.3 in /usr/local/lib/python3.7/dist-packages (from statsmodels!=0.12.0,>=0.11->pmdarima) (21.3)\n",
            "Requirement already satisfied: patsy>=0.5.2 in /usr/local/lib/python3.7/dist-packages (from statsmodels!=0.12.0,>=0.11->pmdarima) (0.5.2)\n",
            "Requirement already satisfied: pyparsing!=3.0.5,>=2.0.2 in /usr/local/lib/python3.7/dist-packages (from packaging>=21.3->statsmodels!=0.12.0,>=0.11->pmdarima) (3.0.7)\n",
            "Installing collected packages: statsmodels, pmdarima\n",
            "  Attempting uninstall: statsmodels\n",
            "    Found existing installation: statsmodels 0.10.2\n",
            "    Uninstalling statsmodels-0.10.2:\n",
            "      Successfully uninstalled statsmodels-0.10.2\n",
            "Successfully installed pmdarima-1.8.5 statsmodels-0.13.2\n"
          ]
        }
      ]
    },
    {
      "cell_type": "markdown",
      "source": [
        "**Univariate time series analysis using autoarima**"
      ],
      "metadata": {
        "id": "bzaQq5PT2RIM"
      }
    },
    {
      "cell_type": "code",
      "execution_count": 2,
      "metadata": {
        "id": "Y-VdRuPeHbuQ"
      },
      "outputs": [],
      "source": [
        "import matplotlib as mpl\n",
        "import matplotlib.pyplot as plt\n",
        "import numpy as np\n",
        "import os\n",
        "from datetime import datetime\n",
        "import pandas as pd\n",
        "import plotly.express as px\n",
        "\n",
        "mpl.rcParams['figure.figsize'] = (10, 8)\n",
        "mpl.rcParams['axes.grid'] = False"
      ]
    },
    {
      "cell_type": "code",
      "source": [
        "from google.colab import drive"
      ],
      "metadata": {
        "id": "cO55d7uEHv6W"
      },
      "execution_count": 4,
      "outputs": []
    },
    {
      "cell_type": "code",
      "source": [
        "drive.mount('/content/drive')"
      ],
      "metadata": {
        "colab": {
          "base_uri": "https://localhost:8080/"
        },
        "id": "eYb4yUpnH5fg",
        "outputId": "6261cfff-2f5e-4a57-b85c-6bd6f80ffbae"
      },
      "execution_count": 212,
      "outputs": [
        {
          "output_type": "stream",
          "name": "stdout",
          "text": [
            "Drive already mounted at /content/drive; to attempt to forcibly remount, call drive.mount(\"/content/drive\", force_remount=True).\n"
          ]
        }
      ]
    },
    {
      "cell_type": "code",
      "source": [
        "df=pd.read_csv('/content/drive/MyDrive/ma_lga_12345.csv')"
      ],
      "metadata": {
        "id": "T33mMcbrH-VL"
      },
      "execution_count": 213,
      "outputs": []
    },
    {
      "cell_type": "code",
      "source": [
        "df=df[df.type=='house'] #Let's limit the scope of this problem to houses only\n",
        "df['saledate'] = pd.to_datetime(df['saledate'])\n",
        "df.tail()"
      ],
      "metadata": {
        "colab": {
          "base_uri": "https://localhost:8080/",
          "height": 310
        },
        "id": "LtzQRsb_IRfk",
        "outputId": "74ceee80-ad47-4c8b-8784-4b52300902d5"
      },
      "execution_count": 214,
      "outputs": [
        {
          "output_type": "stream",
          "name": "stderr",
          "text": [
            "/usr/local/lib/python3.7/dist-packages/ipykernel_launcher.py:2: SettingWithCopyWarning: \n",
            "A value is trying to be set on a copy of a slice from a DataFrame.\n",
            "Try using .loc[row_indexer,col_indexer] = value instead\n",
            "\n",
            "See the caveats in the documentation: https://pandas.pydata.org/pandas-docs/stable/user_guide/indexing.html#returning-a-view-versus-a-copy\n",
            "  \n"
          ]
        },
        {
          "output_type": "execute_result",
          "data": {
            "text/plain": [
              "      saledate       MA   type  bedrooms\n",
              "195 2018-09-30  1007114  house         5\n",
              "196 2018-12-31  1002323  house         5\n",
              "197 2019-03-31   998136  house         5\n",
              "198 2019-06-30   995363  house         5\n",
              "199 2019-09-30   970268  house         5"
            ],
            "text/html": [
              "\n",
              "  <div id=\"df-c77b7ff5-3111-4776-af22-32696797b246\">\n",
              "    <div class=\"colab-df-container\">\n",
              "      <div>\n",
              "<style scoped>\n",
              "    .dataframe tbody tr th:only-of-type {\n",
              "        vertical-align: middle;\n",
              "    }\n",
              "\n",
              "    .dataframe tbody tr th {\n",
              "        vertical-align: top;\n",
              "    }\n",
              "\n",
              "    .dataframe thead th {\n",
              "        text-align: right;\n",
              "    }\n",
              "</style>\n",
              "<table border=\"1\" class=\"dataframe\">\n",
              "  <thead>\n",
              "    <tr style=\"text-align: right;\">\n",
              "      <th></th>\n",
              "      <th>saledate</th>\n",
              "      <th>MA</th>\n",
              "      <th>type</th>\n",
              "      <th>bedrooms</th>\n",
              "    </tr>\n",
              "  </thead>\n",
              "  <tbody>\n",
              "    <tr>\n",
              "      <th>195</th>\n",
              "      <td>2018-09-30</td>\n",
              "      <td>1007114</td>\n",
              "      <td>house</td>\n",
              "      <td>5</td>\n",
              "    </tr>\n",
              "    <tr>\n",
              "      <th>196</th>\n",
              "      <td>2018-12-31</td>\n",
              "      <td>1002323</td>\n",
              "      <td>house</td>\n",
              "      <td>5</td>\n",
              "    </tr>\n",
              "    <tr>\n",
              "      <th>197</th>\n",
              "      <td>2019-03-31</td>\n",
              "      <td>998136</td>\n",
              "      <td>house</td>\n",
              "      <td>5</td>\n",
              "    </tr>\n",
              "    <tr>\n",
              "      <th>198</th>\n",
              "      <td>2019-06-30</td>\n",
              "      <td>995363</td>\n",
              "      <td>house</td>\n",
              "      <td>5</td>\n",
              "    </tr>\n",
              "    <tr>\n",
              "      <th>199</th>\n",
              "      <td>2019-09-30</td>\n",
              "      <td>970268</td>\n",
              "      <td>house</td>\n",
              "      <td>5</td>\n",
              "    </tr>\n",
              "  </tbody>\n",
              "</table>\n",
              "</div>\n",
              "      <button class=\"colab-df-convert\" onclick=\"convertToInteractive('df-c77b7ff5-3111-4776-af22-32696797b246')\"\n",
              "              title=\"Convert this dataframe to an interactive table.\"\n",
              "              style=\"display:none;\">\n",
              "        \n",
              "  <svg xmlns=\"http://www.w3.org/2000/svg\" height=\"24px\"viewBox=\"0 0 24 24\"\n",
              "       width=\"24px\">\n",
              "    <path d=\"M0 0h24v24H0V0z\" fill=\"none\"/>\n",
              "    <path d=\"M18.56 5.44l.94 2.06.94-2.06 2.06-.94-2.06-.94-.94-2.06-.94 2.06-2.06.94zm-11 1L8.5 8.5l.94-2.06 2.06-.94-2.06-.94L8.5 2.5l-.94 2.06-2.06.94zm10 10l.94 2.06.94-2.06 2.06-.94-2.06-.94-.94-2.06-.94 2.06-2.06.94z\"/><path d=\"M17.41 7.96l-1.37-1.37c-.4-.4-.92-.59-1.43-.59-.52 0-1.04.2-1.43.59L10.3 9.45l-7.72 7.72c-.78.78-.78 2.05 0 2.83L4 21.41c.39.39.9.59 1.41.59.51 0 1.02-.2 1.41-.59l7.78-7.78 2.81-2.81c.8-.78.8-2.07 0-2.86zM5.41 20L4 18.59l7.72-7.72 1.47 1.35L5.41 20z\"/>\n",
              "  </svg>\n",
              "      </button>\n",
              "      \n",
              "  <style>\n",
              "    .colab-df-container {\n",
              "      display:flex;\n",
              "      flex-wrap:wrap;\n",
              "      gap: 12px;\n",
              "    }\n",
              "\n",
              "    .colab-df-convert {\n",
              "      background-color: #E8F0FE;\n",
              "      border: none;\n",
              "      border-radius: 50%;\n",
              "      cursor: pointer;\n",
              "      display: none;\n",
              "      fill: #1967D2;\n",
              "      height: 32px;\n",
              "      padding: 0 0 0 0;\n",
              "      width: 32px;\n",
              "    }\n",
              "\n",
              "    .colab-df-convert:hover {\n",
              "      background-color: #E2EBFA;\n",
              "      box-shadow: 0px 1px 2px rgba(60, 64, 67, 0.3), 0px 1px 3px 1px rgba(60, 64, 67, 0.15);\n",
              "      fill: #174EA6;\n",
              "    }\n",
              "\n",
              "    [theme=dark] .colab-df-convert {\n",
              "      background-color: #3B4455;\n",
              "      fill: #D2E3FC;\n",
              "    }\n",
              "\n",
              "    [theme=dark] .colab-df-convert:hover {\n",
              "      background-color: #434B5C;\n",
              "      box-shadow: 0px 1px 3px 1px rgba(0, 0, 0, 0.15);\n",
              "      filter: drop-shadow(0px 1px 2px rgba(0, 0, 0, 0.3));\n",
              "      fill: #FFFFFF;\n",
              "    }\n",
              "  </style>\n",
              "\n",
              "      <script>\n",
              "        const buttonEl =\n",
              "          document.querySelector('#df-c77b7ff5-3111-4776-af22-32696797b246 button.colab-df-convert');\n",
              "        buttonEl.style.display =\n",
              "          google.colab.kernel.accessAllowed ? 'block' : 'none';\n",
              "\n",
              "        async function convertToInteractive(key) {\n",
              "          const element = document.querySelector('#df-c77b7ff5-3111-4776-af22-32696797b246');\n",
              "          const dataTable =\n",
              "            await google.colab.kernel.invokeFunction('convertToInteractive',\n",
              "                                                     [key], {});\n",
              "          if (!dataTable) return;\n",
              "\n",
              "          const docLinkHtml = 'Like what you see? Visit the ' +\n",
              "            '<a target=\"_blank\" href=https://colab.research.google.com/notebooks/data_table.ipynb>data table notebook</a>'\n",
              "            + ' to learn more about interactive tables.';\n",
              "          element.innerHTML = '';\n",
              "          dataTable['output_type'] = 'display_data';\n",
              "          await google.colab.output.renderOutput(dataTable, element);\n",
              "          const docLink = document.createElement('div');\n",
              "          docLink.innerHTML = docLinkHtml;\n",
              "          element.appendChild(docLink);\n",
              "        }\n",
              "      </script>\n",
              "    </div>\n",
              "  </div>\n",
              "  "
            ]
          },
          "metadata": {},
          "execution_count": 214
        }
      ]
    },
    {
      "cell_type": "code",
      "source": [
        "df.rename(columns={'MA':'price'}, inplace=True)\n",
        "df.head()"
      ],
      "metadata": {
        "colab": {
          "base_uri": "https://localhost:8080/",
          "height": 206
        },
        "id": "OZR1yc5bMJJc",
        "outputId": "f9151d15-ef5d-4445-c060-d906758cd3ad"
      },
      "execution_count": 215,
      "outputs": [
        {
          "output_type": "execute_result",
          "data": {
            "text/plain": [
              "    saledate   price   type  bedrooms\n",
              "0 2007-09-30  441854  house         2\n",
              "1 2007-12-31  441854  house         2\n",
              "2 2008-03-31  441854  house         2\n",
              "3 2008-06-30  441854  house         2\n",
              "4 2008-09-30  451583  house         2"
            ],
            "text/html": [
              "\n",
              "  <div id=\"df-cf15735f-220d-46a7-9302-6c2a6427b30a\">\n",
              "    <div class=\"colab-df-container\">\n",
              "      <div>\n",
              "<style scoped>\n",
              "    .dataframe tbody tr th:only-of-type {\n",
              "        vertical-align: middle;\n",
              "    }\n",
              "\n",
              "    .dataframe tbody tr th {\n",
              "        vertical-align: top;\n",
              "    }\n",
              "\n",
              "    .dataframe thead th {\n",
              "        text-align: right;\n",
              "    }\n",
              "</style>\n",
              "<table border=\"1\" class=\"dataframe\">\n",
              "  <thead>\n",
              "    <tr style=\"text-align: right;\">\n",
              "      <th></th>\n",
              "      <th>saledate</th>\n",
              "      <th>price</th>\n",
              "      <th>type</th>\n",
              "      <th>bedrooms</th>\n",
              "    </tr>\n",
              "  </thead>\n",
              "  <tbody>\n",
              "    <tr>\n",
              "      <th>0</th>\n",
              "      <td>2007-09-30</td>\n",
              "      <td>441854</td>\n",
              "      <td>house</td>\n",
              "      <td>2</td>\n",
              "    </tr>\n",
              "    <tr>\n",
              "      <th>1</th>\n",
              "      <td>2007-12-31</td>\n",
              "      <td>441854</td>\n",
              "      <td>house</td>\n",
              "      <td>2</td>\n",
              "    </tr>\n",
              "    <tr>\n",
              "      <th>2</th>\n",
              "      <td>2008-03-31</td>\n",
              "      <td>441854</td>\n",
              "      <td>house</td>\n",
              "      <td>2</td>\n",
              "    </tr>\n",
              "    <tr>\n",
              "      <th>3</th>\n",
              "      <td>2008-06-30</td>\n",
              "      <td>441854</td>\n",
              "      <td>house</td>\n",
              "      <td>2</td>\n",
              "    </tr>\n",
              "    <tr>\n",
              "      <th>4</th>\n",
              "      <td>2008-09-30</td>\n",
              "      <td>451583</td>\n",
              "      <td>house</td>\n",
              "      <td>2</td>\n",
              "    </tr>\n",
              "  </tbody>\n",
              "</table>\n",
              "</div>\n",
              "      <button class=\"colab-df-convert\" onclick=\"convertToInteractive('df-cf15735f-220d-46a7-9302-6c2a6427b30a')\"\n",
              "              title=\"Convert this dataframe to an interactive table.\"\n",
              "              style=\"display:none;\">\n",
              "        \n",
              "  <svg xmlns=\"http://www.w3.org/2000/svg\" height=\"24px\"viewBox=\"0 0 24 24\"\n",
              "       width=\"24px\">\n",
              "    <path d=\"M0 0h24v24H0V0z\" fill=\"none\"/>\n",
              "    <path d=\"M18.56 5.44l.94 2.06.94-2.06 2.06-.94-2.06-.94-.94-2.06-.94 2.06-2.06.94zm-11 1L8.5 8.5l.94-2.06 2.06-.94-2.06-.94L8.5 2.5l-.94 2.06-2.06.94zm10 10l.94 2.06.94-2.06 2.06-.94-2.06-.94-.94-2.06-.94 2.06-2.06.94z\"/><path d=\"M17.41 7.96l-1.37-1.37c-.4-.4-.92-.59-1.43-.59-.52 0-1.04.2-1.43.59L10.3 9.45l-7.72 7.72c-.78.78-.78 2.05 0 2.83L4 21.41c.39.39.9.59 1.41.59.51 0 1.02-.2 1.41-.59l7.78-7.78 2.81-2.81c.8-.78.8-2.07 0-2.86zM5.41 20L4 18.59l7.72-7.72 1.47 1.35L5.41 20z\"/>\n",
              "  </svg>\n",
              "      </button>\n",
              "      \n",
              "  <style>\n",
              "    .colab-df-container {\n",
              "      display:flex;\n",
              "      flex-wrap:wrap;\n",
              "      gap: 12px;\n",
              "    }\n",
              "\n",
              "    .colab-df-convert {\n",
              "      background-color: #E8F0FE;\n",
              "      border: none;\n",
              "      border-radius: 50%;\n",
              "      cursor: pointer;\n",
              "      display: none;\n",
              "      fill: #1967D2;\n",
              "      height: 32px;\n",
              "      padding: 0 0 0 0;\n",
              "      width: 32px;\n",
              "    }\n",
              "\n",
              "    .colab-df-convert:hover {\n",
              "      background-color: #E2EBFA;\n",
              "      box-shadow: 0px 1px 2px rgba(60, 64, 67, 0.3), 0px 1px 3px 1px rgba(60, 64, 67, 0.15);\n",
              "      fill: #174EA6;\n",
              "    }\n",
              "\n",
              "    [theme=dark] .colab-df-convert {\n",
              "      background-color: #3B4455;\n",
              "      fill: #D2E3FC;\n",
              "    }\n",
              "\n",
              "    [theme=dark] .colab-df-convert:hover {\n",
              "      background-color: #434B5C;\n",
              "      box-shadow: 0px 1px 3px 1px rgba(0, 0, 0, 0.15);\n",
              "      filter: drop-shadow(0px 1px 2px rgba(0, 0, 0, 0.3));\n",
              "      fill: #FFFFFF;\n",
              "    }\n",
              "  </style>\n",
              "\n",
              "      <script>\n",
              "        const buttonEl =\n",
              "          document.querySelector('#df-cf15735f-220d-46a7-9302-6c2a6427b30a button.colab-df-convert');\n",
              "        buttonEl.style.display =\n",
              "          google.colab.kernel.accessAllowed ? 'block' : 'none';\n",
              "\n",
              "        async function convertToInteractive(key) {\n",
              "          const element = document.querySelector('#df-cf15735f-220d-46a7-9302-6c2a6427b30a');\n",
              "          const dataTable =\n",
              "            await google.colab.kernel.invokeFunction('convertToInteractive',\n",
              "                                                     [key], {});\n",
              "          if (!dataTable) return;\n",
              "\n",
              "          const docLinkHtml = 'Like what you see? Visit the ' +\n",
              "            '<a target=\"_blank\" href=https://colab.research.google.com/notebooks/data_table.ipynb>data table notebook</a>'\n",
              "            + ' to learn more about interactive tables.';\n",
              "          element.innerHTML = '';\n",
              "          dataTable['output_type'] = 'display_data';\n",
              "          await google.colab.output.renderOutput(dataTable, element);\n",
              "          const docLink = document.createElement('div');\n",
              "          docLink.innerHTML = docLinkHtml;\n",
              "          element.appendChild(docLink);\n",
              "        }\n",
              "      </script>\n",
              "    </div>\n",
              "  </div>\n",
              "  "
            ]
          },
          "metadata": {},
          "execution_count": 215
        }
      ]
    },
    {
      "cell_type": "code",
      "source": [
        "#Pivot the data so we can feed it into the model\n",
        "df=df.pivot(index='saledate', columns='bedrooms', values='price').interpolate(method='linear', limit_direction='both')\n",
        "df.head(),df.tail()\n"
      ],
      "metadata": {
        "colab": {
          "base_uri": "https://localhost:8080/"
        },
        "id": "An5nDwoBIXtb",
        "outputId": "750b1451-746d-4f1b-e61f-3567cc384fbe"
      },
      "execution_count": 216,
      "outputs": [
        {
          "output_type": "execute_result",
          "data": {
            "text/plain": [
              "(bedrooms           2         3         4         5\n",
              " saledate                                          \n",
              " 2007-03-31  441854.0  421291.0  548969.0  735904.0\n",
              " 2007-06-30  441854.0  421291.0  548969.0  735904.0\n",
              " 2007-09-30  441854.0  421291.0  548969.0  735904.0\n",
              " 2007-12-31  441854.0  421291.0  548969.0  735904.0\n",
              " 2008-03-31  441854.0  416031.0  552484.0  735904.0,\n",
              " bedrooms           2         3         4          5\n",
              " saledate                                           \n",
              " 2018-09-30  504318.0  624602.0  830727.0  1007114.0\n",
              " 2018-12-31  506001.0  626608.0  820924.0  1002323.0\n",
              " 2019-03-31  496133.0  628423.0  811121.0   998136.0\n",
              " 2019-06-30  500158.0  630814.0  803925.0   995363.0\n",
              " 2019-09-30  510712.0  631875.0  791446.0   970268.0)"
            ]
          },
          "metadata": {},
          "execution_count": 216
        }
      ]
    },
    {
      "cell_type": "code",
      "source": [
        "df.plot(subplots=True)"
      ],
      "metadata": {
        "colab": {
          "base_uri": "https://localhost:8080/",
          "height": 584
        },
        "id": "5yHpmb5FKfBb",
        "outputId": "284170b4-5000-4fa2-bd23-00952930a546"
      },
      "execution_count": 217,
      "outputs": [
        {
          "output_type": "execute_result",
          "data": {
            "text/plain": [
              "array([<matplotlib.axes._subplots.AxesSubplot object at 0x7fbed5435890>,\n",
              "       <matplotlib.axes._subplots.AxesSubplot object at 0x7fbed54cd3d0>,\n",
              "       <matplotlib.axes._subplots.AxesSubplot object at 0x7fbed5418710>,\n",
              "       <matplotlib.axes._subplots.AxesSubplot object at 0x7fbed534c7d0>],\n",
              "      dtype=object)"
            ]
          },
          "metadata": {},
          "execution_count": 217
        },
        {
          "output_type": "display_data",
          "data": {
            "text/plain": [
              "<Figure size 720x576 with 4 Axes>"
            ],
            "image/png": "[encoded data removed]"
          },
          "metadata": {
            "needs_background": "light"
          }
        }
      ]
    },
    {
      "cell_type": "code",
      "source": [
        "import pmdarima as pm\n",
        "\n",
        "model = pm.auto_arima(df[2], \n",
        "                        m=4, seasonal=True,\n",
        "                      start_p=0, start_q=0, max_order=4, test='adf',error_action='ignore',  \n",
        "                           suppress_warnings=True,\n",
        "                      stepwise=True, trace=True)"
      ],
      "metadata": {
        "colab": {
          "base_uri": "https://localhost:8080/"
        },
        "id": "8i__I038Ig2n",
        "outputId": "995d3795-86d0-4e39-fd03-8249d1957e73"
      },
      "execution_count": 218,
      "outputs": [
        {
          "output_type": "stream",
          "name": "stdout",
          "text": [
            "Performing stepwise search to minimize aic\n",
            " ARIMA(0,1,0)(1,0,1)[4] intercept   : AIC=1001.200, Time=0.15 sec\n",
            " ARIMA(0,1,0)(0,0,0)[4] intercept   : AIC=997.370, Time=0.01 sec\n",
            " ARIMA(1,1,0)(1,0,0)[4] intercept   : AIC=1001.125, Time=0.12 sec\n",
            " ARIMA(0,1,1)(0,0,1)[4] intercept   : AIC=1001.273, Time=0.12 sec\n",
            " ARIMA(0,1,0)(0,0,0)[4]             : AIC=999.053, Time=0.01 sec\n",
            " ARIMA(0,1,0)(1,0,0)[4] intercept   : AIC=999.199, Time=0.06 sec\n",
            " ARIMA(0,1,0)(0,0,1)[4] intercept   : AIC=999.199, Time=0.03 sec\n",
            " ARIMA(1,1,0)(0,0,0)[4] intercept   : AIC=999.300, Time=0.02 sec\n",
            " ARIMA(0,1,1)(0,0,0)[4] intercept   : AIC=999.447, Time=0.03 sec\n",
            " ARIMA(1,1,1)(0,0,0)[4] intercept   : AIC=1001.400, Time=0.10 sec\n",
            "\n",
            "Best model:  ARIMA(0,1,0)(0,0,0)[4] intercept\n",
            "Total fit time: 0.690 seconds\n"
          ]
        }
      ]
    },
    {
      "cell_type": "code",
      "source": [
        "model.summary()"
      ],
      "metadata": {
        "colab": {
          "base_uri": "https://localhost:8080/",
          "height": 402
        },
        "id": "p4oR8VI5eFlY",
        "outputId": "f15b1bb8-6869-4319-8493-bb2b9638761c"
      },
      "execution_count": 219,
      "outputs": [
        {
          "output_type": "execute_result",
          "data": {
            "text/plain": [
              "<class 'statsmodels.iolib.summary.Summary'>\n",
              "\"\"\"\n",
              "                               SARIMAX Results                                \n",
              "==============================================================================\n",
              "Dep. Variable:                      y   No. Observations:                   51\n",
              "Model:               SARIMAX(0, 1, 0)   Log Likelihood                -496.685\n",
              "Date:                Mon, 28 Mar 2022   AIC                            997.370\n",
              "Time:                        12:27:33   BIC                           1001.194\n",
              "Sample:                             0   HQIC                           998.826\n",
              "                                 - 51                                         \n",
              "Covariance Type:                  opg                                         \n",
              "==============================================================================\n",
              "                 coef    std err          z      P>|z|      [0.025      0.975]\n",
              "------------------------------------------------------------------------------\n",
              "intercept   1377.1600    706.047      1.951      0.051      -6.666    2760.986\n",
              "sigma2      2.488e+07   3.29e+06      7.558      0.000    1.84e+07    3.13e+07\n",
              "===================================================================================\n",
              "Ljung-Box (L1) (Q):                   0.01   Jarque-Bera (JB):                13.93\n",
              "Prob(Q):                              0.94   Prob(JB):                         0.00\n",
              "Heteroskedasticity (H):               0.49   Skew:                             0.09\n",
              "Prob(H) (two-sided):                  0.16   Kurtosis:                         5.58\n",
              "===================================================================================\n",
              "\n",
              "Warnings:\n",
              "[1] Covariance matrix calculated using the outer product of gradients (complex-step).\n",
              "\"\"\""
            ],
            "text/html": [
              "<table class=\"simpletable\">\n",
              "<caption>SARIMAX Results</caption>\n",
              "<tr>\n",
              "  <th>Dep. Variable:</th>           <td>y</td>        <th>  No. Observations:  </th>    <td>51</td>   \n",
              "</tr>\n",
              "<tr>\n",
              "  <th>Model:</th>           <td>SARIMAX(0, 1, 0)</td> <th>  Log Likelihood     </th> <td>-496.685</td>\n",
              "</tr>\n",
              "<tr>\n",
              "  <th>Date:</th>            <td>Mon, 28 Mar 2022</td> <th>  AIC                </th>  <td>997.370</td>\n",
              "</tr>\n",
              "<tr>\n",
              "  <th>Time:</th>                <td>12:27:33</td>     <th>  BIC                </th> <td>1001.194</td>\n",
              "</tr>\n",
              "<tr>\n",
              "  <th>Sample:</th>                  <td>0</td>        <th>  HQIC               </th>  <td>998.826</td>\n",
              "</tr>\n",
              "<tr>\n",
              "  <th></th>                       <td> - 51</td>      <th>                     </th>     <td> </td>   \n",
              "</tr>\n",
              "<tr>\n",
              "  <th>Covariance Type:</th>        <td>opg</td>       <th>                     </th>     <td> </td>   \n",
              "</tr>\n",
              "</table>\n",
              "<table class=\"simpletable\">\n",
              "<tr>\n",
              "      <td></td>         <th>coef</th>     <th>std err</th>      <th>z</th>      <th>P>|z|</th>  <th>[0.025</th>    <th>0.975]</th>  \n",
              "</tr>\n",
              "<tr>\n",
              "  <th>intercept</th> <td> 1377.1600</td> <td>  706.047</td> <td>    1.951</td> <td> 0.051</td> <td>   -6.666</td> <td> 2760.986</td>\n",
              "</tr>\n",
              "<tr>\n",
              "  <th>sigma2</th>    <td> 2.488e+07</td> <td> 3.29e+06</td> <td>    7.558</td> <td> 0.000</td> <td> 1.84e+07</td> <td> 3.13e+07</td>\n",
              "</tr>\n",
              "</table>\n",
              "<table class=\"simpletable\">\n",
              "<tr>\n",
              "  <th>Ljung-Box (L1) (Q):</th>     <td>0.01</td> <th>  Jarque-Bera (JB):  </th> <td>13.93</td>\n",
              "</tr>\n",
              "<tr>\n",
              "  <th>Prob(Q):</th>                <td>0.94</td> <th>  Prob(JB):          </th> <td>0.00</td> \n",
              "</tr>\n",
              "<tr>\n",
              "  <th>Heteroskedasticity (H):</th> <td>0.49</td> <th>  Skew:              </th> <td>0.09</td> \n",
              "</tr>\n",
              "<tr>\n",
              "  <th>Prob(H) (two-sided):</th>    <td>0.16</td> <th>  Kurtosis:          </th> <td>5.58</td> \n",
              "</tr>\n",
              "</table><br/><br/>Warnings:<br/>[1] Covariance matrix calculated using the outer product of gradients (complex-step)."
            ]
          },
          "metadata": {},
          "execution_count": 219
        }
      ]
    },
    {
      "cell_type": "code",
      "source": [
        "from sklearn.model_selection import train_test_split\n",
        "train,test= train_test_split(df, test_size=0.10,shuffle=False)\n"
      ],
      "metadata": {
        "id": "PRX2y9NnfC4V"
      },
      "execution_count": 220,
      "outputs": []
    },
    {
      "cell_type": "code",
      "source": [
        "test"
      ],
      "metadata": {
        "colab": {
          "base_uri": "https://localhost:8080/",
          "height": 269
        },
        "id": "THAqYqF5gOjm",
        "outputId": "c45e1c21-12f3-4989-b988-bb9b26b3543e"
      },
      "execution_count": 221,
      "outputs": [
        {
          "output_type": "execute_result",
          "data": {
            "text/plain": [
              "bedrooms           2         3         4          5\n",
              "saledate                                           \n",
              "2018-06-30  506116.0  622466.0  837295.0  1017752.0\n",
              "2018-09-30  504318.0  624602.0  830727.0  1007114.0\n",
              "2018-12-31  506001.0  626608.0  820924.0  1002323.0\n",
              "2019-03-31  496133.0  628423.0  811121.0   998136.0\n",
              "2019-06-30  500158.0  630814.0  803925.0   995363.0\n",
              "2019-09-30  510712.0  631875.0  791446.0   970268.0"
            ],
            "text/html": [
              "\n",
              "  <div id=\"df-d90a8eb8-a7d0-43a7-8914-bf75d299256f\">\n",
              "    <div class=\"colab-df-container\">\n",
              "      <div>\n",
              "<style scoped>\n",
              "    .dataframe tbody tr th:only-of-type {\n",
              "        vertical-align: middle;\n",
              "    }\n",
              "\n",
              "    .dataframe tbody tr th {\n",
              "        vertical-align: top;\n",
              "    }\n",
              "\n",
              "    .dataframe thead th {\n",
              "        text-align: right;\n",
              "    }\n",
              "</style>\n",
              "<table border=\"1\" class=\"dataframe\">\n",
              "  <thead>\n",
              "    <tr style=\"text-align: right;\">\n",
              "      <th>bedrooms</th>\n",
              "      <th>2</th>\n",
              "      <th>3</th>\n",
              "      <th>4</th>\n",
              "      <th>5</th>\n",
              "    </tr>\n",
              "    <tr>\n",
              "      <th>saledate</th>\n",
              "      <th></th>\n",
              "      <th></th>\n",
              "      <th></th>\n",
              "      <th></th>\n",
              "    </tr>\n",
              "  </thead>\n",
              "  <tbody>\n",
              "    <tr>\n",
              "      <th>2018-06-30</th>\n",
              "      <td>506116.0</td>\n",
              "      <td>622466.0</td>\n",
              "      <td>837295.0</td>\n",
              "      <td>1017752.0</td>\n",
              "    </tr>\n",
              "    <tr>\n",
              "      <th>2018-09-30</th>\n",
              "      <td>504318.0</td>\n",
              "      <td>624602.0</td>\n",
              "      <td>830727.0</td>\n",
              "      <td>1007114.0</td>\n",
              "    </tr>\n",
              "    <tr>\n",
              "      <th>2018-12-31</th>\n",
              "      <td>506001.0</td>\n",
              "      <td>626608.0</td>\n",
              "      <td>820924.0</td>\n",
              "      <td>1002323.0</td>\n",
              "    </tr>\n",
              "    <tr>\n",
              "      <th>2019-03-31</th>\n",
              "      <td>496133.0</td>\n",
              "      <td>628423.0</td>\n",
              "      <td>811121.0</td>\n",
              "      <td>998136.0</td>\n",
              "    </tr>\n",
              "    <tr>\n",
              "      <th>2019-06-30</th>\n",
              "      <td>500158.0</td>\n",
              "      <td>630814.0</td>\n",
              "      <td>803925.0</td>\n",
              "      <td>995363.0</td>\n",
              "    </tr>\n",
              "    <tr>\n",
              "      <th>2019-09-30</th>\n",
              "      <td>510712.0</td>\n",
              "      <td>631875.0</td>\n",
              "      <td>791446.0</td>\n",
              "      <td>970268.0</td>\n",
              "    </tr>\n",
              "  </tbody>\n",
              "</table>\n",
              "</div>\n",
              "      <button class=\"colab-df-convert\" onclick=\"convertToInteractive('df-d90a8eb8-a7d0-43a7-8914-bf75d299256f')\"\n",
              "              title=\"Convert this dataframe to an interactive table.\"\n",
              "              style=\"display:none;\">\n",
              "        \n",
              "  <svg xmlns=\"http://www.w3.org/2000/svg\" height=\"24px\"viewBox=\"0 0 24 24\"\n",
              "       width=\"24px\">\n",
              "    <path d=\"M0 0h24v24H0V0z\" fill=\"none\"/>\n",
              "    <path d=\"M18.56 5.44l.94 2.06.94-2.06 2.06-.94-2.06-.94-.94-2.06-.94 2.06-2.06.94zm-11 1L8.5 8.5l.94-2.06 2.06-.94-2.06-.94L8.5 2.5l-.94 2.06-2.06.94zm10 10l.94 2.06.94-2.06 2.06-.94-2.06-.94-.94-2.06-.94 2.06-2.06.94z\"/><path d=\"M17.41 7.96l-1.37-1.37c-.4-.4-.92-.59-1.43-.59-.52 0-1.04.2-1.43.59L10.3 9.45l-7.72 7.72c-.78.78-.78 2.05 0 2.83L4 21.41c.39.39.9.59 1.41.59.51 0 1.02-.2 1.41-.59l7.78-7.78 2.81-2.81c.8-.78.8-2.07 0-2.86zM5.41 20L4 18.59l7.72-7.72 1.47 1.35L5.41 20z\"/>\n",
              "  </svg>\n",
              "      </button>\n",
              "      \n",
              "  <style>\n",
              "    .colab-df-container {\n",
              "      display:flex;\n",
              "      flex-wrap:wrap;\n",
              "      gap: 12px;\n",
              "    }\n",
              "\n",
              "    .colab-df-convert {\n",
              "      background-color: #E8F0FE;\n",
              "      border: none;\n",
              "      border-radius: 50%;\n",
              "      cursor: pointer;\n",
              "      display: none;\n",
              "      fill: #1967D2;\n",
              "      height: 32px;\n",
              "      padding: 0 0 0 0;\n",
              "      width: 32px;\n",
              "    }\n",
              "\n",
              "    .colab-df-convert:hover {\n",
              "      background-color: #E2EBFA;\n",
              "      box-shadow: 0px 1px 2px rgba(60, 64, 67, 0.3), 0px 1px 3px 1px rgba(60, 64, 67, 0.15);\n",
              "      fill: #174EA6;\n",
              "    }\n",
              "\n",
              "    [theme=dark] .colab-df-convert {\n",
              "      background-color: #3B4455;\n",
              "      fill: #D2E3FC;\n",
              "    }\n",
              "\n",
              "    [theme=dark] .colab-df-convert:hover {\n",
              "      background-color: #434B5C;\n",
              "      box-shadow: 0px 1px 3px 1px rgba(0, 0, 0, 0.15);\n",
              "      filter: drop-shadow(0px 1px 2px rgba(0, 0, 0, 0.3));\n",
              "      fill: #FFFFFF;\n",
              "    }\n",
              "  </style>\n",
              "\n",
              "      <script>\n",
              "        const buttonEl =\n",
              "          document.querySelector('#df-d90a8eb8-a7d0-43a7-8914-bf75d299256f button.colab-df-convert');\n",
              "        buttonEl.style.display =\n",
              "          google.colab.kernel.accessAllowed ? 'block' : 'none';\n",
              "\n",
              "        async function convertToInteractive(key) {\n",
              "          const element = document.querySelector('#df-d90a8eb8-a7d0-43a7-8914-bf75d299256f');\n",
              "          const dataTable =\n",
              "            await google.colab.kernel.invokeFunction('convertToInteractive',\n",
              "                                                     [key], {});\n",
              "          if (!dataTable) return;\n",
              "\n",
              "          const docLinkHtml = 'Like what you see? Visit the ' +\n",
              "            '<a target=\"_blank\" href=https://colab.research.google.com/notebooks/data_table.ipynb>data table notebook</a>'\n",
              "            + ' to learn more about interactive tables.';\n",
              "          element.innerHTML = '';\n",
              "          dataTable['output_type'] = 'display_data';\n",
              "          await google.colab.output.renderOutput(dataTable, element);\n",
              "          const docLink = document.createElement('div');\n",
              "          docLink.innerHTML = docLinkHtml;\n",
              "          element.appendChild(docLink);\n",
              "        }\n",
              "      </script>\n",
              "    </div>\n",
              "  </div>\n",
              "  "
            ]
          },
          "metadata": {},
          "execution_count": 221
        }
      ]
    },
    {
      "cell_type": "code",
      "source": [
        "test2=test[2]\n",
        "test2"
      ],
      "metadata": {
        "colab": {
          "base_uri": "https://localhost:8080/"
        },
        "id": "UBm-1WOugCAV",
        "outputId": "1a4a77d6-061a-40d2-c2c1-d7d394a086ca"
      },
      "execution_count": 222,
      "outputs": [
        {
          "output_type": "execute_result",
          "data": {
            "text/plain": [
              "saledate\n",
              "2018-06-30    506116.0\n",
              "2018-09-30    504318.0\n",
              "2018-12-31    506001.0\n",
              "2019-03-31    496133.0\n",
              "2019-06-30    500158.0\n",
              "2019-09-30    510712.0\n",
              "Name: 2, dtype: float64"
            ]
          },
          "metadata": {},
          "execution_count": 222
        }
      ]
    },
    {
      "cell_type": "code",
      "source": [
        "train2=train[2]\n",
        "train2"
      ],
      "metadata": {
        "colab": {
          "base_uri": "https://localhost:8080/"
        },
        "id": "huwIHoJfgFWk",
        "outputId": "c3f6e714-a66f-4c93-ef99-b7c54f47bc24"
      },
      "execution_count": 223,
      "outputs": [
        {
          "output_type": "execute_result",
          "data": {
            "text/plain": [
              "saledate\n",
              "2007-03-31    441854.0\n",
              "2007-06-30    441854.0\n",
              "2007-09-30    441854.0\n",
              "2007-12-31    441854.0\n",
              "2008-03-31    441854.0\n",
              "2008-06-30    441854.0\n",
              "2008-09-30    451583.0\n",
              "2008-12-31    440256.0\n",
              "2009-03-31    442566.0\n",
              "2009-06-30    446113.0\n",
              "2009-09-30    440123.0\n",
              "2009-12-31    442131.0\n",
              "2010-03-31    459222.0\n",
              "2010-06-30    456822.0\n",
              "2010-09-30    457806.0\n",
              "2010-12-31    459109.0\n",
              "2011-03-31    460758.0\n",
              "2011-06-30    464788.0\n",
              "2011-09-30    467546.0\n",
              "2011-12-31    470333.0\n",
              "2012-03-31    470365.0\n",
              "2012-06-30    469149.0\n",
              "2012-09-30    465919.0\n",
              "2012-12-31    463090.0\n",
              "2013-03-31    451077.0\n",
              "2013-06-30    451516.0\n",
              "2013-09-30    454270.0\n",
              "2013-12-31    456548.0\n",
              "2014-03-31    469920.0\n",
              "2014-06-30    472726.0\n",
              "2014-09-30    475326.0\n",
              "2014-12-31    478413.0\n",
              "2015-03-31    478398.0\n",
              "2015-06-30    477238.0\n",
              "2015-09-30    477330.0\n",
              "2015-12-31    479010.0\n",
              "2016-03-31    482440.0\n",
              "2016-06-30    486436.0\n",
              "2016-09-30    489104.0\n",
              "2016-12-31    491152.0\n",
              "2017-03-31    494544.0\n",
              "2017-06-30    498846.0\n",
              "2017-09-30    504592.0\n",
              "2017-12-31    506578.0\n",
              "2018-03-31    507248.0\n",
              "Name: 2, dtype: float64"
            ]
          },
          "metadata": {},
          "execution_count": 223
        }
      ]
    },
    {
      "cell_type": "code",
      "source": [
        "model.fit(train2)"
      ],
      "metadata": {
        "colab": {
          "base_uri": "https://localhost:8080/"
        },
        "id": "o1PYejbWgvA8",
        "outputId": "9f5fe35b-4eac-4234-8a97-98d9bbf2d1fb"
      },
      "execution_count": 241,
      "outputs": [
        {
          "output_type": "execute_result",
          "data": {
            "text/plain": [
              "ARIMA(order=(0, 1, 0), scoring_args={}, seasonal_order=(0, 0, 0, 4),\n",
              "      suppress_warnings=True)"
            ]
          },
          "metadata": {},
          "execution_count": 241
        }
      ]
    },
    {
      "cell_type": "code",
      "source": [
        "forecast=model.predict(n_periods=6,return_conf_int=False)"
      ],
      "metadata": {
        "id": "-a_NSZ_wiN4A"
      },
      "execution_count": 225,
      "outputs": []
    },
    {
      "cell_type": "code",
      "source": [
        "forecast"
      ],
      "metadata": {
        "colab": {
          "base_uri": "https://localhost:8080/"
        },
        "id": "O2PXKLPflHbS",
        "outputId": "cda0eff7-2d99-490b-9d99-78a609cf5ec5"
      },
      "execution_count": 226,
      "outputs": [
        {
          "output_type": "execute_result",
          "data": {
            "text/plain": [
              "array([508734.22727273, 510220.45454545, 511706.68181818, 513192.90909091,\n",
              "       514679.13636364, 516165.36363636])"
            ]
          },
          "metadata": {},
          "execution_count": 226
        }
      ]
    },
    {
      "cell_type": "code",
      "source": [
        "pred2 = pd.DataFrame(index=test2.index, data=forecast)\n",
        "pred2"
      ],
      "metadata": {
        "colab": {
          "base_uri": "https://localhost:8080/",
          "height": 269
        },
        "id": "HvG35Fa5lQJF",
        "outputId": "91a43602-99c2-44c5-f721-b6db5da9f814"
      },
      "execution_count": 253,
      "outputs": [
        {
          "output_type": "execute_result",
          "data": {
            "text/plain": [
              "                        0\n",
              "saledate                 \n",
              "2018-06-30  508734.227273\n",
              "2018-09-30  510220.454545\n",
              "2018-12-31  511706.681818\n",
              "2019-03-31  513192.909091\n",
              "2019-06-30  514679.136364\n",
              "2019-09-30  516165.363636"
            ],
            "text/html": [
              "\n",
              "  <div id=\"df-e203ae04-84d2-48c5-adcf-b48fc13fcc22\">\n",
              "    <div class=\"colab-df-container\">\n",
              "      <div>\n",
              "<style scoped>\n",
              "    .dataframe tbody tr th:only-of-type {\n",
              "        vertical-align: middle;\n",
              "    }\n",
              "\n",
              "    .dataframe tbody tr th {\n",
              "        vertical-align: top;\n",
              "    }\n",
              "\n",
              "    .dataframe thead th {\n",
              "        text-align: right;\n",
              "    }\n",
              "</style>\n",
              "<table border=\"1\" class=\"dataframe\">\n",
              "  <thead>\n",
              "    <tr style=\"text-align: right;\">\n",
              "      <th></th>\n",
              "      <th>0</th>\n",
              "    </tr>\n",
              "    <tr>\n",
              "      <th>saledate</th>\n",
              "      <th></th>\n",
              "    </tr>\n",
              "  </thead>\n",
              "  <tbody>\n",
              "    <tr>\n",
              "      <th>2018-06-30</th>\n",
              "      <td>508734.227273</td>\n",
              "    </tr>\n",
              "    <tr>\n",
              "      <th>2018-09-30</th>\n",
              "      <td>510220.454545</td>\n",
              "    </tr>\n",
              "    <tr>\n",
              "      <th>2018-12-31</th>\n",
              "      <td>511706.681818</td>\n",
              "    </tr>\n",
              "    <tr>\n",
              "      <th>2019-03-31</th>\n",
              "      <td>513192.909091</td>\n",
              "    </tr>\n",
              "    <tr>\n",
              "      <th>2019-06-30</th>\n",
              "      <td>514679.136364</td>\n",
              "    </tr>\n",
              "    <tr>\n",
              "      <th>2019-09-30</th>\n",
              "      <td>516165.363636</td>\n",
              "    </tr>\n",
              "  </tbody>\n",
              "</table>\n",
              "</div>\n",
              "      <button class=\"colab-df-convert\" onclick=\"convertToInteractive('df-e203ae04-84d2-48c5-adcf-b48fc13fcc22')\"\n",
              "              title=\"Convert this dataframe to an interactive table.\"\n",
              "              style=\"display:none;\">\n",
              "        \n",
              "  <svg xmlns=\"http://www.w3.org/2000/svg\" height=\"24px\"viewBox=\"0 0 24 24\"\n",
              "       width=\"24px\">\n",
              "    <path d=\"M0 0h24v24H0V0z\" fill=\"none\"/>\n",
              "    <path d=\"M18.56 5.44l.94 2.06.94-2.06 2.06-.94-2.06-.94-.94-2.06-.94 2.06-2.06.94zm-11 1L8.5 8.5l.94-2.06 2.06-.94-2.06-.94L8.5 2.5l-.94 2.06-2.06.94zm10 10l.94 2.06.94-2.06 2.06-.94-2.06-.94-.94-2.06-.94 2.06-2.06.94z\"/><path d=\"M17.41 7.96l-1.37-1.37c-.4-.4-.92-.59-1.43-.59-.52 0-1.04.2-1.43.59L10.3 9.45l-7.72 7.72c-.78.78-.78 2.05 0 2.83L4 21.41c.39.39.9.59 1.41.59.51 0 1.02-.2 1.41-.59l7.78-7.78 2.81-2.81c.8-.78.8-2.07 0-2.86zM5.41 20L4 18.59l7.72-7.72 1.47 1.35L5.41 20z\"/>\n",
              "  </svg>\n",
              "      </button>\n",
              "      \n",
              "  <style>\n",
              "    .colab-df-container {\n",
              "      display:flex;\n",
              "      flex-wrap:wrap;\n",
              "      gap: 12px;\n",
              "    }\n",
              "\n",
              "    .colab-df-convert {\n",
              "      background-color: #E8F0FE;\n",
              "      border: none;\n",
              "      border-radius: 50%;\n",
              "      cursor: pointer;\n",
              "      display: none;\n",
              "      fill: #1967D2;\n",
              "      height: 32px;\n",
              "      padding: 0 0 0 0;\n",
              "      width: 32px;\n",
              "    }\n",
              "\n",
              "    .colab-df-convert:hover {\n",
              "      background-color: #E2EBFA;\n",
              "      box-shadow: 0px 1px 2px rgba(60, 64, 67, 0.3), 0px 1px 3px 1px rgba(60, 64, 67, 0.15);\n",
              "      fill: #174EA6;\n",
              "    }\n",
              "\n",
              "    [theme=dark] .colab-df-convert {\n",
              "      background-color: #3B4455;\n",
              "      fill: #D2E3FC;\n",
              "    }\n",
              "\n",
              "    [theme=dark] .colab-df-convert:hover {\n",
              "      background-color: #434B5C;\n",
              "      box-shadow: 0px 1px 3px 1px rgba(0, 0, 0, 0.15);\n",
              "      filter: drop-shadow(0px 1px 2px rgba(0, 0, 0, 0.3));\n",
              "      fill: #FFFFFF;\n",
              "    }\n",
              "  </style>\n",
              "\n",
              "      <script>\n",
              "        const buttonEl =\n",
              "          document.querySelector('#df-e203ae04-84d2-48c5-adcf-b48fc13fcc22 button.colab-df-convert');\n",
              "        buttonEl.style.display =\n",
              "          google.colab.kernel.accessAllowed ? 'block' : 'none';\n",
              "\n",
              "        async function convertToInteractive(key) {\n",
              "          const element = document.querySelector('#df-e203ae04-84d2-48c5-adcf-b48fc13fcc22');\n",
              "          const dataTable =\n",
              "            await google.colab.kernel.invokeFunction('convertToInteractive',\n",
              "                                                     [key], {});\n",
              "          if (!dataTable) return;\n",
              "\n",
              "          const docLinkHtml = 'Like what you see? Visit the ' +\n",
              "            '<a target=\"_blank\" href=https://colab.research.google.com/notebooks/data_table.ipynb>data table notebook</a>'\n",
              "            + ' to learn more about interactive tables.';\n",
              "          element.innerHTML = '';\n",
              "          dataTable['output_type'] = 'display_data';\n",
              "          await google.colab.output.renderOutput(dataTable, element);\n",
              "          const docLink = document.createElement('div');\n",
              "          docLink.innerHTML = docLinkHtml;\n",
              "          element.appendChild(docLink);\n",
              "        }\n",
              "      </script>\n",
              "    </div>\n",
              "  </div>\n",
              "  "
            ]
          },
          "metadata": {},
          "execution_count": 253
        }
      ]
    },
    {
      "cell_type": "code",
      "source": [
        "test2\n"
      ],
      "metadata": {
        "colab": {
          "base_uri": "https://localhost:8080/"
        },
        "id": "g6OLW_AUpxlS",
        "outputId": "2e4dc07e-e794-4181-d027-39c86a5c31c1"
      },
      "execution_count": 254,
      "outputs": [
        {
          "output_type": "execute_result",
          "data": {
            "text/plain": [
              "saledate\n",
              "2018-06-30    506116.0\n",
              "2018-09-30    504318.0\n",
              "2018-12-31    506001.0\n",
              "2019-03-31    496133.0\n",
              "2019-06-30    500158.0\n",
              "2019-09-30    510712.0\n",
              "Name: 2, dtype: float64"
            ]
          },
          "metadata": {},
          "execution_count": 254
        }
      ]
    },
    {
      "cell_type": "code",
      "source": [
        "test2.mean()"
      ],
      "metadata": {
        "colab": {
          "base_uri": "https://localhost:8080/"
        },
        "id": "N7KVA0tzqLjR",
        "outputId": "d3cad28a-a472-4528-f9e1-05cbbb10a5ff"
      },
      "execution_count": 255,
      "outputs": [
        {
          "output_type": "execute_result",
          "data": {
            "text/plain": [
              "503906.3333333333"
            ]
          },
          "metadata": {},
          "execution_count": 255
        }
      ]
    },
    {
      "cell_type": "code",
      "source": [
        "from sklearn.metrics import mean_squared_error\n",
        "from math import sqrt\n",
        "from sklearn.metrics import mean_squared_error\n",
        "from math import sqrt\n",
        "\n",
        "rmse2=sqrt(mean_squared_error(test2,pred2))\n",
        "\n",
        "print('2 bedrooms rmse',rmse2)\n"
      ],
      "metadata": {
        "colab": {
          "base_uri": "https://localhost:8080/"
        },
        "id": "GpSMEuf3nbUo",
        "outputId": "ee6daec3-7ca9-4b1c-9ff4-3ca38c790796"
      },
      "execution_count": 256,
      "outputs": [
        {
          "output_type": "stream",
          "name": "stdout",
          "text": [
            "2 bedrooms rmse 10048.97974220076\n"
          ]
        }
      ]
    },
    {
      "cell_type": "code",
      "source": [
        "#MAPE\n",
        "import numpy as np\n",
        "def mean_absolute_percentage_error(y_true, y_pred):\n",
        "    y_true, y_pred = np.array(y_true), np.array(y_pred)\n",
        "    return np.mean(np.abs((y_true - y_pred) / y_true)) * 100\n",
        "\n",
        "mape2=mean_absolute_percentage_error(test2,pred2)\n",
        "print('2 bedrooms',mape2)\n"
      ],
      "metadata": {
        "colab": {
          "base_uri": "https://localhost:8080/"
        },
        "id": "B6Jkb2V6p8Wv",
        "outputId": "008cc90a-ef8d-4001-b14b-5810d4cd76c2"
      },
      "execution_count": 257,
      "outputs": [
        {
          "output_type": "stream",
          "name": "stdout",
          "text": [
            "2 bedrooms 1.7310271772561687\n"
          ]
        }
      ]
    },
    {
      "cell_type": "code",
      "source": [
        "plt.plot(pred2, color='blue', label='prediction')\n",
        "plt.plot(test2, color= 'orange', label= 'actual')\n",
        "plt.legend(loc='best')\n"
      ],
      "metadata": {
        "colab": {
          "base_uri": "https://localhost:8080/",
          "height": 500
        },
        "id": "340qC4j9rJ5R",
        "outputId": "3859fbd1-7b4a-42c9-bc2b-f700d1a6dd02"
      },
      "execution_count": 258,
      "outputs": [
        {
          "output_type": "execute_result",
          "data": {
            "text/plain": [
              "<matplotlib.legend.Legend at 0x7fbed51784d0>"
            ]
          },
          "metadata": {},
          "execution_count": 258
        },
        {
          "output_type": "display_data",
          "data": {
            "text/plain": [
              "<Figure size 720x576 with 1 Axes>"
            ],
            "image/png": "[encoded data removed]"
          },
          "metadata": {
            "needs_background": "light"
          }
        }
      ]
    },
    {
      "cell_type": "code",
      "source": [
        "# Forecasting 4 future qarters\n",
        "forecast1=model.predict(n_periods=4, return_conf_int=False,)\n",
        "forecast_range=pd.date_range(start='2019-09-30', periods=4,freq='Q')\n",
        "future = pd.DataFrame(index=forecast_range,data=forecast1)\n",
        "future.astype(int)"
      ],
      "metadata": {
        "colab": {
          "base_uri": "https://localhost:8080/",
          "height": 174
        },
        "id": "mZufMityzBhE",
        "outputId": "e1b9b4e4-b62d-4418-f57a-01a3d7a71c8a"
      },
      "execution_count": 313,
      "outputs": [
        {
          "output_type": "execute_result",
          "data": {
            "text/plain": [
              "                 0\n",
              "2019-09-30  624145\n",
              "2019-12-31  628653\n",
              "2020-03-31  633161\n",
              "2020-06-30  637669"
            ],
            "text/html": [
              "\n",
              "  <div id=\"df-87143cf8-e50e-4884-98c8-f4ba6cc7685b\">\n",
              "    <div class=\"colab-df-container\">\n",
              "      <div>\n",
              "<style scoped>\n",
              "    .dataframe tbody tr th:only-of-type {\n",
              "        vertical-align: middle;\n",
              "    }\n",
              "\n",
              "    .dataframe tbody tr th {\n",
              "        vertical-align: top;\n",
              "    }\n",
              "\n",
              "    .dataframe thead th {\n",
              "        text-align: right;\n",
              "    }\n",
              "</style>\n",
              "<table border=\"1\" class=\"dataframe\">\n",
              "  <thead>\n",
              "    <tr style=\"text-align: right;\">\n",
              "      <th></th>\n",
              "      <th>0</th>\n",
              "    </tr>\n",
              "  </thead>\n",
              "  <tbody>\n",
              "    <tr>\n",
              "      <th>2019-09-30</th>\n",
              "      <td>624145</td>\n",
              "    </tr>\n",
              "    <tr>\n",
              "      <th>2019-12-31</th>\n",
              "      <td>628653</td>\n",
              "    </tr>\n",
              "    <tr>\n",
              "      <th>2020-03-31</th>\n",
              "      <td>633161</td>\n",
              "    </tr>\n",
              "    <tr>\n",
              "      <th>2020-06-30</th>\n",
              "      <td>637669</td>\n",
              "    </tr>\n",
              "  </tbody>\n",
              "</table>\n",
              "</div>\n",
              "      <button class=\"colab-df-convert\" onclick=\"convertToInteractive('df-87143cf8-e50e-4884-98c8-f4ba6cc7685b')\"\n",
              "              title=\"Convert this dataframe to an interactive table.\"\n",
              "              style=\"display:none;\">\n",
              "        \n",
              "  <svg xmlns=\"http://www.w3.org/2000/svg\" height=\"24px\"viewBox=\"0 0 24 24\"\n",
              "       width=\"24px\">\n",
              "    <path d=\"M0 0h24v24H0V0z\" fill=\"none\"/>\n",
              "    <path d=\"M18.56 5.44l.94 2.06.94-2.06 2.06-.94-2.06-.94-.94-2.06-.94 2.06-2.06.94zm-11 1L8.5 8.5l.94-2.06 2.06-.94-2.06-.94L8.5 2.5l-.94 2.06-2.06.94zm10 10l.94 2.06.94-2.06 2.06-.94-2.06-.94-.94-2.06-.94 2.06-2.06.94z\"/><path d=\"M17.41 7.96l-1.37-1.37c-.4-.4-.92-.59-1.43-.59-.52 0-1.04.2-1.43.59L10.3 9.45l-7.72 7.72c-.78.78-.78 2.05 0 2.83L4 21.41c.39.39.9.59 1.41.59.51 0 1.02-.2 1.41-.59l7.78-7.78 2.81-2.81c.8-.78.8-2.07 0-2.86zM5.41 20L4 18.59l7.72-7.72 1.47 1.35L5.41 20z\"/>\n",
              "  </svg>\n",
              "      </button>\n",
              "      \n",
              "  <style>\n",
              "    .colab-df-container {\n",
              "      display:flex;\n",
              "      flex-wrap:wrap;\n",
              "      gap: 12px;\n",
              "    }\n",
              "\n",
              "    .colab-df-convert {\n",
              "      background-color: #E8F0FE;\n",
              "      border: none;\n",
              "      border-radius: 50%;\n",
              "      cursor: pointer;\n",
              "      display: none;\n",
              "      fill: #1967D2;\n",
              "      height: 32px;\n",
              "      padding: 0 0 0 0;\n",
              "      width: 32px;\n",
              "    }\n",
              "\n",
              "    .colab-df-convert:hover {\n",
              "      background-color: #E2EBFA;\n",
              "      box-shadow: 0px 1px 2px rgba(60, 64, 67, 0.3), 0px 1px 3px 1px rgba(60, 64, 67, 0.15);\n",
              "      fill: #174EA6;\n",
              "    }\n",
              "\n",
              "    [theme=dark] .colab-df-convert {\n",
              "      background-color: #3B4455;\n",
              "      fill: #D2E3FC;\n",
              "    }\n",
              "\n",
              "    [theme=dark] .colab-df-convert:hover {\n",
              "      background-color: #434B5C;\n",
              "      box-shadow: 0px 1px 3px 1px rgba(0, 0, 0, 0.15);\n",
              "      filter: drop-shadow(0px 1px 2px rgba(0, 0, 0, 0.3));\n",
              "      fill: #FFFFFF;\n",
              "    }\n",
              "  </style>\n",
              "\n",
              "      <script>\n",
              "        const buttonEl =\n",
              "          document.querySelector('#df-87143cf8-e50e-4884-98c8-f4ba6cc7685b button.colab-df-convert');\n",
              "        buttonEl.style.display =\n",
              "          google.colab.kernel.accessAllowed ? 'block' : 'none';\n",
              "\n",
              "        async function convertToInteractive(key) {\n",
              "          const element = document.querySelector('#df-87143cf8-e50e-4884-98c8-f4ba6cc7685b');\n",
              "          const dataTable =\n",
              "            await google.colab.kernel.invokeFunction('convertToInteractive',\n",
              "                                                     [key], {});\n",
              "          if (!dataTable) return;\n",
              "\n",
              "          const docLinkHtml = 'Like what you see? Visit the ' +\n",
              "            '<a target=\"_blank\" href=https://colab.research.google.com/notebooks/data_table.ipynb>data table notebook</a>'\n",
              "            + ' to learn more about interactive tables.';\n",
              "          element.innerHTML = '';\n",
              "          dataTable['output_type'] = 'display_data';\n",
              "          await google.colab.output.renderOutput(dataTable, element);\n",
              "          const docLink = document.createElement('div');\n",
              "          docLink.innerHTML = docLinkHtml;\n",
              "          element.appendChild(docLink);\n",
              "        }\n",
              "      </script>\n",
              "    </div>\n",
              "  </div>\n",
              "  "
            ]
          },
          "metadata": {},
          "execution_count": 313
        }
      ]
    },
    {
      "cell_type": "markdown",
      "source": [
        "**FOR 3 BEDROOMS, REPEATING SAME PROCESS**"
      ],
      "metadata": {
        "id": "mC41gQ1QcjB_"
      }
    },
    {
      "cell_type": "code",
      "source": [
        "# only taking column for 3 bedroom\n",
        "model3 = pm.auto_arima(df[3], \n",
        "                        m=4, seasonal=True,\n",
        "                      start_p=0, start_q=0, max_order=4, test='adf',error_action='ignore',  \n",
        "                           suppress_warnings=True,\n",
        "                      stepwise=True, trace=True)"
      ],
      "metadata": {
        "colab": {
          "base_uri": "https://localhost:8080/"
        },
        "id": "U2HNosK044Lo",
        "outputId": "d98421c7-ab36-434f-f8da-bb4db9d2eb43"
      },
      "execution_count": 260,
      "outputs": [
        {
          "output_type": "stream",
          "name": "stdout",
          "text": [
            "Performing stepwise search to minimize aic\n",
            " ARIMA(0,0,0)(1,0,1)[4] intercept   : AIC=1257.793, Time=0.14 sec\n",
            " ARIMA(0,0,0)(0,0,0)[4] intercept   : AIC=1282.082, Time=0.01 sec\n",
            " ARIMA(1,0,0)(1,0,0)[4] intercept   : AIC=inf, Time=0.16 sec\n",
            " ARIMA(0,0,1)(0,0,1)[4] intercept   : AIC=inf, Time=0.19 sec\n",
            " ARIMA(0,0,0)(0,0,0)[4]             : AIC=1489.734, Time=0.01 sec\n",
            " ARIMA(0,0,0)(0,0,1)[4] intercept   : AIC=1255.966, Time=0.03 sec\n",
            " ARIMA(0,0,0)(0,0,2)[4] intercept   : AIC=1250.750, Time=0.05 sec\n",
            " ARIMA(0,0,0)(1,0,2)[4] intercept   : AIC=1252.700, Time=0.12 sec\n",
            " ARIMA(1,0,0)(0,0,2)[4] intercept   : AIC=999.846, Time=0.20 sec\n",
            " ARIMA(1,0,0)(0,0,1)[4] intercept   : AIC=1011.080, Time=0.17 sec\n",
            " ARIMA(1,0,0)(1,0,2)[4] intercept   : AIC=1000.637, Time=0.43 sec\n",
            " ARIMA(1,0,0)(1,0,1)[4] intercept   : AIC=1002.385, Time=0.18 sec\n",
            " ARIMA(2,0,0)(0,0,2)[4] intercept   : AIC=940.545, Time=0.28 sec\n",
            " ARIMA(2,0,0)(0,0,1)[4] intercept   : AIC=939.335, Time=0.17 sec\n",
            " ARIMA(2,0,0)(0,0,0)[4] intercept   : AIC=948.013, Time=0.04 sec\n",
            " ARIMA(2,0,0)(1,0,1)[4] intercept   : AIC=941.339, Time=0.31 sec\n",
            " ARIMA(2,0,0)(1,0,0)[4] intercept   : AIC=942.951, Time=0.16 sec\n",
            " ARIMA(2,0,0)(1,0,2)[4] intercept   : AIC=941.269, Time=0.51 sec\n",
            " ARIMA(3,0,0)(0,0,1)[4] intercept   : AIC=942.808, Time=0.12 sec\n",
            " ARIMA(2,0,1)(0,0,1)[4] intercept   : AIC=943.833, Time=0.15 sec\n",
            " ARIMA(1,0,1)(0,0,1)[4] intercept   : AIC=inf, Time=0.21 sec\n",
            " ARIMA(3,0,1)(0,0,1)[4] intercept   : AIC=inf, Time=0.34 sec\n",
            " ARIMA(2,0,0)(0,0,1)[4]             : AIC=inf, Time=0.27 sec\n",
            "\n",
            "Best model:  ARIMA(2,0,0)(0,0,1)[4] intercept\n",
            "Total fit time: 4.305 seconds\n"
          ]
        }
      ]
    },
    {
      "cell_type": "code",
      "source": [
        "from sklearn.model_selection import train_test_split\n",
        "train,test= train_test_split(df, test_size=0.10,shuffle=False)\n"
      ],
      "metadata": {
        "id": "1XYcf9WCdiJC"
      },
      "execution_count": 261,
      "outputs": []
    },
    {
      "cell_type": "code",
      "source": [
        "test3=test[3]\n",
        "test3"
      ],
      "metadata": {
        "colab": {
          "base_uri": "https://localhost:8080/"
        },
        "id": "3RUDPuq9hGw4",
        "outputId": "8fb5340e-7d86-4821-83f3-6705f0aa05d1"
      },
      "execution_count": 262,
      "outputs": [
        {
          "output_type": "execute_result",
          "data": {
            "text/plain": [
              "saledate\n",
              "2018-06-30    622466.0\n",
              "2018-09-30    624602.0\n",
              "2018-12-31    626608.0\n",
              "2019-03-31    628423.0\n",
              "2019-06-30    630814.0\n",
              "2019-09-30    631875.0\n",
              "Name: 3, dtype: float64"
            ]
          },
          "metadata": {},
          "execution_count": 262
        }
      ]
    },
    {
      "cell_type": "code",
      "source": [
        "train3=train[3]"
      ],
      "metadata": {
        "id": "W5-sFv1Nhtn5"
      },
      "execution_count": 263,
      "outputs": []
    },
    {
      "cell_type": "code",
      "source": [
        "model3.fit(train3)"
      ],
      "metadata": {
        "colab": {
          "base_uri": "https://localhost:8080/"
        },
        "id": "2ap0w_f7gzkk",
        "outputId": "64a1a0e5-8f0f-46b9-bbcf-3e5fc870f49f"
      },
      "execution_count": 287,
      "outputs": [
        {
          "output_type": "execute_result",
          "data": {
            "text/plain": [
              "ARIMA(order=(2, 0, 0), scoring_args={}, seasonal_order=(0, 0, 1, 4),\n",
              "      suppress_warnings=True)"
            ]
          },
          "metadata": {},
          "execution_count": 287
        }
      ]
    },
    {
      "cell_type": "code",
      "source": [
        "forecast3=model3.predict(n_periods=6,return_conf_int=False)"
      ],
      "metadata": {
        "id": "-j3B5RSGhzvE"
      },
      "execution_count": 289,
      "outputs": []
    },
    {
      "cell_type": "code",
      "source": [
        "pred3 = pd.DataFrame(index=test3.index, data=forecast3)\n",
        "pred3"
      ],
      "metadata": {
        "colab": {
          "base_uri": "https://localhost:8080/",
          "height": 269
        },
        "id": "pOMgcCH3iHyy",
        "outputId": "c0ee0dd4-5abf-48be-f733-4ceda3241c10"
      },
      "execution_count": 290,
      "outputs": [
        {
          "output_type": "execute_result",
          "data": {
            "text/plain": [
              "                        0\n",
              "saledate                 \n",
              "2018-06-30  622089.519491\n",
              "2018-09-30  624195.295262\n",
              "2018-12-31  626090.532406\n",
              "2019-03-31  627868.152680\n",
              "2019-06-30  629169.506269\n",
              "2019-09-30  629994.159193"
            ],
            "text/html": [
              "\n",
              "  <div id=\"df-74dfbf27-a981-4966-ab3d-a13bceb3f239\">\n",
              "    <div class=\"colab-df-container\">\n",
              "      <div>\n",
              "<style scoped>\n",
              "    .dataframe tbody tr th:only-of-type {\n",
              "        vertical-align: middle;\n",
              "    }\n",
              "\n",
              "    .dataframe tbody tr th {\n",
              "        vertical-align: top;\n",
              "    }\n",
              "\n",
              "    .dataframe thead th {\n",
              "        text-align: right;\n",
              "    }\n",
              "</style>\n",
              "<table border=\"1\" class=\"dataframe\">\n",
              "  <thead>\n",
              "    <tr style=\"text-align: right;\">\n",
              "      <th></th>\n",
              "      <th>0</th>\n",
              "    </tr>\n",
              "    <tr>\n",
              "      <th>saledate</th>\n",
              "      <th></th>\n",
              "    </tr>\n",
              "  </thead>\n",
              "  <tbody>\n",
              "    <tr>\n",
              "      <th>2018-06-30</th>\n",
              "      <td>622089.519491</td>\n",
              "    </tr>\n",
              "    <tr>\n",
              "      <th>2018-09-30</th>\n",
              "      <td>624195.295262</td>\n",
              "    </tr>\n",
              "    <tr>\n",
              "      <th>2018-12-31</th>\n",
              "      <td>626090.532406</td>\n",
              "    </tr>\n",
              "    <tr>\n",
              "      <th>2019-03-31</th>\n",
              "      <td>627868.152680</td>\n",
              "    </tr>\n",
              "    <tr>\n",
              "      <th>2019-06-30</th>\n",
              "      <td>629169.506269</td>\n",
              "    </tr>\n",
              "    <tr>\n",
              "      <th>2019-09-30</th>\n",
              "      <td>629994.159193</td>\n",
              "    </tr>\n",
              "  </tbody>\n",
              "</table>\n",
              "</div>\n",
              "      <button class=\"colab-df-convert\" onclick=\"convertToInteractive('df-74dfbf27-a981-4966-ab3d-a13bceb3f239')\"\n",
              "              title=\"Convert this dataframe to an interactive table.\"\n",
              "              style=\"display:none;\">\n",
              "        \n",
              "  <svg xmlns=\"http://www.w3.org/2000/svg\" height=\"24px\"viewBox=\"0 0 24 24\"\n",
              "       width=\"24px\">\n",
              "    <path d=\"M0 0h24v24H0V0z\" fill=\"none\"/>\n",
              "    <path d=\"M18.56 5.44l.94 2.06.94-2.06 2.06-.94-2.06-.94-.94-2.06-.94 2.06-2.06.94zm-11 1L8.5 8.5l.94-2.06 2.06-.94-2.06-.94L8.5 2.5l-.94 2.06-2.06.94zm10 10l.94 2.06.94-2.06 2.06-.94-2.06-.94-.94-2.06-.94 2.06-2.06.94z\"/><path d=\"M17.41 7.96l-1.37-1.37c-.4-.4-.92-.59-1.43-.59-.52 0-1.04.2-1.43.59L10.3 9.45l-7.72 7.72c-.78.78-.78 2.05 0 2.83L4 21.41c.39.39.9.59 1.41.59.51 0 1.02-.2 1.41-.59l7.78-7.78 2.81-2.81c.8-.78.8-2.07 0-2.86zM5.41 20L4 18.59l7.72-7.72 1.47 1.35L5.41 20z\"/>\n",
              "  </svg>\n",
              "      </button>\n",
              "      \n",
              "  <style>\n",
              "    .colab-df-container {\n",
              "      display:flex;\n",
              "      flex-wrap:wrap;\n",
              "      gap: 12px;\n",
              "    }\n",
              "\n",
              "    .colab-df-convert {\n",
              "      background-color: #E8F0FE;\n",
              "      border: none;\n",
              "      border-radius: 50%;\n",
              "      cursor: pointer;\n",
              "      display: none;\n",
              "      fill: #1967D2;\n",
              "      height: 32px;\n",
              "      padding: 0 0 0 0;\n",
              "      width: 32px;\n",
              "    }\n",
              "\n",
              "    .colab-df-convert:hover {\n",
              "      background-color: #E2EBFA;\n",
              "      box-shadow: 0px 1px 2px rgba(60, 64, 67, 0.3), 0px 1px 3px 1px rgba(60, 64, 67, 0.15);\n",
              "      fill: #174EA6;\n",
              "    }\n",
              "\n",
              "    [theme=dark] .colab-df-convert {\n",
              "      background-color: #3B4455;\n",
              "      fill: #D2E3FC;\n",
              "    }\n",
              "\n",
              "    [theme=dark] .colab-df-convert:hover {\n",
              "      background-color: #434B5C;\n",
              "      box-shadow: 0px 1px 3px 1px rgba(0, 0, 0, 0.15);\n",
              "      filter: drop-shadow(0px 1px 2px rgba(0, 0, 0, 0.3));\n",
              "      fill: #FFFFFF;\n",
              "    }\n",
              "  </style>\n",
              "\n",
              "      <script>\n",
              "        const buttonEl =\n",
              "          document.querySelector('#df-74dfbf27-a981-4966-ab3d-a13bceb3f239 button.colab-df-convert');\n",
              "        buttonEl.style.display =\n",
              "          google.colab.kernel.accessAllowed ? 'block' : 'none';\n",
              "\n",
              "        async function convertToInteractive(key) {\n",
              "          const element = document.querySelector('#df-74dfbf27-a981-4966-ab3d-a13bceb3f239');\n",
              "          const dataTable =\n",
              "            await google.colab.kernel.invokeFunction('convertToInteractive',\n",
              "                                                     [key], {});\n",
              "          if (!dataTable) return;\n",
              "\n",
              "          const docLinkHtml = 'Like what you see? Visit the ' +\n",
              "            '<a target=\"_blank\" href=https://colab.research.google.com/notebooks/data_table.ipynb>data table notebook</a>'\n",
              "            + ' to learn more about interactive tables.';\n",
              "          element.innerHTML = '';\n",
              "          dataTable['output_type'] = 'display_data';\n",
              "          await google.colab.output.renderOutput(dataTable, element);\n",
              "          const docLink = document.createElement('div');\n",
              "          docLink.innerHTML = docLinkHtml;\n",
              "          element.appendChild(docLink);\n",
              "        }\n",
              "      </script>\n",
              "    </div>\n",
              "  </div>\n",
              "  "
            ]
          },
          "metadata": {},
          "execution_count": 290
        }
      ]
    },
    {
      "cell_type": "code",
      "source": [
        "test3"
      ],
      "metadata": {
        "colab": {
          "base_uri": "https://localhost:8080/"
        },
        "id": "N8qeQyy0kB0Y",
        "outputId": "f5e8fb35-f8eb-4ff5-e6aa-d01bbad07b45"
      },
      "execution_count": 291,
      "outputs": [
        {
          "output_type": "execute_result",
          "data": {
            "text/plain": [
              "saledate\n",
              "2018-06-30    622466.0\n",
              "2018-09-30    624602.0\n",
              "2018-12-31    626608.0\n",
              "2019-03-31    628423.0\n",
              "2019-06-30    630814.0\n",
              "2019-09-30    631875.0\n",
              "Name: 3, dtype: float64"
            ]
          },
          "metadata": {},
          "execution_count": 291
        }
      ]
    },
    {
      "cell_type": "code",
      "source": [
        "#RMSE\n",
        "rmse3=sqrt(mean_squared_error(test3,pred3))\n",
        "\n",
        "print('3 bedrooms rmse',rmse3)\n"
      ],
      "metadata": {
        "colab": {
          "base_uri": "https://localhost:8080/"
        },
        "id": "r_cIHEB4kF5g",
        "outputId": "a260ffc0-f1f0-4a63-83dc-7c32a00a48eb"
      },
      "execution_count": 292,
      "outputs": [
        {
          "output_type": "stream",
          "name": "stdout",
          "text": [
            "3 bedrooms rmse 1089.701514811194\n"
          ]
        }
      ]
    },
    {
      "cell_type": "code",
      "source": [
        "test3.mean()"
      ],
      "metadata": {
        "colab": {
          "base_uri": "https://localhost:8080/"
        },
        "id": "okgj1hROklj1",
        "outputId": "0456d7b7-a33d-42c4-9ca5-a447dbd6cd8d"
      },
      "execution_count": 293,
      "outputs": [
        {
          "output_type": "execute_result",
          "data": {
            "text/plain": [
              "627464.6666666666"
            ]
          },
          "metadata": {},
          "execution_count": 293
        }
      ]
    },
    {
      "cell_type": "code",
      "source": [
        "#MAPE\n",
        "mape3=mean_absolute_percentage_error(test3,pred3)\n",
        "print('3 bedrooms',mape3)"
      ],
      "metadata": {
        "colab": {
          "base_uri": "https://localhost:8080/"
        },
        "id": "-hCqGL-hksVS",
        "outputId": "e1d83e43-7036-40ce-bc5c-8abbe2775ec9"
      },
      "execution_count": 294,
      "outputs": [
        {
          "output_type": "stream",
          "name": "stdout",
          "text": [
            "3 bedrooms 0.5784431046247668\n"
          ]
        }
      ]
    },
    {
      "cell_type": "code",
      "source": [
        "plt.plot(pred3, color='blue', label='prediction')\n",
        "plt.plot(test3, color= 'orange', label= 'actual')\n",
        "plt.legend(loc='best')"
      ],
      "metadata": {
        "colab": {
          "base_uri": "https://localhost:8080/",
          "height": 500
        },
        "id": "KlBPemf0lCjv",
        "outputId": "a3fd7263-a00d-49ba-e2e8-de5f1ecb58be"
      },
      "execution_count": 295,
      "outputs": [
        {
          "output_type": "execute_result",
          "data": {
            "text/plain": [
              "<matplotlib.legend.Legend at 0x7fbed50dd590>"
            ]
          },
          "metadata": {},
          "execution_count": 295
        },
        {
          "output_type": "display_data",
          "data": {
            "text/plain": [
              "<Figure size 720x576 with 1 Axes>"
            ],
            "image/png": "[encoded data removed]"
          },
          "metadata": {
            "needs_background": "light"
          }
        }
      ]
    },
    {
      "cell_type": "code",
      "source": [
        "# Forecasting 4 future qarters\n",
        "forecast3=model.predict(n_periods=4, return_conf_int=False,)\n",
        "forecast_range=pd.date_range(start='2019-09-30', periods=4,freq='Q')\n",
        "future3 = pd.DataFrame(index=forecast_range,data=forecast3)\n",
        "future3.astype(int)"
      ],
      "metadata": {
        "colab": {
          "base_uri": "https://localhost:8080/",
          "height": 174
        },
        "id": "dEO6M4jqlrV_",
        "outputId": "94e41687-07c8-46c9-c910-31d82675c551"
      },
      "execution_count": 312,
      "outputs": [
        {
          "output_type": "execute_result",
          "data": {
            "text/plain": [
              "                 0\n",
              "2019-09-30  624145\n",
              "2019-12-31  628653\n",
              "2020-03-31  633161\n",
              "2020-06-30  637669"
            ],
            "text/html": [
              "\n",
              "  <div id=\"df-900473a3-8357-4522-9b22-13492921329f\">\n",
              "    <div class=\"colab-df-container\">\n",
              "      <div>\n",
              "<style scoped>\n",
              "    .dataframe tbody tr th:only-of-type {\n",
              "        vertical-align: middle;\n",
              "    }\n",
              "\n",
              "    .dataframe tbody tr th {\n",
              "        vertical-align: top;\n",
              "    }\n",
              "\n",
              "    .dataframe thead th {\n",
              "        text-align: right;\n",
              "    }\n",
              "</style>\n",
              "<table border=\"1\" class=\"dataframe\">\n",
              "  <thead>\n",
              "    <tr style=\"text-align: right;\">\n",
              "      <th></th>\n",
              "      <th>0</th>\n",
              "    </tr>\n",
              "  </thead>\n",
              "  <tbody>\n",
              "    <tr>\n",
              "      <th>2019-09-30</th>\n",
              "      <td>624145</td>\n",
              "    </tr>\n",
              "    <tr>\n",
              "      <th>2019-12-31</th>\n",
              "      <td>628653</td>\n",
              "    </tr>\n",
              "    <tr>\n",
              "      <th>2020-03-31</th>\n",
              "      <td>633161</td>\n",
              "    </tr>\n",
              "    <tr>\n",
              "      <th>2020-06-30</th>\n",
              "      <td>637669</td>\n",
              "    </tr>\n",
              "  </tbody>\n",
              "</table>\n",
              "</div>\n",
              "      <button class=\"colab-df-convert\" onclick=\"convertToInteractive('df-900473a3-8357-4522-9b22-13492921329f')\"\n",
              "              title=\"Convert this dataframe to an interactive table.\"\n",
              "              style=\"display:none;\">\n",
              "        \n",
              "  <svg xmlns=\"http://www.w3.org/2000/svg\" height=\"24px\"viewBox=\"0 0 24 24\"\n",
              "       width=\"24px\">\n",
              "    <path d=\"M0 0h24v24H0V0z\" fill=\"none\"/>\n",
              "    <path d=\"M18.56 5.44l.94 2.06.94-2.06 2.06-.94-2.06-.94-.94-2.06-.94 2.06-2.06.94zm-11 1L8.5 8.5l.94-2.06 2.06-.94-2.06-.94L8.5 2.5l-.94 2.06-2.06.94zm10 10l.94 2.06.94-2.06 2.06-.94-2.06-.94-.94-2.06-.94 2.06-2.06.94z\"/><path d=\"M17.41 7.96l-1.37-1.37c-.4-.4-.92-.59-1.43-.59-.52 0-1.04.2-1.43.59L10.3 9.45l-7.72 7.72c-.78.78-.78 2.05 0 2.83L4 21.41c.39.39.9.59 1.41.59.51 0 1.02-.2 1.41-.59l7.78-7.78 2.81-2.81c.8-.78.8-2.07 0-2.86zM5.41 20L4 18.59l7.72-7.72 1.47 1.35L5.41 20z\"/>\n",
              "  </svg>\n",
              "      </button>\n",
              "      \n",
              "  <style>\n",
              "    .colab-df-container {\n",
              "      display:flex;\n",
              "      flex-wrap:wrap;\n",
              "      gap: 12px;\n",
              "    }\n",
              "\n",
              "    .colab-df-convert {\n",
              "      background-color: #E8F0FE;\n",
              "      border: none;\n",
              "      border-radius: 50%;\n",
              "      cursor: pointer;\n",
              "      display: none;\n",
              "      fill: #1967D2;\n",
              "      height: 32px;\n",
              "      padding: 0 0 0 0;\n",
              "      width: 32px;\n",
              "    }\n",
              "\n",
              "    .colab-df-convert:hover {\n",
              "      background-color: #E2EBFA;\n",
              "      box-shadow: 0px 1px 2px rgba(60, 64, 67, 0.3), 0px 1px 3px 1px rgba(60, 64, 67, 0.15);\n",
              "      fill: #174EA6;\n",
              "    }\n",
              "\n",
              "    [theme=dark] .colab-df-convert {\n",
              "      background-color: #3B4455;\n",
              "      fill: #D2E3FC;\n",
              "    }\n",
              "\n",
              "    [theme=dark] .colab-df-convert:hover {\n",
              "      background-color: #434B5C;\n",
              "      box-shadow: 0px 1px 3px 1px rgba(0, 0, 0, 0.15);\n",
              "      filter: drop-shadow(0px 1px 2px rgba(0, 0, 0, 0.3));\n",
              "      fill: #FFFFFF;\n",
              "    }\n",
              "  </style>\n",
              "\n",
              "      <script>\n",
              "        const buttonEl =\n",
              "          document.querySelector('#df-900473a3-8357-4522-9b22-13492921329f button.colab-df-convert');\n",
              "        buttonEl.style.display =\n",
              "          google.colab.kernel.accessAllowed ? 'block' : 'none';\n",
              "\n",
              "        async function convertToInteractive(key) {\n",
              "          const element = document.querySelector('#df-900473a3-8357-4522-9b22-13492921329f');\n",
              "          const dataTable =\n",
              "            await google.colab.kernel.invokeFunction('convertToInteractive',\n",
              "                                                     [key], {});\n",
              "          if (!dataTable) return;\n",
              "\n",
              "          const docLinkHtml = 'Like what you see? Visit the ' +\n",
              "            '<a target=\"_blank\" href=https://colab.research.google.com/notebooks/data_table.ipynb>data table notebook</a>'\n",
              "            + ' to learn more about interactive tables.';\n",
              "          element.innerHTML = '';\n",
              "          dataTable['output_type'] = 'display_data';\n",
              "          await google.colab.output.renderOutput(dataTable, element);\n",
              "          const docLink = document.createElement('div');\n",
              "          docLink.innerHTML = docLinkHtml;\n",
              "          element.appendChild(docLink);\n",
              "        }\n",
              "      </script>\n",
              "    </div>\n",
              "  </div>\n",
              "  "
            ]
          },
          "metadata": {},
          "execution_count": 312
        }
      ]
    },
    {
      "cell_type": "markdown",
      "source": [
        "**FOR 4 BEDROOMS**"
      ],
      "metadata": {
        "id": "WeqkVaUImX3N"
      }
    },
    {
      "cell_type": "code",
      "source": [
        "# only taking column for 4 bedroom\n",
        "model4 = pm.auto_arima(df[4], \n",
        "                        m=4, seasonal=True,\n",
        "                      start_p=0, start_q=0, max_order=4, test='adf',error_action='ignore',  \n",
        "                           suppress_warnings=True,\n",
        "                      stepwise=True, trace=True)"
      ],
      "metadata": {
        "colab": {
          "base_uri": "https://localhost:8080/"
        },
        "id": "SWPTclNrmld1",
        "outputId": "688016bd-3de3-451b-83a3-a593d70f3db3"
      },
      "execution_count": 277,
      "outputs": [
        {
          "output_type": "stream",
          "name": "stdout",
          "text": [
            "Performing stepwise search to minimize aic\n",
            " ARIMA(0,2,0)(1,0,1)[4]             : AIC=930.422, Time=0.05 sec\n",
            " ARIMA(0,2,0)(0,0,0)[4]             : AIC=926.386, Time=0.01 sec\n",
            " ARIMA(1,2,0)(1,0,0)[4]             : AIC=931.475, Time=0.04 sec\n",
            " ARIMA(0,2,1)(0,0,1)[4]             : AIC=930.911, Time=0.06 sec\n",
            " ARIMA(0,2,0)(1,0,0)[4]             : AIC=928.352, Time=0.05 sec\n",
            " ARIMA(0,2,0)(0,0,1)[4]             : AIC=928.552, Time=0.04 sec\n",
            " ARIMA(1,2,0)(0,0,0)[4]             : AIC=929.506, Time=0.03 sec\n",
            " ARIMA(0,2,1)(0,0,0)[4]             : AIC=928.938, Time=0.03 sec\n",
            " ARIMA(1,2,1)(0,0,0)[4]             : AIC=931.344, Time=0.03 sec\n",
            " ARIMA(0,2,0)(0,0,0)[4] intercept   : AIC=928.020, Time=0.01 sec\n",
            "\n",
            "Best model:  ARIMA(0,2,0)(0,0,0)[4]          \n",
            "Total fit time: 0.400 seconds\n"
          ]
        }
      ]
    },
    {
      "cell_type": "code",
      "source": [
        "from sklearn.model_selection import train_test_split\n",
        "train,test= train_test_split(df, test_size=0.10,shuffle=False)\n"
      ],
      "metadata": {
        "id": "3QRJlYkYnA_n"
      },
      "execution_count": 278,
      "outputs": []
    },
    {
      "cell_type": "code",
      "source": [
        "test4=test[4]\n"
      ],
      "metadata": {
        "id": "UHzy4y1lnYyf"
      },
      "execution_count": 282,
      "outputs": []
    },
    {
      "cell_type": "code",
      "source": [
        "train4=train[4]\n"
      ],
      "metadata": {
        "id": "uzcRnQRRne-Y"
      },
      "execution_count": 283,
      "outputs": []
    },
    {
      "cell_type": "code",
      "source": [
        "model4.fit(train4)"
      ],
      "metadata": {
        "colab": {
          "base_uri": "https://localhost:8080/"
        },
        "id": "CvwVwbocn25P",
        "outputId": "66216760-9203-4b8a-be98-c3b26c224055"
      },
      "execution_count": 296,
      "outputs": [
        {
          "output_type": "execute_result",
          "data": {
            "text/plain": [
              "ARIMA(order=(0, 2, 0), scoring_args={}, seasonal_order=(0, 0, 0, 4),\n",
              "      suppress_warnings=True, with_intercept=False)"
            ]
          },
          "metadata": {},
          "execution_count": 296
        }
      ]
    },
    {
      "cell_type": "code",
      "source": [
        "forecast4=model4.predict(n_periods=6,return_conf_int=False)\n",
        "pred4 = pd.DataFrame(index=test4.index, data=forecast4)\n",
        "pred4"
      ],
      "metadata": {
        "colab": {
          "base_uri": "https://localhost:8080/",
          "height": 269
        },
        "id": "goukoLt0oLoB",
        "outputId": "98c3b383-8a3f-48f5-f76f-e0594d0fd14c"
      },
      "execution_count": 298,
      "outputs": [
        {
          "output_type": "execute_result",
          "data": {
            "text/plain": [
              "                   0\n",
              "saledate            \n",
              "2018-06-30  844054.0\n",
              "2018-09-30  852052.0\n",
              "2018-12-31  860050.0\n",
              "2019-03-31  868048.0\n",
              "2019-06-30  876046.0\n",
              "2019-09-30  884044.0"
            ],
            "text/html": [
              "\n",
              "  <div id=\"df-df75808e-a9ed-4501-963f-27d6d4a67b9c\">\n",
              "    <div class=\"colab-df-container\">\n",
              "      <div>\n",
              "<style scoped>\n",
              "    .dataframe tbody tr th:only-of-type {\n",
              "        vertical-align: middle;\n",
              "    }\n",
              "\n",
              "    .dataframe tbody tr th {\n",
              "        vertical-align: top;\n",
              "    }\n",
              "\n",
              "    .dataframe thead th {\n",
              "        text-align: right;\n",
              "    }\n",
              "</style>\n",
              "<table border=\"1\" class=\"dataframe\">\n",
              "  <thead>\n",
              "    <tr style=\"text-align: right;\">\n",
              "      <th></th>\n",
              "      <th>0</th>\n",
              "    </tr>\n",
              "    <tr>\n",
              "      <th>saledate</th>\n",
              "      <th></th>\n",
              "    </tr>\n",
              "  </thead>\n",
              "  <tbody>\n",
              "    <tr>\n",
              "      <th>2018-06-30</th>\n",
              "      <td>844054.0</td>\n",
              "    </tr>\n",
              "    <tr>\n",
              "      <th>2018-09-30</th>\n",
              "      <td>852052.0</td>\n",
              "    </tr>\n",
              "    <tr>\n",
              "      <th>2018-12-31</th>\n",
              "      <td>860050.0</td>\n",
              "    </tr>\n",
              "    <tr>\n",
              "      <th>2019-03-31</th>\n",
              "      <td>868048.0</td>\n",
              "    </tr>\n",
              "    <tr>\n",
              "      <th>2019-06-30</th>\n",
              "      <td>876046.0</td>\n",
              "    </tr>\n",
              "    <tr>\n",
              "      <th>2019-09-30</th>\n",
              "      <td>884044.0</td>\n",
              "    </tr>\n",
              "  </tbody>\n",
              "</table>\n",
              "</div>\n",
              "      <button class=\"colab-df-convert\" onclick=\"convertToInteractive('df-df75808e-a9ed-4501-963f-27d6d4a67b9c')\"\n",
              "              title=\"Convert this dataframe to an interactive table.\"\n",
              "              style=\"display:none;\">\n",
              "        \n",
              "  <svg xmlns=\"http://www.w3.org/2000/svg\" height=\"24px\"viewBox=\"0 0 24 24\"\n",
              "       width=\"24px\">\n",
              "    <path d=\"M0 0h24v24H0V0z\" fill=\"none\"/>\n",
              "    <path d=\"M18.56 5.44l.94 2.06.94-2.06 2.06-.94-2.06-.94-.94-2.06-.94 2.06-2.06.94zm-11 1L8.5 8.5l.94-2.06 2.06-.94-2.06-.94L8.5 2.5l-.94 2.06-2.06.94zm10 10l.94 2.06.94-2.06 2.06-.94-2.06-.94-.94-2.06-.94 2.06-2.06.94z\"/><path d=\"M17.41 7.96l-1.37-1.37c-.4-.4-.92-.59-1.43-.59-.52 0-1.04.2-1.43.59L10.3 9.45l-7.72 7.72c-.78.78-.78 2.05 0 2.83L4 21.41c.39.39.9.59 1.41.59.51 0 1.02-.2 1.41-.59l7.78-7.78 2.81-2.81c.8-.78.8-2.07 0-2.86zM5.41 20L4 18.59l7.72-7.72 1.47 1.35L5.41 20z\"/>\n",
              "  </svg>\n",
              "      </button>\n",
              "      \n",
              "  <style>\n",
              "    .colab-df-container {\n",
              "      display:flex;\n",
              "      flex-wrap:wrap;\n",
              "      gap: 12px;\n",
              "    }\n",
              "\n",
              "    .colab-df-convert {\n",
              "      background-color: #E8F0FE;\n",
              "      border: none;\n",
              "      border-radius: 50%;\n",
              "      cursor: pointer;\n",
              "      display: none;\n",
              "      fill: #1967D2;\n",
              "      height: 32px;\n",
              "      padding: 0 0 0 0;\n",
              "      width: 32px;\n",
              "    }\n",
              "\n",
              "    .colab-df-convert:hover {\n",
              "      background-color: #E2EBFA;\n",
              "      box-shadow: 0px 1px 2px rgba(60, 64, 67, 0.3), 0px 1px 3px 1px rgba(60, 64, 67, 0.15);\n",
              "      fill: #174EA6;\n",
              "    }\n",
              "\n",
              "    [theme=dark] .colab-df-convert {\n",
              "      background-color: #3B4455;\n",
              "      fill: #D2E3FC;\n",
              "    }\n",
              "\n",
              "    [theme=dark] .colab-df-convert:hover {\n",
              "      background-color: #434B5C;\n",
              "      box-shadow: 0px 1px 3px 1px rgba(0, 0, 0, 0.15);\n",
              "      filter: drop-shadow(0px 1px 2px rgba(0, 0, 0, 0.3));\n",
              "      fill: #FFFFFF;\n",
              "    }\n",
              "  </style>\n",
              "\n",
              "      <script>\n",
              "        const buttonEl =\n",
              "          document.querySelector('#df-df75808e-a9ed-4501-963f-27d6d4a67b9c button.colab-df-convert');\n",
              "        buttonEl.style.display =\n",
              "          google.colab.kernel.accessAllowed ? 'block' : 'none';\n",
              "\n",
              "        async function convertToInteractive(key) {\n",
              "          const element = document.querySelector('#df-df75808e-a9ed-4501-963f-27d6d4a67b9c');\n",
              "          const dataTable =\n",
              "            await google.colab.kernel.invokeFunction('convertToInteractive',\n",
              "                                                     [key], {});\n",
              "          if (!dataTable) return;\n",
              "\n",
              "          const docLinkHtml = 'Like what you see? Visit the ' +\n",
              "            '<a target=\"_blank\" href=https://colab.research.google.com/notebooks/data_table.ipynb>data table notebook</a>'\n",
              "            + ' to learn more about interactive tables.';\n",
              "          element.innerHTML = '';\n",
              "          dataTable['output_type'] = 'display_data';\n",
              "          await google.colab.output.renderOutput(dataTable, element);\n",
              "          const docLink = document.createElement('div');\n",
              "          docLink.innerHTML = docLinkHtml;\n",
              "          element.appendChild(docLink);\n",
              "        }\n",
              "      </script>\n",
              "    </div>\n",
              "  </div>\n",
              "  "
            ]
          },
          "metadata": {},
          "execution_count": 298
        }
      ]
    },
    {
      "cell_type": "code",
      "source": [
        "test4"
      ],
      "metadata": {
        "colab": {
          "base_uri": "https://localhost:8080/"
        },
        "id": "YTe6dWGPpjt6",
        "outputId": "2bb19554-be2b-4714-c549-82cbc51b34dd"
      },
      "execution_count": 299,
      "outputs": [
        {
          "output_type": "execute_result",
          "data": {
            "text/plain": [
              "saledate\n",
              "2018-06-30    837295.0\n",
              "2018-09-30    830727.0\n",
              "2018-12-31    820924.0\n",
              "2019-03-31    811121.0\n",
              "2019-06-30    803925.0\n",
              "2019-09-30    791446.0\n",
              "Name: 4, dtype: float64"
            ]
          },
          "metadata": {},
          "execution_count": 299
        }
      ]
    },
    {
      "cell_type": "code",
      "source": [
        "#RMSE\n",
        "rmse4=sqrt(mean_squared_error(test4,pred4))\n",
        "\n",
        "print('4 bedrooms rmse',rmse4)\n"
      ],
      "metadata": {
        "colab": {
          "base_uri": "https://localhost:8080/"
        },
        "id": "0cLBHnG3pQK4",
        "outputId": "e7ac100b-8ba4-4541-b53a-97206a13d6e8"
      },
      "execution_count": 305,
      "outputs": [
        {
          "output_type": "stream",
          "name": "stdout",
          "text": [
            "4 bedrooms rmse 56343.8774491071\n"
          ]
        }
      ]
    },
    {
      "cell_type": "code",
      "source": [
        "test4.mean()"
      ],
      "metadata": {
        "colab": {
          "base_uri": "https://localhost:8080/"
        },
        "id": "xghlfk7xpue7",
        "outputId": "383dec9d-d46a-448e-a30b-f6f6536c8142"
      },
      "execution_count": 301,
      "outputs": [
        {
          "output_type": "execute_result",
          "data": {
            "text/plain": [
              "815906.3333333334"
            ]
          },
          "metadata": {},
          "execution_count": 301
        }
      ]
    },
    {
      "cell_type": "code",
      "source": [
        "#MAPE\n",
        "mape4=mean_absolute_percentage_error(test4,pred4)\n",
        "print('4 bedrooms',mape4)"
      ],
      "metadata": {
        "colab": {
          "base_uri": "https://localhost:8080/"
        },
        "id": "iwx9DU-tpwGE",
        "outputId": "44381162-c4a5-45dd-a5bb-637aacd8e270"
      },
      "execution_count": 303,
      "outputs": [
        {
          "output_type": "stream",
          "name": "stdout",
          "text": [
            "4 bedrooms 5.939543580697498\n"
          ]
        }
      ]
    },
    {
      "cell_type": "code",
      "source": [
        "plt.plot(pred4, color='blue', label='prediction')\n",
        "plt.plot(test4, color= 'orange', label= 'actual')\n",
        "plt.legend(loc='best')"
      ],
      "metadata": {
        "colab": {
          "base_uri": "https://localhost:8080/",
          "height": 500
        },
        "id": "4LWv5s_eqR2s",
        "outputId": "b194f63f-c197-43b4-872e-8d80da119604"
      },
      "execution_count": 304,
      "outputs": [
        {
          "output_type": "execute_result",
          "data": {
            "text/plain": [
              "<matplotlib.legend.Legend at 0x7fbed50520d0>"
            ]
          },
          "metadata": {},
          "execution_count": 304
        },
        {
          "output_type": "display_data",
          "data": {
            "text/plain": [
              "<Figure size 720x576 with 1 Axes>"
            ],
            "image/png": "[encoded data removed]"
          },
          "metadata": {
            "needs_background": "light"
          }
        }
      ]
    },
    {
      "cell_type": "code",
      "source": [
        "# Forecasting 4 future qarters\n",
        "forecast4=model.predict(n_periods=4, return_conf_int=False,)\n",
        "forecast_range=pd.date_range(start='2019-09-30', periods=4,freq='Q')\n",
        "future4 = pd.DataFrame(index=forecast_range,data=forecast4)\n",
        "future4.astype(int)"
      ],
      "metadata": {
        "colab": {
          "base_uri": "https://localhost:8080/",
          "height": 174
        },
        "id": "0_Lds03sqgzr",
        "outputId": "896564ae-f1f9-4d57-876f-3a81868e217b"
      },
      "execution_count": 311,
      "outputs": [
        {
          "output_type": "execute_result",
          "data": {
            "text/plain": [
              "                 0\n",
              "2019-09-30  624145\n",
              "2019-12-31  628653\n",
              "2020-03-31  633161\n",
              "2020-06-30  637669"
            ],
            "text/html": [
              "\n",
              "  <div id=\"df-ae05143c-f423-4456-af60-1f597da82087\">\n",
              "    <div class=\"colab-df-container\">\n",
              "      <div>\n",
              "<style scoped>\n",
              "    .dataframe tbody tr th:only-of-type {\n",
              "        vertical-align: middle;\n",
              "    }\n",
              "\n",
              "    .dataframe tbody tr th {\n",
              "        vertical-align: top;\n",
              "    }\n",
              "\n",
              "    .dataframe thead th {\n",
              "        text-align: right;\n",
              "    }\n",
              "</style>\n",
              "<table border=\"1\" class=\"dataframe\">\n",
              "  <thead>\n",
              "    <tr style=\"text-align: right;\">\n",
              "      <th></th>\n",
              "      <th>0</th>\n",
              "    </tr>\n",
              "  </thead>\n",
              "  <tbody>\n",
              "    <tr>\n",
              "      <th>2019-09-30</th>\n",
              "      <td>624145</td>\n",
              "    </tr>\n",
              "    <tr>\n",
              "      <th>2019-12-31</th>\n",
              "      <td>628653</td>\n",
              "    </tr>\n",
              "    <tr>\n",
              "      <th>2020-03-31</th>\n",
              "      <td>633161</td>\n",
              "    </tr>\n",
              "    <tr>\n",
              "      <th>2020-06-30</th>\n",
              "      <td>637669</td>\n",
              "    </tr>\n",
              "  </tbody>\n",
              "</table>\n",
              "</div>\n",
              "      <button class=\"colab-df-convert\" onclick=\"convertToInteractive('df-ae05143c-f423-4456-af60-1f597da82087')\"\n",
              "              title=\"Convert this dataframe to an interactive table.\"\n",
              "              style=\"display:none;\">\n",
              "        \n",
              "  <svg xmlns=\"http://www.w3.org/2000/svg\" height=\"24px\"viewBox=\"0 0 24 24\"\n",
              "       width=\"24px\">\n",
              "    <path d=\"M0 0h24v24H0V0z\" fill=\"none\"/>\n",
              "    <path d=\"M18.56 5.44l.94 2.06.94-2.06 2.06-.94-2.06-.94-.94-2.06-.94 2.06-2.06.94zm-11 1L8.5 8.5l.94-2.06 2.06-.94-2.06-.94L8.5 2.5l-.94 2.06-2.06.94zm10 10l.94 2.06.94-2.06 2.06-.94-2.06-.94-.94-2.06-.94 2.06-2.06.94z\"/><path d=\"M17.41 7.96l-1.37-1.37c-.4-.4-.92-.59-1.43-.59-.52 0-1.04.2-1.43.59L10.3 9.45l-7.72 7.72c-.78.78-.78 2.05 0 2.83L4 21.41c.39.39.9.59 1.41.59.51 0 1.02-.2 1.41-.59l7.78-7.78 2.81-2.81c.8-.78.8-2.07 0-2.86zM5.41 20L4 18.59l7.72-7.72 1.47 1.35L5.41 20z\"/>\n",
              "  </svg>\n",
              "      </button>\n",
              "      \n",
              "  <style>\n",
              "    .colab-df-container {\n",
              "      display:flex;\n",
              "      flex-wrap:wrap;\n",
              "      gap: 12px;\n",
              "    }\n",
              "\n",
              "    .colab-df-convert {\n",
              "      background-color: #E8F0FE;\n",
              "      border: none;\n",
              "      border-radius: 50%;\n",
              "      cursor: pointer;\n",
              "      display: none;\n",
              "      fill: #1967D2;\n",
              "      height: 32px;\n",
              "      padding: 0 0 0 0;\n",
              "      width: 32px;\n",
              "    }\n",
              "\n",
              "    .colab-df-convert:hover {\n",
              "      background-color: #E2EBFA;\n",
              "      box-shadow: 0px 1px 2px rgba(60, 64, 67, 0.3), 0px 1px 3px 1px rgba(60, 64, 67, 0.15);\n",
              "      fill: #174EA6;\n",
              "    }\n",
              "\n",
              "    [theme=dark] .colab-df-convert {\n",
              "      background-color: #3B4455;\n",
              "      fill: #D2E3FC;\n",
              "    }\n",
              "\n",
              "    [theme=dark] .colab-df-convert:hover {\n",
              "      background-color: #434B5C;\n",
              "      box-shadow: 0px 1px 3px 1px rgba(0, 0, 0, 0.15);\n",
              "      filter: drop-shadow(0px 1px 2px rgba(0, 0, 0, 0.3));\n",
              "      fill: #FFFFFF;\n",
              "    }\n",
              "  </style>\n",
              "\n",
              "      <script>\n",
              "        const buttonEl =\n",
              "          document.querySelector('#df-ae05143c-f423-4456-af60-1f597da82087 button.colab-df-convert');\n",
              "        buttonEl.style.display =\n",
              "          google.colab.kernel.accessAllowed ? 'block' : 'none';\n",
              "\n",
              "        async function convertToInteractive(key) {\n",
              "          const element = document.querySelector('#df-ae05143c-f423-4456-af60-1f597da82087');\n",
              "          const dataTable =\n",
              "            await google.colab.kernel.invokeFunction('convertToInteractive',\n",
              "                                                     [key], {});\n",
              "          if (!dataTable) return;\n",
              "\n",
              "          const docLinkHtml = 'Like what you see? Visit the ' +\n",
              "            '<a target=\"_blank\" href=https://colab.research.google.com/notebooks/data_table.ipynb>data table notebook</a>'\n",
              "            + ' to learn more about interactive tables.';\n",
              "          element.innerHTML = '';\n",
              "          dataTable['output_type'] = 'display_data';\n",
              "          await google.colab.output.renderOutput(dataTable, element);\n",
              "          const docLink = document.createElement('div');\n",
              "          docLink.innerHTML = docLinkHtml;\n",
              "          element.appendChild(docLink);\n",
              "        }\n",
              "      </script>\n",
              "    </div>\n",
              "  </div>\n",
              "  "
            ]
          },
          "metadata": {},
          "execution_count": 311
        }
      ]
    },
    {
      "cell_type": "markdown",
      "source": [
        "**FOR 5 BEDROOMS**"
      ],
      "metadata": {
        "id": "uj3lU2vQsTnI"
      }
    },
    {
      "cell_type": "code",
      "source": [
        "# only taking column for 5 bedroom\n",
        "model5 = pm.auto_arima(df[5], \n",
        "                        m=4, seasonal=True,\n",
        "                      start_p=0, start_q=0, max_order=4, test='adf',error_action='ignore',  \n",
        "                           suppress_warnings=True,\n",
        "                      stepwise=True, trace=True)"
      ],
      "metadata": {
        "colab": {
          "base_uri": "https://localhost:8080/"
        },
        "id": "hD-mbm5RsbAc",
        "outputId": "055b3a59-0b7f-41eb-e501-7d38d6c59659"
      },
      "execution_count": 314,
      "outputs": [
        {
          "output_type": "stream",
          "name": "stdout",
          "text": [
            "Performing stepwise search to minimize aic\n",
            " ARIMA(0,2,0)(1,0,1)[4]             : AIC=1023.336, Time=0.08 sec\n",
            " ARIMA(0,2,0)(0,0,0)[4]             : AIC=1018.635, Time=0.01 sec\n",
            " ARIMA(1,2,0)(1,0,0)[4]             : AIC=1023.062, Time=0.05 sec\n",
            " ARIMA(0,2,1)(0,0,1)[4]             : AIC=1022.770, Time=0.04 sec\n",
            " ARIMA(0,2,0)(1,0,0)[4]             : AIC=1020.694, Time=0.05 sec\n",
            " ARIMA(0,2,0)(0,0,1)[4]             : AIC=1020.915, Time=0.03 sec\n",
            " ARIMA(1,2,0)(0,0,0)[4]             : AIC=1021.066, Time=0.02 sec\n",
            " ARIMA(0,2,1)(0,0,0)[4]             : AIC=1020.773, Time=0.02 sec\n",
            " ARIMA(1,2,1)(0,0,0)[4]             : AIC=1022.201, Time=0.11 sec\n",
            " ARIMA(0,2,0)(0,0,0)[4] intercept   : AIC=1020.380, Time=0.02 sec\n",
            "\n",
            "Best model:  ARIMA(0,2,0)(0,0,0)[4]          \n",
            "Total fit time: 0.483 seconds\n"
          ]
        }
      ]
    },
    {
      "cell_type": "code",
      "source": [
        "from sklearn.model_selection import train_test_split\n",
        "train,test= train_test_split(df, test_size=0.10,shuffle=False)\n"
      ],
      "metadata": {
        "id": "V8eE99gQsy_T"
      },
      "execution_count": 315,
      "outputs": []
    },
    {
      "cell_type": "code",
      "source": [
        "test5=test[5]"
      ],
      "metadata": {
        "id": "caPdNA3QtJcA"
      },
      "execution_count": 319,
      "outputs": []
    },
    {
      "cell_type": "code",
      "source": [
        "train5=train[5]\n"
      ],
      "metadata": {
        "id": "31Db83nqtRwx"
      },
      "execution_count": 320,
      "outputs": []
    },
    {
      "cell_type": "code",
      "source": [
        "model5.fit(train5)"
      ],
      "metadata": {
        "colab": {
          "base_uri": "https://localhost:8080/"
        },
        "id": "BtseLRf6tgES",
        "outputId": "bac62bc1-5400-4f82-ac1d-4b5c75d83120"
      },
      "execution_count": 321,
      "outputs": [
        {
          "output_type": "execute_result",
          "data": {
            "text/plain": [
              "ARIMA(order=(0, 2, 0), scoring_args={}, seasonal_order=(0, 0, 0, 4),\n",
              "      suppress_warnings=True, with_intercept=False)"
            ]
          },
          "metadata": {},
          "execution_count": 321
        }
      ]
    },
    {
      "cell_type": "code",
      "source": [
        "forecast5=model5.predict(n_periods=6,return_conf_int=False)\n",
        "pred5 = pd.DataFrame(index=test5.index, data=forecast5)\n",
        "pred5"
      ],
      "metadata": {
        "colab": {
          "base_uri": "https://localhost:8080/",
          "height": 269
        },
        "id": "pKjyASRdtps9",
        "outputId": "358e0be1-996f-4f92-c44b-688ce6134843"
      },
      "execution_count": 323,
      "outputs": [
        {
          "output_type": "execute_result",
          "data": {
            "text/plain": [
              "                    0\n",
              "saledate             \n",
              "2018-06-30  1020210.0\n",
              "2018-09-30  1024891.0\n",
              "2018-12-31  1029572.0\n",
              "2019-03-31  1034253.0\n",
              "2019-06-30  1038934.0\n",
              "2019-09-30  1043615.0"
            ],
            "text/html": [
              "\n",
              "  <div id=\"df-39d45d88-9337-4c84-853e-8065fe713ee8\">\n",
              "    <div class=\"colab-df-container\">\n",
              "      <div>\n",
              "<style scoped>\n",
              "    .dataframe tbody tr th:only-of-type {\n",
              "        vertical-align: middle;\n",
              "    }\n",
              "\n",
              "    .dataframe tbody tr th {\n",
              "        vertical-align: top;\n",
              "    }\n",
              "\n",
              "    .dataframe thead th {\n",
              "        text-align: right;\n",
              "    }\n",
              "</style>\n",
              "<table border=\"1\" class=\"dataframe\">\n",
              "  <thead>\n",
              "    <tr style=\"text-align: right;\">\n",
              "      <th></th>\n",
              "      <th>0</th>\n",
              "    </tr>\n",
              "    <tr>\n",
              "      <th>saledate</th>\n",
              "      <th></th>\n",
              "    </tr>\n",
              "  </thead>\n",
              "  <tbody>\n",
              "    <tr>\n",
              "      <th>2018-06-30</th>\n",
              "      <td>1020210.0</td>\n",
              "    </tr>\n",
              "    <tr>\n",
              "      <th>2018-09-30</th>\n",
              "      <td>1024891.0</td>\n",
              "    </tr>\n",
              "    <tr>\n",
              "      <th>2018-12-31</th>\n",
              "      <td>1029572.0</td>\n",
              "    </tr>\n",
              "    <tr>\n",
              "      <th>2019-03-31</th>\n",
              "      <td>1034253.0</td>\n",
              "    </tr>\n",
              "    <tr>\n",
              "      <th>2019-06-30</th>\n",
              "      <td>1038934.0</td>\n",
              "    </tr>\n",
              "    <tr>\n",
              "      <th>2019-09-30</th>\n",
              "      <td>1043615.0</td>\n",
              "    </tr>\n",
              "  </tbody>\n",
              "</table>\n",
              "</div>\n",
              "      <button class=\"colab-df-convert\" onclick=\"convertToInteractive('df-39d45d88-9337-4c84-853e-8065fe713ee8')\"\n",
              "              title=\"Convert this dataframe to an interactive table.\"\n",
              "              style=\"display:none;\">\n",
              "        \n",
              "  <svg xmlns=\"http://www.w3.org/2000/svg\" height=\"24px\"viewBox=\"0 0 24 24\"\n",
              "       width=\"24px\">\n",
              "    <path d=\"M0 0h24v24H0V0z\" fill=\"none\"/>\n",
              "    <path d=\"M18.56 5.44l.94 2.06.94-2.06 2.06-.94-2.06-.94-.94-2.06-.94 2.06-2.06.94zm-11 1L8.5 8.5l.94-2.06 2.06-.94-2.06-.94L8.5 2.5l-.94 2.06-2.06.94zm10 10l.94 2.06.94-2.06 2.06-.94-2.06-.94-.94-2.06-.94 2.06-2.06.94z\"/><path d=\"M17.41 7.96l-1.37-1.37c-.4-.4-.92-.59-1.43-.59-.52 0-1.04.2-1.43.59L10.3 9.45l-7.72 7.72c-.78.78-.78 2.05 0 2.83L4 21.41c.39.39.9.59 1.41.59.51 0 1.02-.2 1.41-.59l7.78-7.78 2.81-2.81c.8-.78.8-2.07 0-2.86zM5.41 20L4 18.59l7.72-7.72 1.47 1.35L5.41 20z\"/>\n",
              "  </svg>\n",
              "      </button>\n",
              "      \n",
              "  <style>\n",
              "    .colab-df-container {\n",
              "      display:flex;\n",
              "      flex-wrap:wrap;\n",
              "      gap: 12px;\n",
              "    }\n",
              "\n",
              "    .colab-df-convert {\n",
              "      background-color: #E8F0FE;\n",
              "      border: none;\n",
              "      border-radius: 50%;\n",
              "      cursor: pointer;\n",
              "      display: none;\n",
              "      fill: #1967D2;\n",
              "      height: 32px;\n",
              "      padding: 0 0 0 0;\n",
              "      width: 32px;\n",
              "    }\n",
              "\n",
              "    .colab-df-convert:hover {\n",
              "      background-color: #E2EBFA;\n",
              "      box-shadow: 0px 1px 2px rgba(60, 64, 67, 0.3), 0px 1px 3px 1px rgba(60, 64, 67, 0.15);\n",
              "      fill: #174EA6;\n",
              "    }\n",
              "\n",
              "    [theme=dark] .colab-df-convert {\n",
              "      background-color: #3B4455;\n",
              "      fill: #D2E3FC;\n",
              "    }\n",
              "\n",
              "    [theme=dark] .colab-df-convert:hover {\n",
              "      background-color: #434B5C;\n",
              "      box-shadow: 0px 1px 3px 1px rgba(0, 0, 0, 0.15);\n",
              "      filter: drop-shadow(0px 1px 2px rgba(0, 0, 0, 0.3));\n",
              "      fill: #FFFFFF;\n",
              "    }\n",
              "  </style>\n",
              "\n",
              "      <script>\n",
              "        const buttonEl =\n",
              "          document.querySelector('#df-39d45d88-9337-4c84-853e-8065fe713ee8 button.colab-df-convert');\n",
              "        buttonEl.style.display =\n",
              "          google.colab.kernel.accessAllowed ? 'block' : 'none';\n",
              "\n",
              "        async function convertToInteractive(key) {\n",
              "          const element = document.querySelector('#df-39d45d88-9337-4c84-853e-8065fe713ee8');\n",
              "          const dataTable =\n",
              "            await google.colab.kernel.invokeFunction('convertToInteractive',\n",
              "                                                     [key], {});\n",
              "          if (!dataTable) return;\n",
              "\n",
              "          const docLinkHtml = 'Like what you see? Visit the ' +\n",
              "            '<a target=\"_blank\" href=https://colab.research.google.com/notebooks/data_table.ipynb>data table notebook</a>'\n",
              "            + ' to learn more about interactive tables.';\n",
              "          element.innerHTML = '';\n",
              "          dataTable['output_type'] = 'display_data';\n",
              "          await google.colab.output.renderOutput(dataTable, element);\n",
              "          const docLink = document.createElement('div');\n",
              "          docLink.innerHTML = docLinkHtml;\n",
              "          element.appendChild(docLink);\n",
              "        }\n",
              "      </script>\n",
              "    </div>\n",
              "  </div>\n",
              "  "
            ]
          },
          "metadata": {},
          "execution_count": 323
        }
      ]
    },
    {
      "cell_type": "code",
      "source": [
        "test4"
      ],
      "metadata": {
        "colab": {
          "base_uri": "https://localhost:8080/"
        },
        "id": "NJWIgbPZt12H",
        "outputId": "ff2ee583-bbea-4774-b19c-4ee7d102f228"
      },
      "execution_count": 324,
      "outputs": [
        {
          "output_type": "execute_result",
          "data": {
            "text/plain": [
              "saledate\n",
              "2018-06-30    837295.0\n",
              "2018-09-30    830727.0\n",
              "2018-12-31    820924.0\n",
              "2019-03-31    811121.0\n",
              "2019-06-30    803925.0\n",
              "2019-09-30    791446.0\n",
              "Name: 4, dtype: float64"
            ]
          },
          "metadata": {},
          "execution_count": 324
        }
      ]
    },
    {
      "cell_type": "code",
      "source": [
        "#RMSE\n",
        "rmse5=sqrt(mean_squared_error(test5,pred5))\n",
        "\n",
        "print('5 bedrooms rmse',rmse5)"
      ],
      "metadata": {
        "colab": {
          "base_uri": "https://localhost:8080/"
        },
        "id": "LFV1upbDuSQL",
        "outputId": "223c5a3a-36ff-4672-9acb-1cb559fb92e4"
      },
      "execution_count": 326,
      "outputs": [
        {
          "output_type": "stream",
          "name": "stdout",
          "text": [
            "5 bedrooms rmse 40098.26187629584\n"
          ]
        }
      ]
    },
    {
      "cell_type": "code",
      "source": [
        "test5.mean()"
      ],
      "metadata": {
        "colab": {
          "base_uri": "https://localhost:8080/"
        },
        "id": "tOuWjASQuhSf",
        "outputId": "21101a0b-4074-4597-f06f-4787ef239c83"
      },
      "execution_count": 327,
      "outputs": [
        {
          "output_type": "execute_result",
          "data": {
            "text/plain": [
              "998492.6666666666"
            ]
          },
          "metadata": {},
          "execution_count": 327
        }
      ]
    },
    {
      "cell_type": "code",
      "source": [
        "#MAPE\n",
        "mape5=mean_absolute_percentage_error(test5,pred5)\n",
        "print('5 bedrooms',mape5)"
      ],
      "metadata": {
        "colab": {
          "base_uri": "https://localhost:8080/"
        },
        "id": "9kSUzoozuw8X",
        "outputId": "8b3b47a2-0f8e-4a85-df16-1e6f108beccd"
      },
      "execution_count": 328,
      "outputs": [
        {
          "output_type": "stream",
          "name": "stdout",
          "text": [
            "5 bedrooms 3.3691763972825424\n"
          ]
        }
      ]
    },
    {
      "cell_type": "code",
      "source": [
        "plt.plot(pred5, color='blue', label='prediction')\n",
        "plt.plot(test5, color= 'orange', label= 'actual')\n",
        "plt.legend(loc='best')"
      ],
      "metadata": {
        "colab": {
          "base_uri": "https://localhost:8080/",
          "height": 511
        },
        "id": "zigVU4p5vBqZ",
        "outputId": "e3856a08-17a4-4a42-e5f6-b22a96cb0bbc"
      },
      "execution_count": 329,
      "outputs": [
        {
          "output_type": "execute_result",
          "data": {
            "text/plain": [
              "<matplotlib.legend.Legend at 0x7fbed4f5be10>"
            ]
          },
          "metadata": {},
          "execution_count": 329
        },
        {
          "output_type": "display_data",
          "data": {
            "text/plain": [
              "<Figure size 720x576 with 1 Axes>"
            ],
            "image/png": "[encoded data removed]"
          },
          "metadata": {
            "needs_background": "light"
          }
        }
      ]
    },
    {
      "cell_type": "code",
      "source": [
        "# Forecasting 4 future qarters\n",
        "forecast5=model.predict(n_periods=4, return_conf_int=False,)\n",
        "forecast_range=pd.date_range(start='2019-09-30', periods=4,freq='Q')\n",
        "future5 = pd.DataFrame(index=forecast_range,data=forecast5)\n",
        "future5.astype(int)"
      ],
      "metadata": {
        "colab": {
          "base_uri": "https://localhost:8080/",
          "height": 174
        },
        "id": "3xy6uAUQ1uez",
        "outputId": "f6b6a104-b358-4ac4-f665-189f4981f0a9"
      },
      "execution_count": 330,
      "outputs": [
        {
          "output_type": "execute_result",
          "data": {
            "text/plain": [
              "                 0\n",
              "2019-09-30  624145\n",
              "2019-12-31  628653\n",
              "2020-03-31  633161\n",
              "2020-06-30  637669"
            ],
            "text/html": [
              "\n",
              "  <div id=\"df-ccba682d-cabc-491e-9457-e19d3c077e44\">\n",
              "    <div class=\"colab-df-container\">\n",
              "      <div>\n",
              "<style scoped>\n",
              "    .dataframe tbody tr th:only-of-type {\n",
              "        vertical-align: middle;\n",
              "    }\n",
              "\n",
              "    .dataframe tbody tr th {\n",
              "        vertical-align: top;\n",
              "    }\n",
              "\n",
              "    .dataframe thead th {\n",
              "        text-align: right;\n",
              "    }\n",
              "</style>\n",
              "<table border=\"1\" class=\"dataframe\">\n",
              "  <thead>\n",
              "    <tr style=\"text-align: right;\">\n",
              "      <th></th>\n",
              "      <th>0</th>\n",
              "    </tr>\n",
              "  </thead>\n",
              "  <tbody>\n",
              "    <tr>\n",
              "      <th>2019-09-30</th>\n",
              "      <td>624145</td>\n",
              "    </tr>\n",
              "    <tr>\n",
              "      <th>2019-12-31</th>\n",
              "      <td>628653</td>\n",
              "    </tr>\n",
              "    <tr>\n",
              "      <th>2020-03-31</th>\n",
              "      <td>633161</td>\n",
              "    </tr>\n",
              "    <tr>\n",
              "      <th>2020-06-30</th>\n",
              "      <td>637669</td>\n",
              "    </tr>\n",
              "  </tbody>\n",
              "</table>\n",
              "</div>\n",
              "      <button class=\"colab-df-convert\" onclick=\"convertToInteractive('df-ccba682d-cabc-491e-9457-e19d3c077e44')\"\n",
              "              title=\"Convert this dataframe to an interactive table.\"\n",
              "              style=\"display:none;\">\n",
              "        \n",
              "  <svg xmlns=\"http://www.w3.org/2000/svg\" height=\"24px\"viewBox=\"0 0 24 24\"\n",
              "       width=\"24px\">\n",
              "    <path d=\"M0 0h24v24H0V0z\" fill=\"none\"/>\n",
              "    <path d=\"M18.56 5.44l.94 2.06.94-2.06 2.06-.94-2.06-.94-.94-2.06-.94 2.06-2.06.94zm-11 1L8.5 8.5l.94-2.06 2.06-.94-2.06-.94L8.5 2.5l-.94 2.06-2.06.94zm10 10l.94 2.06.94-2.06 2.06-.94-2.06-.94-.94-2.06-.94 2.06-2.06.94z\"/><path d=\"M17.41 7.96l-1.37-1.37c-.4-.4-.92-.59-1.43-.59-.52 0-1.04.2-1.43.59L10.3 9.45l-7.72 7.72c-.78.78-.78 2.05 0 2.83L4 21.41c.39.39.9.59 1.41.59.51 0 1.02-.2 1.41-.59l7.78-7.78 2.81-2.81c.8-.78.8-2.07 0-2.86zM5.41 20L4 18.59l7.72-7.72 1.47 1.35L5.41 20z\"/>\n",
              "  </svg>\n",
              "      </button>\n",
              "      \n",
              "  <style>\n",
              "    .colab-df-container {\n",
              "      display:flex;\n",
              "      flex-wrap:wrap;\n",
              "      gap: 12px;\n",
              "    }\n",
              "\n",
              "    .colab-df-convert {\n",
              "      background-color: #E8F0FE;\n",
              "      border: none;\n",
              "      border-radius: 50%;\n",
              "      cursor: pointer;\n",
              "      display: none;\n",
              "      fill: #1967D2;\n",
              "      height: 32px;\n",
              "      padding: 0 0 0 0;\n",
              "      width: 32px;\n",
              "    }\n",
              "\n",
              "    .colab-df-convert:hover {\n",
              "      background-color: #E2EBFA;\n",
              "      box-shadow: 0px 1px 2px rgba(60, 64, 67, 0.3), 0px 1px 3px 1px rgba(60, 64, 67, 0.15);\n",
              "      fill: #174EA6;\n",
              "    }\n",
              "\n",
              "    [theme=dark] .colab-df-convert {\n",
              "      background-color: #3B4455;\n",
              "      fill: #D2E3FC;\n",
              "    }\n",
              "\n",
              "    [theme=dark] .colab-df-convert:hover {\n",
              "      background-color: #434B5C;\n",
              "      box-shadow: 0px 1px 3px 1px rgba(0, 0, 0, 0.15);\n",
              "      filter: drop-shadow(0px 1px 2px rgba(0, 0, 0, 0.3));\n",
              "      fill: #FFFFFF;\n",
              "    }\n",
              "  </style>\n",
              "\n",
              "      <script>\n",
              "        const buttonEl =\n",
              "          document.querySelector('#df-ccba682d-cabc-491e-9457-e19d3c077e44 button.colab-df-convert');\n",
              "        buttonEl.style.display =\n",
              "          google.colab.kernel.accessAllowed ? 'block' : 'none';\n",
              "\n",
              "        async function convertToInteractive(key) {\n",
              "          const element = document.querySelector('#df-ccba682d-cabc-491e-9457-e19d3c077e44');\n",
              "          const dataTable =\n",
              "            await google.colab.kernel.invokeFunction('convertToInteractive',\n",
              "                                                     [key], {});\n",
              "          if (!dataTable) return;\n",
              "\n",
              "          const docLinkHtml = 'Like what you see? Visit the ' +\n",
              "            '<a target=\"_blank\" href=https://colab.research.google.com/notebooks/data_table.ipynb>data table notebook</a>'\n",
              "            + ' to learn more about interactive tables.';\n",
              "          element.innerHTML = '';\n",
              "          dataTable['output_type'] = 'display_data';\n",
              "          await google.colab.output.renderOutput(dataTable, element);\n",
              "          const docLink = document.createElement('div');\n",
              "          docLink.innerHTML = docLinkHtml;\n",
              "          element.appendChild(docLink);\n",
              "        }\n",
              "      </script>\n",
              "    </div>\n",
              "  </div>\n",
              "  "
            ]
          },
          "metadata": {},
          "execution_count": 330
        }
      ]
    },
    {
      "cell_type": "code",
      "source": [
        ""
      ],
      "metadata": {
        "id": "RzMTL3ec1_1P"
      },
      "execution_count": null,
      "outputs": []
    }
  ]
}