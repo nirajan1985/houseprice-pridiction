{
 "cells": [
  {
   "cell_type": "markdown",
   "id": "fb850f71",
   "metadata": {},
   "source": [
    "## multivariate time series analysis using LSTM"
   ]
  },
  {
   "cell_type": "code",
   "execution_count": 1,
   "id": "4fccb3c9",
   "metadata": {},
   "outputs": [],
   "source": [
    "import tensorflow as tf\n",
    "import pandas as pd\n",
    "import numpy as np\n",
    "import matplotlib.pyplot as plt"
   ]
  },
  {
   "cell_type": "code",
   "execution_count": 2,
   "id": "62c8d481",
   "metadata": {},
   "outputs": [
    {
     "data": {
      "text/html": [
       "<div>\n",
       "<style scoped>\n",
       "    .dataframe tbody tr th:only-of-type {\n",
       "        vertical-align: middle;\n",
       "    }\n",
       "\n",
       "    .dataframe tbody tr th {\n",
       "        vertical-align: top;\n",
       "    }\n",
       "\n",
       "    .dataframe thead th {\n",
       "        text-align: right;\n",
       "    }\n",
       "</style>\n",
       "<table border=\"1\" class=\"dataframe\">\n",
       "  <thead>\n",
       "    <tr style=\"text-align: right;\">\n",
       "      <th></th>\n",
       "      <th>saledate</th>\n",
       "      <th>price</th>\n",
       "      <th>type</th>\n",
       "      <th>bedrooms</th>\n",
       "    </tr>\n",
       "  </thead>\n",
       "  <tbody>\n",
       "    <tr>\n",
       "      <th>195</th>\n",
       "      <td>2018-09-30</td>\n",
       "      <td>1007114</td>\n",
       "      <td>house</td>\n",
       "      <td>5</td>\n",
       "    </tr>\n",
       "    <tr>\n",
       "      <th>196</th>\n",
       "      <td>2018-12-31</td>\n",
       "      <td>1002323</td>\n",
       "      <td>house</td>\n",
       "      <td>5</td>\n",
       "    </tr>\n",
       "    <tr>\n",
       "      <th>197</th>\n",
       "      <td>2019-03-31</td>\n",
       "      <td>998136</td>\n",
       "      <td>house</td>\n",
       "      <td>5</td>\n",
       "    </tr>\n",
       "    <tr>\n",
       "      <th>198</th>\n",
       "      <td>2019-06-30</td>\n",
       "      <td>995363</td>\n",
       "      <td>house</td>\n",
       "      <td>5</td>\n",
       "    </tr>\n",
       "    <tr>\n",
       "      <th>199</th>\n",
       "      <td>2019-09-30</td>\n",
       "      <td>970268</td>\n",
       "      <td>house</td>\n",
       "      <td>5</td>\n",
       "    </tr>\n",
       "  </tbody>\n",
       "</table>\n",
       "</div>"
      ],
      "text/plain": [
       "      saledate    price   type  bedrooms\n",
       "195 2018-09-30  1007114  house         5\n",
       "196 2018-12-31  1002323  house         5\n",
       "197 2019-03-31   998136  house         5\n",
       "198 2019-06-30   995363  house         5\n",
       "199 2019-09-30   970268  house         5"
      ]
     },
     "execution_count": 2,
     "metadata": {},
     "output_type": "execute_result"
    }
   ],
   "source": [
    "#The data in ma_lga_12345.csv has been resampled to quartely intervals with a median aggregator outside of this notebook\n",
    "#We will load it and visualise it first\n",
    "df=pd.read_csv('ma_lga_12345.csv')\n",
    "df=df[df.type=='house'] #Let's limit the scope of this problem to houses only\n",
    "df['saledate'] = pd.to_datetime(df['saledate'],infer_datetime_format=True)\n",
    "df.tail()\n"
   ]
  },
  {
   "cell_type": "code",
   "execution_count": 3,
   "id": "3961f60b",
   "metadata": {},
   "outputs": [
    {
     "data": {
      "text/plain": [
       "(200, 4)"
      ]
     },
     "execution_count": 3,
     "metadata": {},
     "output_type": "execute_result"
    }
   ],
   "source": [
    "df.shape"
   ]
  },
  {
   "cell_type": "code",
   "execution_count": 4,
   "id": "8336794a",
   "metadata": {},
   "outputs": [
    {
     "data": {
      "text/html": [
       "<div>\n",
       "<style scoped>\n",
       "    .dataframe tbody tr th:only-of-type {\n",
       "        vertical-align: middle;\n",
       "    }\n",
       "\n",
       "    .dataframe tbody tr th {\n",
       "        vertical-align: top;\n",
       "    }\n",
       "\n",
       "    .dataframe thead th {\n",
       "        text-align: right;\n",
       "    }\n",
       "</style>\n",
       "<table border=\"1\" class=\"dataframe\">\n",
       "  <thead>\n",
       "    <tr style=\"text-align: right;\">\n",
       "      <th>bedrooms</th>\n",
       "      <th>2</th>\n",
       "      <th>3</th>\n",
       "      <th>4</th>\n",
       "      <th>5</th>\n",
       "    </tr>\n",
       "    <tr>\n",
       "      <th>saledate</th>\n",
       "      <th></th>\n",
       "      <th></th>\n",
       "      <th></th>\n",
       "      <th></th>\n",
       "    </tr>\n",
       "  </thead>\n",
       "  <tbody>\n",
       "    <tr>\n",
       "      <th>2018-09-30</th>\n",
       "      <td>504318.0</td>\n",
       "      <td>624602.0</td>\n",
       "      <td>830727.0</td>\n",
       "      <td>1007114.0</td>\n",
       "    </tr>\n",
       "    <tr>\n",
       "      <th>2018-12-31</th>\n",
       "      <td>506001.0</td>\n",
       "      <td>626608.0</td>\n",
       "      <td>820924.0</td>\n",
       "      <td>1002323.0</td>\n",
       "    </tr>\n",
       "    <tr>\n",
       "      <th>2019-03-31</th>\n",
       "      <td>496133.0</td>\n",
       "      <td>628423.0</td>\n",
       "      <td>811121.0</td>\n",
       "      <td>998136.0</td>\n",
       "    </tr>\n",
       "    <tr>\n",
       "      <th>2019-06-30</th>\n",
       "      <td>500158.0</td>\n",
       "      <td>630814.0</td>\n",
       "      <td>803925.0</td>\n",
       "      <td>995363.0</td>\n",
       "    </tr>\n",
       "    <tr>\n",
       "      <th>2019-09-30</th>\n",
       "      <td>510712.0</td>\n",
       "      <td>631875.0</td>\n",
       "      <td>791446.0</td>\n",
       "      <td>970268.0</td>\n",
       "    </tr>\n",
       "  </tbody>\n",
       "</table>\n",
       "</div>"
      ],
      "text/plain": [
       "bedrooms           2         3         4          5\n",
       "saledate                                           \n",
       "2018-09-30  504318.0  624602.0  830727.0  1007114.0\n",
       "2018-12-31  506001.0  626608.0  820924.0  1002323.0\n",
       "2019-03-31  496133.0  628423.0  811121.0   998136.0\n",
       "2019-06-30  500158.0  630814.0  803925.0   995363.0\n",
       "2019-09-30  510712.0  631875.0  791446.0   970268.0"
      ]
     },
     "execution_count": 4,
     "metadata": {},
     "output_type": "execute_result"
    }
   ],
   "source": [
    "#Pivot the data so we can feed it into the model\n",
    "df=df.pivot(index='saledate', columns='bedrooms', values='price').interpolate(method='linear', limit_direction='both')\n",
    "df.tail()\n"
   ]
  },
  {
   "cell_type": "code",
   "execution_count": 5,
   "id": "bd45b85c",
   "metadata": {},
   "outputs": [
    {
     "data": {
      "text/plain": [
       "<AxesSubplot:xlabel='saledate'>"
      ]
     },
     "execution_count": 5,
     "metadata": {},
     "output_type": "execute_result"
    },
    {
     "data": {
      "image/png": "[encoded data removed]",
      "text/plain": [
       "<Figure size 1080x360 with 1 Axes>"
      ]
     },
     "metadata": {
      "needs_background": "light"
     },
     "output_type": "display_data"
    }
   ],
   "source": [
    "#Plot the data\n",
    "%matplotlib inline \n",
    "df.plot(figsize=(15,5))\n",
    "#It is evident that 2 bedroom curve before 2009 is not an accurate representation of the actual median price.\n",
    "#It is not possible for a 2 bedroom median price to be above that of 3 bedroom median price.\n",
    "#This is due to low number of sales in that timeframe, which skews the calculated median price."
   ]
  },
  {
   "cell_type": "code",
   "execution_count": 6,
   "id": "1803746e",
   "metadata": {},
   "outputs": [
    {
     "data": {
      "text/plain": [
       "<AxesSubplot:xlabel='saledate'>"
      ]
     },
     "execution_count": 6,
     "metadata": {},
     "output_type": "execute_result"
    },
    {
     "data": {
      "image/png": "[encoded data removed]",
      "text/plain": [
       "<Figure size 1080x360 with 1 Axes>"
      ]
     },
     "metadata": {
      "needs_background": "light"
     },
     "output_type": "display_data"
    }
   ],
   "source": [
    "# Let's see what we can do to correct the overlapping lines for 2 and 3 br data\n",
    "def separate_series(df):\n",
    "    columns = list(df) \n",
    "    for col in columns: \n",
    "        if col== columns[-1]:\n",
    "            break\n",
    "        #Calculate average difference between 2 and 3 bedrooms for the recent  1/3 of the dataframe\n",
    "        diff_mean= (df[col+1][:-int(len(df)/3)]-df[col][:-int(len(df)/3)]).mean()\n",
    "        #Where 2 br price is higher than that of 3 br, replace it with 3 br price minus the diff\n",
    "        #do_they_intersect = False if df[col].loc[df[col] >= df[col+1], ].empty else True\n",
    "        #if do_they_intersect:\n",
    "        df.loc[df[col] > df[col+1]-diff_mean, col] = df[col+1]-diff_mean\n",
    "    return df\n",
    "df=separate_series(df)\n",
    "df.plot(figsize=(15,5))"
   ]
  },
  {
   "cell_type": "code",
   "execution_count": 7,
   "id": "d9aa616a",
   "metadata": {},
   "outputs": [
    {
     "data": {
      "text/html": [
       "<div>\n",
       "<style scoped>\n",
       "    .dataframe tbody tr th:only-of-type {\n",
       "        vertical-align: middle;\n",
       "    }\n",
       "\n",
       "    .dataframe tbody tr th {\n",
       "        vertical-align: top;\n",
       "    }\n",
       "\n",
       "    .dataframe thead th {\n",
       "        text-align: right;\n",
       "    }\n",
       "</style>\n",
       "<table border=\"1\" class=\"dataframe\">\n",
       "  <thead>\n",
       "    <tr style=\"text-align: right;\">\n",
       "      <th>bedrooms</th>\n",
       "      <th>2</th>\n",
       "      <th>3</th>\n",
       "      <th>4</th>\n",
       "      <th>5</th>\n",
       "    </tr>\n",
       "    <tr>\n",
       "      <th>saledate</th>\n",
       "      <th></th>\n",
       "      <th></th>\n",
       "      <th></th>\n",
       "      <th></th>\n",
       "    </tr>\n",
       "  </thead>\n",
       "  <tbody>\n",
       "    <tr>\n",
       "      <th>2007-03-31</th>\n",
       "      <td>399989.617647</td>\n",
       "      <td>414576.705882</td>\n",
       "      <td>548969.000000</td>\n",
       "      <td>735904.0</td>\n",
       "    </tr>\n",
       "    <tr>\n",
       "      <th>2007-06-30</th>\n",
       "      <td>399989.617647</td>\n",
       "      <td>414576.705882</td>\n",
       "      <td>548969.000000</td>\n",
       "      <td>735904.0</td>\n",
       "    </tr>\n",
       "    <tr>\n",
       "      <th>2007-09-30</th>\n",
       "      <td>399989.617647</td>\n",
       "      <td>414576.705882</td>\n",
       "      <td>548969.000000</td>\n",
       "      <td>735904.0</td>\n",
       "    </tr>\n",
       "    <tr>\n",
       "      <th>2007-12-31</th>\n",
       "      <td>399989.617647</td>\n",
       "      <td>414576.705882</td>\n",
       "      <td>548969.000000</td>\n",
       "      <td>735904.0</td>\n",
       "    </tr>\n",
       "    <tr>\n",
       "      <th>2008-03-31</th>\n",
       "      <td>394729.617647</td>\n",
       "      <td>416031.000000</td>\n",
       "      <td>552484.000000</td>\n",
       "      <td>735904.0</td>\n",
       "    </tr>\n",
       "    <tr>\n",
       "      <th>2008-06-30</th>\n",
       "      <td>398326.617647</td>\n",
       "      <td>419628.000000</td>\n",
       "      <td>559580.000000</td>\n",
       "      <td>735904.0</td>\n",
       "    </tr>\n",
       "    <tr>\n",
       "      <th>2008-09-30</th>\n",
       "      <td>402509.617647</td>\n",
       "      <td>423811.000000</td>\n",
       "      <td>561852.000000</td>\n",
       "      <td>758340.0</td>\n",
       "    </tr>\n",
       "    <tr>\n",
       "      <th>2008-12-31</th>\n",
       "      <td>405186.617647</td>\n",
       "      <td>426488.000000</td>\n",
       "      <td>565467.000000</td>\n",
       "      <td>764025.0</td>\n",
       "    </tr>\n",
       "    <tr>\n",
       "      <th>2009-03-31</th>\n",
       "      <td>416422.617647</td>\n",
       "      <td>435289.705882</td>\n",
       "      <td>569682.000000</td>\n",
       "      <td>770046.0</td>\n",
       "    </tr>\n",
       "    <tr>\n",
       "      <th>2009-06-30</th>\n",
       "      <td>423049.617647</td>\n",
       "      <td>440287.705882</td>\n",
       "      <td>574680.000000</td>\n",
       "      <td>765555.0</td>\n",
       "    </tr>\n",
       "    <tr>\n",
       "      <th>2009-09-30</th>\n",
       "      <td>428440.617647</td>\n",
       "      <td>444976.705882</td>\n",
       "      <td>579369.000000</td>\n",
       "      <td>765515.0</td>\n",
       "    </tr>\n",
       "    <tr>\n",
       "      <th>2009-12-31</th>\n",
       "      <td>436092.617647</td>\n",
       "      <td>453986.705882</td>\n",
       "      <td>588379.000000</td>\n",
       "      <td>771280.0</td>\n",
       "    </tr>\n",
       "    <tr>\n",
       "      <th>2010-03-31</th>\n",
       "      <td>445131.617647</td>\n",
       "      <td>465221.705882</td>\n",
       "      <td>599256.176471</td>\n",
       "      <td>773355.0</td>\n",
       "    </tr>\n",
       "    <tr>\n",
       "      <th>2010-06-30</th>\n",
       "      <td>453288.617647</td>\n",
       "      <td>474135.705882</td>\n",
       "      <td>602226.176471</td>\n",
       "      <td>776325.0</td>\n",
       "    </tr>\n",
       "    <tr>\n",
       "      <th>2010-09-30</th>\n",
       "      <td>457806.000000</td>\n",
       "      <td>481210.705882</td>\n",
       "      <td>598600.176471</td>\n",
       "      <td>772699.0</td>\n",
       "    </tr>\n",
       "  </tbody>\n",
       "</table>\n",
       "</div>"
      ],
      "text/plain": [
       "bedrooms                2              3              4         5\n",
       "saledate                                                         \n",
       "2007-03-31  399989.617647  414576.705882  548969.000000  735904.0\n",
       "2007-06-30  399989.617647  414576.705882  548969.000000  735904.0\n",
       "2007-09-30  399989.617647  414576.705882  548969.000000  735904.0\n",
       "2007-12-31  399989.617647  414576.705882  548969.000000  735904.0\n",
       "2008-03-31  394729.617647  416031.000000  552484.000000  735904.0\n",
       "2008-06-30  398326.617647  419628.000000  559580.000000  735904.0\n",
       "2008-09-30  402509.617647  423811.000000  561852.000000  758340.0\n",
       "2008-12-31  405186.617647  426488.000000  565467.000000  764025.0\n",
       "2009-03-31  416422.617647  435289.705882  569682.000000  770046.0\n",
       "2009-06-30  423049.617647  440287.705882  574680.000000  765555.0\n",
       "2009-09-30  428440.617647  444976.705882  579369.000000  765515.0\n",
       "2009-12-31  436092.617647  453986.705882  588379.000000  771280.0\n",
       "2010-03-31  445131.617647  465221.705882  599256.176471  773355.0\n",
       "2010-06-30  453288.617647  474135.705882  602226.176471  776325.0\n",
       "2010-09-30  457806.000000  481210.705882  598600.176471  772699.0"
      ]
     },
     "execution_count": 7,
     "metadata": {},
     "output_type": "execute_result"
    }
   ],
   "source": [
    "df.head(15)"
   ]
  },
  {
   "cell_type": "code",
   "execution_count": 8,
   "id": "2f92225c",
   "metadata": {},
   "outputs": [
    {
     "name": "stdout",
     "output_type": "stream",
     "text": [
      "<class 'pandas.core.frame.DataFrame'>\n",
      "DatetimeIndex: 51 entries, 2007-03-31 to 2019-09-30\n",
      "Data columns (total 4 columns):\n",
      " #   Column  Non-Null Count  Dtype  \n",
      "---  ------  --------------  -----  \n",
      " 0   2       51 non-null     float64\n",
      " 1   3       51 non-null     float64\n",
      " 2   4       51 non-null     float64\n",
      " 3   5       51 non-null     float64\n",
      "dtypes: float64(4)\n",
      "memory usage: 4.0 KB\n"
     ]
    }
   ],
   "source": [
    "df.info()"
   ]
  },
  {
   "cell_type": "code",
   "execution_count": 9,
   "id": "c6c07c28",
   "metadata": {},
   "outputs": [
    {
     "data": {
      "text/plain": [
       "(51, 4)"
      ]
     },
     "execution_count": 9,
     "metadata": {},
     "output_type": "execute_result"
    }
   ],
   "source": [
    "df.shape"
   ]
  },
  {
   "cell_type": "code",
   "execution_count": 10,
   "id": "997697fd",
   "metadata": {},
   "outputs": [
    {
     "data": {
      "text/html": [
       "<div>\n",
       "<style scoped>\n",
       "    .dataframe tbody tr th:only-of-type {\n",
       "        vertical-align: middle;\n",
       "    }\n",
       "\n",
       "    .dataframe tbody tr th {\n",
       "        vertical-align: top;\n",
       "    }\n",
       "\n",
       "    .dataframe thead th {\n",
       "        text-align: right;\n",
       "    }\n",
       "</style>\n",
       "<table border=\"1\" class=\"dataframe\">\n",
       "  <thead>\n",
       "    <tr style=\"text-align: right;\">\n",
       "      <th>bedrooms</th>\n",
       "      <th>2</th>\n",
       "      <th>3</th>\n",
       "      <th>4</th>\n",
       "      <th>5</th>\n",
       "    </tr>\n",
       "  </thead>\n",
       "  <tbody>\n",
       "    <tr>\n",
       "      <th>count</th>\n",
       "      <td>51.000000</td>\n",
       "      <td>51.000000</td>\n",
       "      <td>51.000000</td>\n",
       "      <td>5.100000e+01</td>\n",
       "    </tr>\n",
       "    <tr>\n",
       "      <th>mean</th>\n",
       "      <td>461924.502884</td>\n",
       "      <td>516249.592849</td>\n",
       "      <td>665711.666667</td>\n",
       "      <td>8.496840e+05</td>\n",
       "    </tr>\n",
       "    <tr>\n",
       "      <th>std</th>\n",
       "      <td>34714.100855</td>\n",
       "      <td>68988.776242</td>\n",
       "      <td>93817.669753</td>\n",
       "      <td>9.718657e+04</td>\n",
       "    </tr>\n",
       "    <tr>\n",
       "      <th>min</th>\n",
       "      <td>394729.617647</td>\n",
       "      <td>414576.705882</td>\n",
       "      <td>548969.000000</td>\n",
       "      <td>7.359040e+05</td>\n",
       "    </tr>\n",
       "    <tr>\n",
       "      <th>25%</th>\n",
       "      <td>448104.308824</td>\n",
       "      <td>469678.705882</td>\n",
       "      <td>598928.176471</td>\n",
       "      <td>7.730270e+05</td>\n",
       "    </tr>\n",
       "    <tr>\n",
       "      <th>50%</th>\n",
       "      <td>469149.000000</td>\n",
       "      <td>502294.705882</td>\n",
       "      <td>631583.176471</td>\n",
       "      <td>8.056820e+05</td>\n",
       "    </tr>\n",
       "    <tr>\n",
       "      <th>75%</th>\n",
       "      <td>487770.000000</td>\n",
       "      <td>568424.500000</td>\n",
       "      <td>741294.500000</td>\n",
       "      <td>9.429580e+05</td>\n",
       "    </tr>\n",
       "    <tr>\n",
       "      <th>max</th>\n",
       "      <td>510712.000000</td>\n",
       "      <td>631875.000000</td>\n",
       "      <td>837295.000000</td>\n",
       "      <td>1.017752e+06</td>\n",
       "    </tr>\n",
       "  </tbody>\n",
       "</table>\n",
       "</div>"
      ],
      "text/plain": [
       "bedrooms              2              3              4             5\n",
       "count         51.000000      51.000000      51.000000  5.100000e+01\n",
       "mean      461924.502884  516249.592849  665711.666667  8.496840e+05\n",
       "std        34714.100855   68988.776242   93817.669753  9.718657e+04\n",
       "min       394729.617647  414576.705882  548969.000000  7.359040e+05\n",
       "25%       448104.308824  469678.705882  598928.176471  7.730270e+05\n",
       "50%       469149.000000  502294.705882  631583.176471  8.056820e+05\n",
       "75%       487770.000000  568424.500000  741294.500000  9.429580e+05\n",
       "max       510712.000000  631875.000000  837295.000000  1.017752e+06"
      ]
     },
     "execution_count": 10,
     "metadata": {},
     "output_type": "execute_result"
    }
   ],
   "source": [
    "df.describe()"
   ]
  },
  {
   "cell_type": "code",
   "execution_count": 11,
   "id": "1c551b49",
   "metadata": {},
   "outputs": [
    {
     "data": {
      "image/png": "[encoded data removed]",
      "text/plain": [
       "<Figure size 720x1440 with 4 Axes>"
      ]
     },
     "metadata": {
      "needs_background": "light"
     },
     "output_type": "display_data"
    }
   ],
   "source": [
    "no_cols=len(df.columns)\n",
    "index=1\n",
    "plt.figure(figsize=(10,20))\n",
    "for column in df.columns:\n",
    "    plt.subplot(no_cols,1,index)\n",
    "    plt.plot(df[column])\n",
    "    plt.title(column,loc='right',y=0.5)\n",
    "    index+=1\n",
    "plt.show()\n"
   ]
  },
  {
   "cell_type": "code",
   "execution_count": 12,
   "id": "24ca1ec4",
   "metadata": {},
   "outputs": [],
   "source": [
    "from sklearn.preprocessing import MinMaxScaler\n",
    "scaler = MinMaxScaler()"
   ]
  },
  {
   "cell_type": "code",
   "execution_count": 13,
   "id": "1a9be11d",
   "metadata": {},
   "outputs": [
    {
     "name": "stdout",
     "output_type": "stream",
     "text": [
      "[[0.04535172 0.         0.         0.        ]\n",
      " [0.04535172 0.         0.         0.        ]\n",
      " [0.04535172 0.         0.         0.        ]\n",
      " [0.04535172 0.         0.         0.        ]\n",
      " [0.         0.00669262 0.01219106 0.        ]\n",
      " [0.03101333 0.0232459  0.03680209 0.        ]\n",
      " [0.06707915 0.04249593 0.04468206 0.07960319]\n",
      " [0.09016024 0.05481541 0.05721995 0.09977364]\n",
      " [0.18703703 0.09532058 0.07183882 0.12113622]\n",
      " [0.24417502 0.11832122 0.08917337 0.10520209]\n",
      " [0.29065621 0.13989986 0.10543621 0.10506017]\n",
      " [0.35663175 0.1813636  0.13668556 0.12551446]\n",
      " [0.434566   0.23306672 0.17441083 0.13287659]\n",
      " [0.50489565 0.27408867 0.18471167 0.14341418]\n",
      " [0.54384451 0.3066476  0.17213563 0.13054909]\n",
      " [0.55507898 0.34117157 0.18080637 0.13941912]\n",
      " [0.56929666 0.36815752 0.19215116 0.15102467]\n",
      " [0.60404331 0.39202333 0.23084695 0.19060983]\n",
      " [0.62782279 0.4031923  0.23080186 0.19056371]\n",
      " [0.6518523  0.40705336 0.23548753 0.19535707]\n",
      " [0.6521282  0.3978034  0.24786241 0.20801638]\n",
      " [0.64164385 0.38990642 0.23967029 0.19963597]\n",
      " [0.61379479 0.3950054  0.26832189 0.2289461 ]\n",
      " [0.58940316 0.39073477 0.28234074 0.24328716]\n",
      " [0.48582708 0.39236387 0.29396647 0.2551801 ]\n",
      " [0.48961214 0.398282   0.30016717 0.27078425]\n",
      " [0.51335712 0.40367551 0.28439397 0.24538758]\n",
      " [0.53299804 0.42259556 0.28653044 0.24757316]\n",
      " [0.64829141 0.43222748 0.30812406 0.26966308]\n",
      " [0.67248474 0.45006011 0.33746584 0.29967926]\n",
      " [0.69490194 0.46959087 0.40116396 0.38318526]\n",
      " [0.72151805 0.49483267 0.4328191  0.42269237]\n",
      " [0.72138872 0.5262319  0.46834833 0.46331711]\n",
      " [0.7113872  0.55384832 0.50578512 0.5134718 ]\n",
      " [0.71218042 0.58663274 0.547096   0.55376302]\n",
      " [0.72666538 0.61989117 0.58715482 0.61461142]\n",
      " [0.75623884 0.65352236 0.62001693 0.66592631]\n",
      " [0.79069235 0.68887008 0.65269868 0.70138869]\n",
      " [0.81369584 0.72713546 0.68138496 0.76787133]\n",
      " [0.8313537  0.76810679 0.7169454  0.82465371]\n",
      " [0.86059952 0.81165982 0.77081845 0.86943672]\n",
      " [0.89769136 0.85810289 0.83503742 0.92051389]\n",
      " [0.94723337 0.89636366 0.90773985 0.95162286]\n",
      " [0.96435666 0.92576104 0.96796335 0.97550453]\n",
      " [0.9701334  0.94368571 0.99570278 0.99211277]\n",
      " [0.96037329 0.95670007 1.         1.        ]\n",
      " [0.94487094 0.96652988 0.97722023 0.96225625]\n",
      " [0.95938176 0.97576143 0.94322052 0.94525773]\n",
      " [0.87429987 0.984114   0.90922081 0.9304022 ]\n",
      " [0.90900342 0.99511731 0.88426295 0.92056357]\n",
      " [1.         1.         0.84098208 0.83152621]]\n"
     ]
    }
   ],
   "source": [
    "df=scaler.fit_transform(df)\n",
    "print (df)"
   ]
  },
  {
   "cell_type": "code",
   "execution_count": 14,
   "id": "e03ed2a6",
   "metadata": {},
   "outputs": [],
   "source": [
    "from sklearn.model_selection import train_test_split\n",
    "train,test= train_test_split(df, test_size=0.10,shuffle=False)\n"
   ]
  },
  {
   "cell_type": "code",
   "execution_count": 15,
   "id": "ddb08069",
   "metadata": {},
   "outputs": [],
   "source": [
    "from keras.preprocessing.sequence import TimeseriesGenerator\n"
   ]
  },
  {
   "cell_type": "code",
   "execution_count": 16,
   "id": "4ae250ef",
   "metadata": {},
   "outputs": [],
   "source": [
    "# define generator\n",
    "n_input = 5\n",
    "n_features = 4\n",
    "generatorTrain = TimeseriesGenerator(train,train,length=n_input,batch_size=1)\n",
    "generatorTest = TimeseriesGenerator(test,test,length=n_input,batch_size=1)"
   ]
  },
  {
   "cell_type": "code",
   "execution_count": 17,
   "id": "7939bbe8",
   "metadata": {},
   "outputs": [
    {
     "name": "stdout",
     "output_type": "stream",
     "text": [
      "[[[0.04535172 0.         0.         0.        ]\n",
      "  [0.04535172 0.         0.         0.        ]\n",
      "  [0.04535172 0.         0.         0.        ]\n",
      "  [0.04535172 0.         0.         0.        ]\n",
      "  [0.         0.00669262 0.01219106 0.        ]]] [[0.03101333 0.0232459  0.03680209 0.        ]]\n"
     ]
    }
   ],
   "source": [
    "batch_0=generatorTrain[0]\n",
    "x,y=batch_0\n",
    "print(x,y)"
   ]
  },
  {
   "cell_type": "code",
   "execution_count": 18,
   "id": "9e02166c",
   "metadata": {},
   "outputs": [
    {
     "data": {
      "text/plain": [
       "array([[0.04535172, 0.        , 0.        , 0.        ],\n",
       "       [0.04535172, 0.        , 0.        , 0.        ],\n",
       "       [0.04535172, 0.        , 0.        , 0.        ],\n",
       "       [0.04535172, 0.        , 0.        , 0.        ],\n",
       "       [0.        , 0.00669262, 0.01219106, 0.        ],\n",
       "       [0.03101333, 0.0232459 , 0.03680209, 0.        ],\n",
       "       [0.06707915, 0.04249593, 0.04468206, 0.07960319],\n",
       "       [0.09016024, 0.05481541, 0.05721995, 0.09977364],\n",
       "       [0.18703703, 0.09532058, 0.07183882, 0.12113622],\n",
       "       [0.24417502, 0.11832122, 0.08917337, 0.10520209],\n",
       "       [0.29065621, 0.13989986, 0.10543621, 0.10506017],\n",
       "       [0.35663175, 0.1813636 , 0.13668556, 0.12551446],\n",
       "       [0.434566  , 0.23306672, 0.17441083, 0.13287659],\n",
       "       [0.50489565, 0.27408867, 0.18471167, 0.14341418],\n",
       "       [0.54384451, 0.3066476 , 0.17213563, 0.13054909],\n",
       "       [0.55507898, 0.34117157, 0.18080637, 0.13941912],\n",
       "       [0.56929666, 0.36815752, 0.19215116, 0.15102467],\n",
       "       [0.60404331, 0.39202333, 0.23084695, 0.19060983],\n",
       "       [0.62782279, 0.4031923 , 0.23080186, 0.19056371],\n",
       "       [0.6518523 , 0.40705336, 0.23548753, 0.19535707],\n",
       "       [0.6521282 , 0.3978034 , 0.24786241, 0.20801638],\n",
       "       [0.64164385, 0.38990642, 0.23967029, 0.19963597],\n",
       "       [0.61379479, 0.3950054 , 0.26832189, 0.2289461 ],\n",
       "       [0.58940316, 0.39073477, 0.28234074, 0.24328716],\n",
       "       [0.48582708, 0.39236387, 0.29396647, 0.2551801 ],\n",
       "       [0.48961214, 0.398282  , 0.30016717, 0.27078425],\n",
       "       [0.51335712, 0.40367551, 0.28439397, 0.24538758],\n",
       "       [0.53299804, 0.42259556, 0.28653044, 0.24757316],\n",
       "       [0.64829141, 0.43222748, 0.30812406, 0.26966308],\n",
       "       [0.67248474, 0.45006011, 0.33746584, 0.29967926],\n",
       "       [0.69490194, 0.46959087, 0.40116396, 0.38318526],\n",
       "       [0.72151805, 0.49483267, 0.4328191 , 0.42269237],\n",
       "       [0.72138872, 0.5262319 , 0.46834833, 0.46331711],\n",
       "       [0.7113872 , 0.55384832, 0.50578512, 0.5134718 ],\n",
       "       [0.71218042, 0.58663274, 0.547096  , 0.55376302],\n",
       "       [0.72666538, 0.61989117, 0.58715482, 0.61461142],\n",
       "       [0.75623884, 0.65352236, 0.62001693, 0.66592631],\n",
       "       [0.79069235, 0.68887008, 0.65269868, 0.70138869],\n",
       "       [0.81369584, 0.72713546, 0.68138496, 0.76787133],\n",
       "       [0.8313537 , 0.76810679, 0.7169454 , 0.82465371],\n",
       "       [0.86059952, 0.81165982, 0.77081845, 0.86943672],\n",
       "       [0.89769136, 0.85810289, 0.83503742, 0.92051389],\n",
       "       [0.94723337, 0.89636366, 0.90773985, 0.95162286],\n",
       "       [0.96435666, 0.92576104, 0.96796335, 0.97550453],\n",
       "       [0.9701334 , 0.94368571, 0.99570278, 0.99211277]])"
      ]
     },
     "execution_count": 18,
     "metadata": {},
     "output_type": "execute_result"
    }
   ],
   "source": [
    "train"
   ]
  },
  {
   "cell_type": "code",
   "execution_count": 19,
   "id": "2bd6631f",
   "metadata": {},
   "outputs": [
    {
     "data": {
      "text/plain": [
       "array([[0.96037329, 0.95670007, 1.        , 1.        ],\n",
       "       [0.94487094, 0.96652988, 0.97722023, 0.96225625],\n",
       "       [0.95938176, 0.97576143, 0.94322052, 0.94525773],\n",
       "       [0.87429987, 0.984114  , 0.90922081, 0.9304022 ],\n",
       "       [0.90900342, 0.99511731, 0.88426295, 0.92056357],\n",
       "       [1.        , 1.        , 0.84098208, 0.83152621]])"
      ]
     },
     "execution_count": 19,
     "metadata": {},
     "output_type": "execute_result"
    }
   ],
   "source": [
    "test"
   ]
  },
  {
   "cell_type": "code",
   "execution_count": 20,
   "id": "935bdcc0",
   "metadata": {},
   "outputs": [],
   "source": [
    "from keras.models import Sequential\n",
    "from keras.layers import Dense\n",
    "from keras.layers import LSTM\n"
   ]
  },
  {
   "cell_type": "code",
   "execution_count": 21,
   "id": "ef643792",
   "metadata": {},
   "outputs": [
    {
     "name": "stdout",
     "output_type": "stream",
     "text": [
      "Epoch 1/115\n",
      "40/40 [==============================] - 3s 4ms/step - loss: 0.0204\n",
      "Epoch 2/115\n",
      "40/40 [==============================] - 0s 4ms/step - loss: 0.0297\n",
      "Epoch 3/115\n",
      "40/40 [==============================] - 0s 4ms/step - loss: 0.0227\n",
      "Epoch 4/115\n",
      "40/40 [==============================] - 0s 4ms/step - loss: 0.0164\n",
      "Epoch 5/115\n",
      "40/40 [==============================] - 0s 4ms/step - loss: 0.0085\n",
      "Epoch 6/115\n",
      "40/40 [==============================] - 0s 4ms/step - loss: 0.0051\n",
      "Epoch 7/115\n",
      "40/40 [==============================] - 0s 4ms/step - loss: 0.0040\n",
      "Epoch 8/115\n",
      "40/40 [==============================] - 0s 4ms/step - loss: 0.0043\n",
      "Epoch 9/115\n",
      "40/40 [==============================] - 0s 4ms/step - loss: 0.0042\n",
      "Epoch 10/115\n",
      "40/40 [==============================] - 0s 4ms/step - loss: 0.0039\n",
      "Epoch 11/115\n",
      "40/40 [==============================] - 0s 4ms/step - loss: 0.0038\n",
      "Epoch 12/115\n",
      "40/40 [==============================] - 0s 4ms/step - loss: 0.0038\n",
      "Epoch 13/115\n",
      "40/40 [==============================] - 0s 4ms/step - loss: 0.0037\n",
      "Epoch 14/115\n",
      "40/40 [==============================] - 0s 4ms/step - loss: 0.0036\n",
      "Epoch 15/115\n",
      "40/40 [==============================] - 0s 4ms/step - loss: 0.0035\n",
      "Epoch 16/115\n",
      "40/40 [==============================] - 0s 4ms/step - loss: 0.0034\n",
      "Epoch 17/115\n",
      "40/40 [==============================] - 0s 5ms/step - loss: 0.0033\n",
      "Epoch 18/115\n",
      "40/40 [==============================] - 0s 4ms/step - loss: 0.0033\n",
      "Epoch 19/115\n",
      "40/40 [==============================] - 0s 4ms/step - loss: 0.0032\n",
      "Epoch 20/115\n",
      "40/40 [==============================] - 0s 4ms/step - loss: 0.0031\n",
      "Epoch 21/115\n",
      "40/40 [==============================] - 0s 4ms/step - loss: 0.0030\n",
      "Epoch 22/115\n",
      "40/40 [==============================] - 0s 4ms/step - loss: 0.0029\n",
      "Epoch 23/115\n",
      "40/40 [==============================] - 0s 4ms/step - loss: 0.0028\n",
      "Epoch 24/115\n",
      "40/40 [==============================] - 0s 4ms/step - loss: 0.0027\n",
      "Epoch 25/115\n",
      "40/40 [==============================] - 0s 4ms/step - loss: 0.0027\n",
      "Epoch 26/115\n",
      "40/40 [==============================] - 0s 4ms/step - loss: 0.0026\n",
      "Epoch 27/115\n",
      "40/40 [==============================] - 0s 4ms/step - loss: 0.0025\n",
      "Epoch 28/115\n",
      "40/40 [==============================] - 0s 4ms/step - loss: 0.0024\n",
      "Epoch 29/115\n",
      "40/40 [==============================] - 0s 4ms/step - loss: 0.0024\n",
      "Epoch 30/115\n",
      "40/40 [==============================] - 0s 4ms/step - loss: 0.0023\n",
      "Epoch 31/115\n",
      "40/40 [==============================] - 0s 4ms/step - loss: 0.0022\n",
      "Epoch 32/115\n",
      "40/40 [==============================] - 0s 4ms/step - loss: 0.0022\n",
      "Epoch 33/115\n",
      "40/40 [==============================] - 0s 4ms/step - loss: 0.0021\n",
      "Epoch 34/115\n",
      "40/40 [==============================] - 0s 4ms/step - loss: 0.0021\n",
      "Epoch 35/115\n",
      "40/40 [==============================] - 0s 4ms/step - loss: 0.0020\n",
      "Epoch 36/115\n",
      "40/40 [==============================] - 0s 4ms/step - loss: 0.0020\n",
      "Epoch 37/115\n",
      "40/40 [==============================] - 0s 4ms/step - loss: 0.0020\n",
      "Epoch 38/115\n",
      "40/40 [==============================] - 0s 4ms/step - loss: 0.0019\n",
      "Epoch 39/115\n",
      "40/40 [==============================] - 0s 5ms/step - loss: 0.0019\n",
      "Epoch 40/115\n",
      "40/40 [==============================] - 0s 4ms/step - loss: 0.0018\n",
      "Epoch 41/115\n",
      "40/40 [==============================] - 0s 4ms/step - loss: 0.0018\n",
      "Epoch 42/115\n",
      "40/40 [==============================] - 0s 4ms/step - loss: 0.0018\n",
      "Epoch 43/115\n",
      "40/40 [==============================] - 0s 4ms/step - loss: 0.0017\n",
      "Epoch 44/115\n",
      "40/40 [==============================] - 0s 4ms/step - loss: 0.0017\n",
      "Epoch 45/115\n",
      "40/40 [==============================] - 0s 4ms/step - loss: 0.0016\n",
      "Epoch 46/115\n",
      "40/40 [==============================] - 0s 4ms/step - loss: 0.0016\n",
      "Epoch 47/115\n",
      "40/40 [==============================] - 0s 4ms/step - loss: 0.0016\n",
      "Epoch 48/115\n",
      "40/40 [==============================] - 0s 4ms/step - loss: 0.0015\n",
      "Epoch 49/115\n",
      "40/40 [==============================] - 0s 4ms/step - loss: 0.0015\n",
      "Epoch 50/115\n",
      "40/40 [==============================] - 0s 4ms/step - loss: 0.0015\n",
      "Epoch 51/115\n",
      "40/40 [==============================] - 0s 4ms/step - loss: 0.0014\n",
      "Epoch 52/115\n",
      "40/40 [==============================] - 0s 4ms/step - loss: 0.0014\n",
      "Epoch 53/115\n",
      "40/40 [==============================] - 0s 4ms/step - loss: 0.0013\n",
      "Epoch 54/115\n",
      "40/40 [==============================] - 0s 4ms/step - loss: 0.0013\n",
      "Epoch 55/115\n",
      "40/40 [==============================] - 0s 4ms/step - loss: 0.0013\n",
      "Epoch 56/115\n",
      "40/40 [==============================] - 0s 4ms/step - loss: 0.0013\n",
      "Epoch 57/115\n",
      "40/40 [==============================] - 0s 4ms/step - loss: 0.0012\n",
      "Epoch 58/115\n",
      "40/40 [==============================] - 0s 4ms/step - loss: 0.0012\n",
      "Epoch 59/115\n",
      "40/40 [==============================] - 0s 4ms/step - loss: 0.0012\n",
      "Epoch 60/115\n",
      "40/40 [==============================] - 0s 4ms/step - loss: 0.0011\n",
      "Epoch 61/115\n",
      "40/40 [==============================] - 0s 3ms/step - loss: 0.0011\n",
      "Epoch 62/115\n",
      "40/40 [==============================] - 0s 4ms/step - loss: 0.0011\n",
      "Epoch 63/115\n",
      "40/40 [==============================] - 0s 4ms/step - loss: 0.0011\n",
      "Epoch 64/115\n",
      "40/40 [==============================] - 0s 3ms/step - loss: 0.0010\n",
      "Epoch 65/115\n",
      "40/40 [==============================] - 0s 3ms/step - loss: 0.0010\n",
      "Epoch 66/115\n",
      "40/40 [==============================] - 0s 4ms/step - loss: 0.0010\n",
      "Epoch 67/115\n",
      "40/40 [==============================] - 0s 4ms/step - loss: 9.9414e-04\n",
      "Epoch 68/115\n",
      "40/40 [==============================] - 0s 4ms/step - loss: 9.7898e-04\n",
      "Epoch 69/115\n",
      "40/40 [==============================] - 0s 4ms/step - loss: 9.6429e-04\n",
      "Epoch 70/115\n",
      "40/40 [==============================] - 0s 4ms/step - loss: 9.5039e-04\n",
      "Epoch 71/115\n",
      "40/40 [==============================] - 0s 3ms/step - loss: 9.3734e-04\n",
      "Epoch 72/115\n",
      "40/40 [==============================] - 0s 4ms/step - loss: 9.2498e-04\n",
      "Epoch 73/115\n",
      "40/40 [==============================] - 0s 4ms/step - loss: 9.1296e-04\n",
      "Epoch 74/115\n",
      "40/40 [==============================] - 0s 4ms/step - loss: 9.0095e-04\n",
      "Epoch 75/115\n",
      "40/40 [==============================] - 0s 5ms/step - loss: 8.8874e-04\n",
      "Epoch 76/115\n",
      "40/40 [==============================] - 0s 4ms/step - loss: 8.7630e-04\n",
      "Epoch 77/115\n",
      "40/40 [==============================] - 0s 3ms/step - loss: 8.6375e-04\n",
      "Epoch 78/115\n",
      "40/40 [==============================] - 0s 3ms/step - loss: 8.5139e-04\n",
      "Epoch 79/115\n",
      "40/40 [==============================] - 0s 4ms/step - loss: 8.3951e-04\n",
      "Epoch 80/115\n",
      "40/40 [==============================] - 0s 3ms/step - loss: 8.2838e-04\n",
      "Epoch 81/115\n",
      "40/40 [==============================] - 0s 4ms/step - loss: 8.1814e-04\n",
      "Epoch 82/115\n",
      "40/40 [==============================] - 0s 4ms/step - loss: 8.0876e-04\n",
      "Epoch 83/115\n",
      "40/40 [==============================] - 0s 4ms/step - loss: 8.0007e-04\n",
      "Epoch 84/115\n",
      "40/40 [==============================] - 0s 4ms/step - loss: 7.9184e-04\n",
      "Epoch 85/115\n",
      "40/40 [==============================] - 0s 5ms/step - loss: 7.8380e-04\n",
      "Epoch 86/115\n",
      "40/40 [==============================] - 0s 4ms/step - loss: 7.7579e-04\n",
      "Epoch 87/115\n",
      "40/40 [==============================] - 0s 4ms/step - loss: 7.6770e-04\n",
      "Epoch 88/115\n",
      "40/40 [==============================] - 0s 4ms/step - loss: 7.5957e-04\n",
      "Epoch 89/115\n",
      "40/40 [==============================] - 0s 4ms/step - loss: 7.5133e-04\n",
      "Epoch 90/115\n",
      "40/40 [==============================] - 0s 4ms/step - loss: 7.4307e-04\n",
      "Epoch 91/115\n",
      "40/40 [==============================] - 0s 4ms/step - loss: 7.3456e-04\n",
      "Epoch 92/115\n",
      "40/40 [==============================] - 0s 4ms/step - loss: 7.2594e-04\n",
      "Epoch 93/115\n",
      "40/40 [==============================] - 0s 4ms/step - loss: 7.1668e-04\n",
      "Epoch 94/115\n",
      "40/40 [==============================] - 0s 4ms/step - loss: 7.0740e-04\n",
      "Epoch 95/115\n",
      "40/40 [==============================] - 0s 3ms/step - loss: 6.9705e-04\n",
      "Epoch 96/115\n",
      "40/40 [==============================] - 0s 3ms/step - loss: 6.8755e-04\n",
      "Epoch 97/115\n",
      "40/40 [==============================] - 0s 3ms/step - loss: 6.7632e-04\n",
      "Epoch 98/115\n",
      "40/40 [==============================] - 0s 3ms/step - loss: 6.6830e-04\n",
      "Epoch 99/115\n",
      "40/40 [==============================] - 0s 3ms/step - loss: 6.5706e-04\n",
      "Epoch 100/115\n",
      "40/40 [==============================] - 0s 3ms/step - loss: 6.5469e-04\n",
      "Epoch 101/115\n",
      "40/40 [==============================] - 0s 3ms/step - loss: 6.4790e-04\n",
      "Epoch 102/115\n",
      "40/40 [==============================] - 0s 3ms/step - loss: 6.6463e-04\n",
      "Epoch 103/115\n",
      "40/40 [==============================] - 0s 4ms/step - loss: 6.9673e-04\n",
      "Epoch 104/115\n",
      "40/40 [==============================] - 0s 3ms/step - loss: 7.4182e-04\n",
      "Epoch 105/115\n",
      "40/40 [==============================] - 0s 3ms/step - loss: 9.0805e-04\n",
      "Epoch 106/115\n",
      "40/40 [==============================] - 0s 3ms/step - loss: 7.5136e-04\n",
      "Epoch 107/115\n",
      "40/40 [==============================] - 0s 3ms/step - loss: 8.5602e-04\n",
      "Epoch 108/115\n",
      "40/40 [==============================] - 0s 3ms/step - loss: 6.4330e-04\n",
      "Epoch 109/115\n",
      "40/40 [==============================] - 0s 3ms/step - loss: 6.3712e-04\n",
      "Epoch 110/115\n",
      "40/40 [==============================] - 0s 3ms/step - loss: 5.9234e-04\n",
      "Epoch 111/115\n",
      "40/40 [==============================] - 0s 3ms/step - loss: 5.6116e-04\n",
      "Epoch 112/115\n",
      "40/40 [==============================] - 0s 3ms/step - loss: 5.6915e-04\n",
      "Epoch 113/115\n",
      "40/40 [==============================] - 0s 3ms/step - loss: 5.6504e-04\n",
      "Epoch 114/115\n",
      "40/40 [==============================] - 0s 3ms/step - loss: 5.5542e-04\n",
      "Epoch 115/115\n",
      "40/40 [==============================] - 0s 3ms/step - loss: 5.5852e-04\n"
     ]
    },
    {
     "data": {
      "text/plain": [
       "<keras.callbacks.History at 0x1ca5bbe8910>"
      ]
     },
     "execution_count": 21,
     "metadata": {},
     "output_type": "execute_result"
    }
   ],
   "source": [
    "EPOCHS=115\n",
    "#create and fit the LSTM network\n",
    "#define model\n",
    "\n",
    "model=Sequential()\n",
    "model.add(LSTM(50,activation='tanh',input_shape=(n_input,n_features)))\n",
    "model.add(Dense(n_features))\n",
    "model.compile(optimizer='adam',loss='mse')\n",
    "model.fit(generatorTrain,epochs=EPOCHS,batch_size=72,shuffle=False)\n"
   ]
  },
  {
   "cell_type": "code",
   "execution_count": 22,
   "id": "af60c760",
   "metadata": {},
   "outputs": [
    {
     "data": {
      "text/plain": [
       "[<matplotlib.lines.Line2D at 0x1ca5a061d50>]"
      ]
     },
     "execution_count": 22,
     "metadata": {},
     "output_type": "execute_result"
    },
    {
     "data": {
      "image/png": "[encoded data removed]",
      "text/plain": [
       "<Figure size 432x288 with 1 Axes>"
      ]
     },
     "metadata": {
      "needs_background": "light"
     },
     "output_type": "display_data"
    }
   ],
   "source": [
    "loss_per_epoch = model.history.history['loss']\n",
    "plt.plot(range(len(loss_per_epoch)),loss_per_epoch)"
   ]
  },
  {
   "cell_type": "code",
   "execution_count": 23,
   "id": "efe76411",
   "metadata": {},
   "outputs": [],
   "source": [
    "predictions=[]\n",
    "first_batch = train[-n_input:]\n",
    "current_batch = first_batch.reshape((1, n_input, n_features))\n",
    "\n",
    "for i in range(len(test)):\n",
    "    \n",
    "    # get the prediction value for the first batch\n",
    "    current_pred = model.predict(current_batch)[0]\n",
    "    \n",
    "    # append the prediction into the array\n",
    "    predictions.append(current_pred) \n",
    "    \n",
    "    #remove first value\n",
    "    current_batch_rmv_first=current_batch[:,1:,:]\n",
    "    \n",
    "    # update the batch \n",
    "    current_batch = np.append(current_batch_rmv_first,[[current_pred]],axis=1)"
   ]
  },
  {
   "cell_type": "code",
   "execution_count": 24,
   "id": "04973336",
   "metadata": {},
   "outputs": [
    {
     "data": {
      "text/plain": [
       "[array([0.979186  , 0.99076307, 0.9940439 , 1.0472835 ], dtype=float32),\n",
       " array([0.9880631, 1.0153564, 1.0229568, 1.0705091], dtype=float32),\n",
       " array([0.995533 , 1.0356269, 1.0479532, 1.0864183], dtype=float32),\n",
       " array([1.0037903, 1.052936 , 1.069547 , 1.0994849], dtype=float32),\n",
       " array([1.0112387, 1.0676112, 1.0881448, 1.1104885], dtype=float32),\n",
       " array([1.017197 , 1.0803183, 1.104318 , 1.1198066], dtype=float32)]"
      ]
     },
     "execution_count": 24,
     "metadata": {},
     "output_type": "execute_result"
    }
   ],
   "source": [
    "predictions"
   ]
  },
  {
   "cell_type": "code",
   "execution_count": 25,
   "id": "739a3cc1",
   "metadata": {},
   "outputs": [],
   "source": [
    "true_predictions = scaler.inverse_transform(predictions)"
   ]
  },
  {
   "cell_type": "code",
   "execution_count": 26,
   "id": "ade49206",
   "metadata": {},
   "outputs": [
    {
     "data": {
      "text/plain": [
       "array([[ 508297.94251275,  629867.8304768 ,  835577.69766557,\n",
       "        1031078.76842976],\n",
       "       [ 509327.52955216,  635211.92418932,  843914.05619812,\n",
       "        1037624.84208584],\n",
       "       [ 510193.90548044,  639616.66204691,  851121.16818976,\n",
       "        1042108.81686306],\n",
       "       [ 511151.60331046,  643377.89335103,  857347.22480035,\n",
       "        1045791.62587357],\n",
       "       [ 512015.49052681,  646566.8022257 ,  862709.43160915,\n",
       "        1048892.97232342],\n",
       "       [ 512706.55052565,  649328.03646879,  867372.59822106,\n",
       "        1051519.26392841]])"
      ]
     },
     "execution_count": 26,
     "metadata": {},
     "output_type": "execute_result"
    }
   ],
   "source": [
    "true_predictions"
   ]
  },
  {
   "cell_type": "code",
   "execution_count": 27,
   "id": "903cadb9",
   "metadata": {},
   "outputs": [
    {
     "data": {
      "text/plain": [
       "array([[0.96037329, 0.95670007, 1.        , 1.        ],\n",
       "       [0.94487094, 0.96652988, 0.97722023, 0.96225625],\n",
       "       [0.95938176, 0.97576143, 0.94322052, 0.94525773],\n",
       "       [0.87429987, 0.984114  , 0.90922081, 0.9304022 ],\n",
       "       [0.90900342, 0.99511731, 0.88426295, 0.92056357],\n",
       "       [1.        , 1.        , 0.84098208, 0.83152621]])"
      ]
     },
     "execution_count": 27,
     "metadata": {},
     "output_type": "execute_result"
    }
   ],
   "source": [
    "test"
   ]
  },
  {
   "cell_type": "code",
   "execution_count": 28,
   "id": "4328693e",
   "metadata": {},
   "outputs": [],
   "source": [
    "true_test=scaler.inverse_transform(test)"
   ]
  },
  {
   "cell_type": "code",
   "execution_count": 29,
   "id": "259dd155",
   "metadata": {},
   "outputs": [
    {
     "data": {
      "text/plain": [
       "array([[ 506116.,  622466.,  837295., 1017752.],\n",
       "       [ 504318.,  624602.,  830727., 1007114.],\n",
       "       [ 506001.,  626608.,  820924., 1002323.],\n",
       "       [ 496133.,  628423.,  811121.,  998136.],\n",
       "       [ 500158.,  630814.,  803925.,  995363.],\n",
       "       [ 510712.,  631875.,  791446.,  970268.]])"
      ]
     },
     "execution_count": 29,
     "metadata": {},
     "output_type": "execute_result"
    }
   ],
   "source": [
    "true_test"
   ]
  },
  {
   "cell_type": "code",
   "execution_count": 30,
   "id": "8cfeb1bb",
   "metadata": {},
   "outputs": [
    {
     "data": {
      "text/plain": [
       "[<matplotlib.lines.Line2D at 0x1ca5feb2320>]"
      ]
     },
     "execution_count": 30,
     "metadata": {},
     "output_type": "execute_result"
    },
    {
     "data": {
      "image/png": "[encoded data removed]",
      "text/plain": [
       "<Figure size 432x288 with 1 Axes>"
      ]
     },
     "metadata": {
      "needs_background": "light"
     },
     "output_type": "display_data"
    }
   ],
   "source": [
    "plt.plot(true_predictions[:,0])\n",
    "plt.plot(true_test[:,0])"
   ]
  },
  {
   "cell_type": "code",
   "execution_count": 31,
   "id": "377f7d62",
   "metadata": {},
   "outputs": [
    {
     "data": {
      "text/plain": [
       "[<matplotlib.lines.Line2D at 0x1ca5ee8e2c0>]"
      ]
     },
     "execution_count": 31,
     "metadata": {},
     "output_type": "execute_result"
    },
    {
     "data": {
      "image/png": "[encoded data removed]",
      "text/plain": [
       "<Figure size 432x288 with 1 Axes>"
      ]
     },
     "metadata": {
      "needs_background": "light"
     },
     "output_type": "display_data"
    }
   ],
   "source": [
    "plt.plot(true_predictions[:,1])\n",
    "plt.plot(true_test[:,1])"
   ]
  },
  {
   "cell_type": "code",
   "execution_count": 32,
   "id": "9a018c60",
   "metadata": {},
   "outputs": [
    {
     "data": {
      "text/plain": [
       "[<matplotlib.lines.Line2D at 0x1ca5edd90f0>]"
      ]
     },
     "execution_count": 32,
     "metadata": {},
     "output_type": "execute_result"
    },
    {
     "data": {
      "image/png": "[encoded data removed]",
      "text/plain": [
       "<Figure size 432x288 with 1 Axes>"
      ]
     },
     "metadata": {
      "needs_background": "light"
     },
     "output_type": "display_data"
    }
   ],
   "source": [
    "plt.plot(true_predictions[:,2])\n",
    "plt.plot(true_test[:,2])"
   ]
  },
  {
   "cell_type": "code",
   "execution_count": 33,
   "id": "f268391a",
   "metadata": {},
   "outputs": [
    {
     "data": {
      "text/plain": [
       "[<matplotlib.lines.Line2D at 0x1ca5ff84790>]"
      ]
     },
     "execution_count": 33,
     "metadata": {},
     "output_type": "execute_result"
    },
    {
     "data": {
      "image/png": "[encoded data removed]",
      "text/plain": [
       "<Figure size 432x288 with 1 Axes>"
      ]
     },
     "metadata": {
      "needs_background": "light"
     },
     "output_type": "display_data"
    }
   ],
   "source": [
    "plt.plot(true_predictions[:,3])\n",
    "plt.plot(true_test[:,3])"
   ]
  },
  {
   "cell_type": "code",
   "execution_count": 34,
   "id": "cd590d43",
   "metadata": {},
   "outputs": [
    {
     "name": "stdout",
     "output_type": "stream",
     "text": [
      "2 bedrooms rmse 8342.396484426923\n",
      "3 bedrooms rmse 13619.78321563193\n",
      "4 bedroom rmse 45544.9194413009\n",
      "5 bedroom rmse 49040.30649941616\n"
     ]
    }
   ],
   "source": [
    "from sklearn.metrics import mean_squared_error\n",
    "from math import sqrt\n",
    "rmse_2=sqrt(mean_squared_error(true_test[:,0],true_predictions[:,0]))\n",
    "rmse_3=sqrt(mean_squared_error(true_test[:,1],true_predictions[:,1]))\n",
    "rmse_4=sqrt(mean_squared_error(true_test[:,2],true_predictions[:,2]))\n",
    "rmse_5=sqrt(mean_squared_error(true_test[:,3],true_predictions[:,3]))\n",
    "\n",
    "print('2 bedrooms rmse',rmse_2)\n",
    "print('3 bedrooms rmse',rmse_3)\n",
    "print('4 bedroom rmse',rmse_4)\n",
    "print('5 bedroom rmse',rmse_5)"
   ]
  },
  {
   "cell_type": "code",
   "execution_count": 35,
   "id": "ca53e957",
   "metadata": {},
   "outputs": [],
   "source": [
    "#MAPE\n",
    "import numpy as np\n",
    "def mean_absolute_percentage_error(y_true, y_pred):\n",
    "    y_true, y_pred = np.array(y_true), np.array(y_pred)\n",
    "    return np.mean(np.abs((y_true - y_pred) / y_true)) * 100"
   ]
  },
  {
   "cell_type": "code",
   "execution_count": 36,
   "id": "6ac06a9a",
   "metadata": {},
   "outputs": [
    {
     "name": "stdout",
     "output_type": "stream",
     "text": [
      "2 bedrooms 1.3402505014498267\n",
      "3 bedrooms 2.1004831242411317\n",
      "4 bedrooms 4.679264034583571\n",
      "5 bedroom  4.472471163245586\n"
     ]
    }
   ],
   "source": [
    "mape_2=mean_absolute_percentage_error(true_test[:,0],true_predictions[:,0])\n",
    "mape_3=mean_absolute_percentage_error(true_test[:,1],true_predictions[:,1])\n",
    "mape_4=mean_absolute_percentage_error(true_test[:,2],true_predictions[:,2])\n",
    "mape_5=mean_absolute_percentage_error(true_test[:,3],true_predictions[:,3])\n",
    "\n",
    "print('2 bedrooms',mape_2)\n",
    "print('3 bedrooms',mape_3)\n",
    "print('4 bedrooms',mape_4)\n",
    "print('5 bedroom ',mape_5)"
   ]
  },
  {
   "cell_type": "code",
   "execution_count": null,
   "id": "22bc6386",
   "metadata": {},
   "outputs": [],
   "source": []
  }
 ],
 "metadata": {
  "kernelspec": {
   "display_name": "Python 3 (ipykernel)",
   "language": "python",
   "name": "python3"
  },
  "language_info": {
   "codemirror_mode": {
    "name": "ipython",
    "version": 3
   },
   "file_extension": ".py",
   "mimetype": "text/x-python",
   "name": "python",
   "nbconvert_exporter": "python",
   "pygments_lexer": "ipython3",
   "version": "3.10.0"
  }
 },
 "nbformat": 4,
 "nbformat_minor": 5
}
