{
 "cells": [
  {
   "cell_type": "markdown",
   "id": "3bfb12a9",
   "metadata": {},
   "source": [
    "# Multivariate time series analysis using VAR model"
   ]
  },
  {
   "cell_type": "code",
   "execution_count": 1,
   "id": "65ade60d",
   "metadata": {},
   "outputs": [],
   "source": [
    "from statsmodels.graphics.tsaplots import plot_acf, plot_pacf\n",
    "from statsmodels.tsa.statespace.varmax import VARMAX\n",
    "from statsmodels.tsa.api import VAR\n",
    "from statsmodels.tsa.stattools import grangercausalitytests, adfuller\n",
    "from tqdm import tqdm_notebook\n",
    "from itertools import product\n",
    "\n",
    "import matplotlib.pyplot as plt\n",
    "import statsmodels.api as sm\n",
    "import pandas as pd\n",
    "import numpy as np\n",
    "\n",
    "import warnings\n",
    "warnings.filterwarnings('ignore')"
   ]
  },
  {
   "cell_type": "code",
   "execution_count": 2,
   "id": "39876d92",
   "metadata": {},
   "outputs": [],
   "source": [
    "df=pd.read_csv('ma_lga_12345.csv')"
   ]
  },
  {
   "cell_type": "code",
   "execution_count": 3,
   "id": "97c2340b",
   "metadata": {},
   "outputs": [
    {
     "data": {
      "text/html": [
       "<div>\n",
       "<style scoped>\n",
       "    .dataframe tbody tr th:only-of-type {\n",
       "        vertical-align: middle;\n",
       "    }\n",
       "\n",
       "    .dataframe tbody tr th {\n",
       "        vertical-align: top;\n",
       "    }\n",
       "\n",
       "    .dataframe thead th {\n",
       "        text-align: right;\n",
       "    }\n",
       "</style>\n",
       "<table border=\"1\" class=\"dataframe\">\n",
       "  <thead>\n",
       "    <tr style=\"text-align: right;\">\n",
       "      <th></th>\n",
       "      <th>saledate</th>\n",
       "      <th>price</th>\n",
       "      <th>type</th>\n",
       "      <th>bedrooms</th>\n",
       "    </tr>\n",
       "  </thead>\n",
       "  <tbody>\n",
       "    <tr>\n",
       "      <th>195</th>\n",
       "      <td>2018-09-30</td>\n",
       "      <td>1007114</td>\n",
       "      <td>house</td>\n",
       "      <td>5</td>\n",
       "    </tr>\n",
       "    <tr>\n",
       "      <th>196</th>\n",
       "      <td>2018-12-31</td>\n",
       "      <td>1002323</td>\n",
       "      <td>house</td>\n",
       "      <td>5</td>\n",
       "    </tr>\n",
       "    <tr>\n",
       "      <th>197</th>\n",
       "      <td>2019-03-31</td>\n",
       "      <td>998136</td>\n",
       "      <td>house</td>\n",
       "      <td>5</td>\n",
       "    </tr>\n",
       "    <tr>\n",
       "      <th>198</th>\n",
       "      <td>2019-06-30</td>\n",
       "      <td>995363</td>\n",
       "      <td>house</td>\n",
       "      <td>5</td>\n",
       "    </tr>\n",
       "    <tr>\n",
       "      <th>199</th>\n",
       "      <td>2019-09-30</td>\n",
       "      <td>970268</td>\n",
       "      <td>house</td>\n",
       "      <td>5</td>\n",
       "    </tr>\n",
       "  </tbody>\n",
       "</table>\n",
       "</div>"
      ],
      "text/plain": [
       "      saledate    price   type  bedrooms\n",
       "195 2018-09-30  1007114  house         5\n",
       "196 2018-12-31  1002323  house         5\n",
       "197 2019-03-31   998136  house         5\n",
       "198 2019-06-30   995363  house         5\n",
       "199 2019-09-30   970268  house         5"
      ]
     },
     "execution_count": 3,
     "metadata": {},
     "output_type": "execute_result"
    }
   ],
   "source": [
    "df=df[df.type=='house']# Taking house type only\n",
    "df['saledate'] = pd.to_datetime(df['saledate'])\n",
    "df.tail()"
   ]
  },
  {
   "cell_type": "code",
   "execution_count": 4,
   "id": "91c791d2",
   "metadata": {},
   "outputs": [
    {
     "data": {
      "text/html": [
       "<div>\n",
       "<style scoped>\n",
       "    .dataframe tbody tr th:only-of-type {\n",
       "        vertical-align: middle;\n",
       "    }\n",
       "\n",
       "    .dataframe tbody tr th {\n",
       "        vertical-align: top;\n",
       "    }\n",
       "\n",
       "    .dataframe thead th {\n",
       "        text-align: right;\n",
       "    }\n",
       "</style>\n",
       "<table border=\"1\" class=\"dataframe\">\n",
       "  <thead>\n",
       "    <tr style=\"text-align: right;\">\n",
       "      <th>bedrooms</th>\n",
       "      <th>2</th>\n",
       "      <th>3</th>\n",
       "      <th>4</th>\n",
       "      <th>5</th>\n",
       "    </tr>\n",
       "    <tr>\n",
       "      <th>saledate</th>\n",
       "      <th></th>\n",
       "      <th></th>\n",
       "      <th></th>\n",
       "      <th></th>\n",
       "    </tr>\n",
       "  </thead>\n",
       "  <tbody>\n",
       "    <tr>\n",
       "      <th>2018-09-30</th>\n",
       "      <td>504318.0</td>\n",
       "      <td>624602.0</td>\n",
       "      <td>830727.0</td>\n",
       "      <td>1007114.0</td>\n",
       "    </tr>\n",
       "    <tr>\n",
       "      <th>2018-12-31</th>\n",
       "      <td>506001.0</td>\n",
       "      <td>626608.0</td>\n",
       "      <td>820924.0</td>\n",
       "      <td>1002323.0</td>\n",
       "    </tr>\n",
       "    <tr>\n",
       "      <th>2019-03-31</th>\n",
       "      <td>496133.0</td>\n",
       "      <td>628423.0</td>\n",
       "      <td>811121.0</td>\n",
       "      <td>998136.0</td>\n",
       "    </tr>\n",
       "    <tr>\n",
       "      <th>2019-06-30</th>\n",
       "      <td>500158.0</td>\n",
       "      <td>630814.0</td>\n",
       "      <td>803925.0</td>\n",
       "      <td>995363.0</td>\n",
       "    </tr>\n",
       "    <tr>\n",
       "      <th>2019-09-30</th>\n",
       "      <td>510712.0</td>\n",
       "      <td>631875.0</td>\n",
       "      <td>791446.0</td>\n",
       "      <td>970268.0</td>\n",
       "    </tr>\n",
       "  </tbody>\n",
       "</table>\n",
       "</div>"
      ],
      "text/plain": [
       "bedrooms           2         3         4          5\n",
       "saledate                                           \n",
       "2018-09-30  504318.0  624602.0  830727.0  1007114.0\n",
       "2018-12-31  506001.0  626608.0  820924.0  1002323.0\n",
       "2019-03-31  496133.0  628423.0  811121.0   998136.0\n",
       "2019-06-30  500158.0  630814.0  803925.0   995363.0\n",
       "2019-09-30  510712.0  631875.0  791446.0   970268.0"
      ]
     },
     "execution_count": 4,
     "metadata": {},
     "output_type": "execute_result"
    }
   ],
   "source": [
    "#Pivot the data so we can feed it into the model\n",
    "df=df.pivot(index='saledate', columns='bedrooms', values='price').interpolate(method='linear', limit_direction='both')\n",
    "df.tail()"
   ]
  },
  {
   "cell_type": "code",
   "execution_count": 5,
   "id": "5dede4bb",
   "metadata": {},
   "outputs": [
    {
     "data": {
      "text/plain": [
       "<AxesSubplot:xlabel='saledate'>"
      ]
     },
     "execution_count": 5,
     "metadata": {},
     "output_type": "execute_result"
    },
    {
     "data": {
      "image/png": "[encoded data removed]",
      "text/plain": [
       "<Figure size 1080x360 with 1 Axes>"
      ]
     },
     "metadata": {
      "needs_background": "light"
     },
     "output_type": "display_data"
    }
   ],
   "source": [
    "\n",
    "%matplotlib inline \n",
    "df.plot(figsize=(15,5))"
   ]
  },
  {
   "cell_type": "code",
   "execution_count": 6,
   "id": "f6522ca7",
   "metadata": {},
   "outputs": [
    {
     "data": {
      "text/plain": [
       "<AxesSubplot:xlabel='saledate'>"
      ]
     },
     "execution_count": 6,
     "metadata": {},
     "output_type": "execute_result"
    },
    {
     "data": {
      "image/png": "[encoded data removed]",
      "text/plain": [
       "<Figure size 1080x360 with 1 Axes>"
      ]
     },
     "metadata": {
      "needs_background": "light"
     },
     "output_type": "display_data"
    }
   ],
   "source": [
    "# To remove overlapping between 2 and 3 bedroom lines\n",
    "def separate_series(df):\n",
    "    columns = list(df) \n",
    "    for col in columns: \n",
    "        if col== columns[-1]:\n",
    "            break\n",
    "\n",
    "        diff_mean= (df[col+1][:-int(len(df)/3)]-df[col][:-int(len(df)/3)]).mean()\n",
    "    \n",
    "        df.loc[df[col] > df[col+1]-diff_mean, col] = df[col+1]-diff_mean\n",
    "    return df\n",
    "df=separate_series(df)\n",
    "df.plot(figsize=(15,5))"
   ]
  },
  {
   "cell_type": "code",
   "execution_count": 7,
   "id": "2fdf69e3",
   "metadata": {},
   "outputs": [
    {
     "name": "stdout",
     "output_type": "stream",
     "text": [
      "2 bedroom\n",
      "ADF Statistic: -1.1440025622320202\n",
      "p-value: 0.6972091827484805\n",
      "\n",
      "---------------------\n",
      "\n",
      "3 bedroom\n",
      "ADF Statistic: -1.2622572558987908\n",
      "p-value: 0.6462580092174761\n",
      "\n",
      "---------------------\n",
      "\n",
      "4 bedroom\n",
      "ADF Statistic: -1.518257611488749\n",
      "p-value: 0.5244610046345944\n",
      "\n",
      "---------------------\n",
      "\n",
      "5 bedroom\n",
      "ADF Statistic: -2.990261434959391\n",
      "p-value: 0.035813922791437754\n"
     ]
    }
   ],
   "source": [
    "ad_fuller_result_1 = adfuller(df.iloc[:,0])\n",
    "print('2 bedroom')\n",
    "print(f'ADF Statistic: {ad_fuller_result_1[0]}')\n",
    "print(f'p-value: {ad_fuller_result_1[1]}')\n",
    "\n",
    "print('\\n---------------------\\n')\n",
    "\n",
    "\n",
    "ad_fuller_result_2 = adfuller(df.iloc[:,1])\n",
    "print('3 bedroom')\n",
    "print(f'ADF Statistic: {ad_fuller_result_2[0]}')\n",
    "print(f'p-value: {ad_fuller_result_2[1]}')\n",
    "\n",
    "print('\\n---------------------\\n')\n",
    "                              \n",
    "ad_fuller_result_3 = adfuller(df.iloc[:,2])\n",
    "print('4 bedroom')\n",
    "print(f'ADF Statistic: {ad_fuller_result_3[0]}')\n",
    "print(f'p-value: {ad_fuller_result_3[1]}')    \n",
    "\n",
    "print('\\n---------------------\\n')\n",
    "\n",
    "ad_fuller_result_4 = adfuller(df.iloc[:,3])\n",
    "print('5 bedroom')\n",
    "print(f'ADF Statistic: {ad_fuller_result_4[0]}')\n",
    "print(f'p-value: {ad_fuller_result_4[1]}')                              "
   ]
  },
  {
   "cell_type": "code",
   "execution_count": 8,
   "id": "325ad40f",
   "metadata": {},
   "outputs": [
    {
     "name": "stdout",
     "output_type": "stream",
     "text": [
      "2 bedroom\n",
      "ADF Statistic: -3.982794762183998\n",
      "p-value: 0.001503331441177173\n",
      "\n",
      "---------------------\n",
      "\n",
      "3 bedroom\n",
      "ADF Statistic: -3.03362965221895\n",
      "p-value: 0.031870943772128874\n",
      "\n",
      "---------------------\n",
      "\n",
      "4 bedroom\n",
      "ADF Statistic: -3.03362965221895\n",
      "p-value: 0.031870943772128874\n",
      "\n",
      "---------------------\n",
      "\n",
      "5 bedroom\n",
      "ADF Statistic: -3.03362965221895\n",
      "p-value: 0.031870943772128874\n"
     ]
    }
   ],
   "source": [
    "ad_fuller_result_1 = adfuller(df.iloc[:,0].diff()[1:])\n",
    "print('2 bedroom')\n",
    "print(f'ADF Statistic: {ad_fuller_result_1[0]}')\n",
    "print(f'p-value: {ad_fuller_result_1[1]}')\n",
    "\n",
    "print('\\n---------------------\\n')\n",
    "\n",
    "\n",
    "ad_fuller_result_2 = adfuller(df.iloc[:,1].diff()[1:])\n",
    "print('3 bedroom')\n",
    "print(f'ADF Statistic: {ad_fuller_result_2[0]}')\n",
    "print(f'p-value: {ad_fuller_result_2[1]}')\n",
    "\n",
    "print('\\n---------------------\\n')\n",
    "                              \n",
    "ad_fuller_result_3 = adfuller(df.iloc[:,2].diff()[1:])\n",
    "print('4 bedroom')\n",
    "print(f'ADF Statistic: {ad_fuller_result_2[0]}')\n",
    "print(f'p-value: {ad_fuller_result_2[1]}')    \n",
    "\n",
    "print('\\n---------------------\\n')\n",
    "\n",
    "ad_fuller_result_4 = adfuller(df.iloc[:,3].diff()[1:])\n",
    "print('5 bedroom')\n",
    "print(f'ADF Statistic: {ad_fuller_result_2[0]}')\n",
    "print(f'p-value: {ad_fuller_result_2[1]}')   "
   ]
  },
  {
   "cell_type": "code",
   "execution_count": 9,
   "id": "1742f516",
   "metadata": {},
   "outputs": [
    {
     "data": {
      "text/plain": [
       "array([0.40292351, 0.16715847, 0.09216369, 0.00183796])"
      ]
     },
     "execution_count": 9,
     "metadata": {},
     "output_type": "execute_result"
    }
   ],
   "source": [
    "from statsmodels.tsa.vector_ar.vecm import coint_johansen\n",
    "coint_johansen(df,-1,1).eig"
   ]
  },
  {
   "cell_type": "code",
   "execution_count": 10,
   "id": "47a0c345",
   "metadata": {},
   "outputs": [],
   "source": [
    "#Split the data into train and test\n",
    "train = df[:int(0.9*(len(df)))]\n",
    "test = df[int(0.9*(len(df))):]\n",
    "\n",
    "#Fit the model\n",
    "from statsmodels.tsa.vector_ar.var_model import VAR\n",
    "\n",
    "model = VAR(endog=train, freq='Q-DEC')\n",
    "model_fit = model.fit()\n",
    "\n",
    "#Forecast based on train data\n",
    "forecast = model_fit.forecast(model_fit.endog, steps=len(test))"
   ]
  },
  {
   "cell_type": "code",
   "execution_count": 11,
   "id": "0fd074a7",
   "metadata": {},
   "outputs": [
    {
     "data": {
      "text/html": [
       "<div>\n",
       "<style scoped>\n",
       "    .dataframe tbody tr th:only-of-type {\n",
       "        vertical-align: middle;\n",
       "    }\n",
       "\n",
       "    .dataframe tbody tr th {\n",
       "        vertical-align: top;\n",
       "    }\n",
       "\n",
       "    .dataframe thead tr th {\n",
       "        text-align: left;\n",
       "    }\n",
       "\n",
       "    .dataframe thead tr:last-of-type th {\n",
       "        text-align: right;\n",
       "    }\n",
       "</style>\n",
       "<table border=\"1\" class=\"dataframe\">\n",
       "  <thead>\n",
       "    <tr>\n",
       "      <th>bedrooms</th>\n",
       "      <th>2</th>\n",
       "      <th>3</th>\n",
       "      <th>4</th>\n",
       "      <th>5</th>\n",
       "    </tr>\n",
       "    <tr>\n",
       "      <th>saledate</th>\n",
       "      <th></th>\n",
       "      <th></th>\n",
       "      <th></th>\n",
       "      <th></th>\n",
       "    </tr>\n",
       "  </thead>\n",
       "  <tbody>\n",
       "    <tr>\n",
       "      <th>2018-06-30</th>\n",
       "      <td>507275</td>\n",
       "      <td>625404</td>\n",
       "      <td>848597</td>\n",
       "      <td>1030278</td>\n",
       "    </tr>\n",
       "    <tr>\n",
       "      <th>2018-09-30</th>\n",
       "      <td>507480</td>\n",
       "      <td>631399</td>\n",
       "      <td>861752</td>\n",
       "      <td>1045546</td>\n",
       "    </tr>\n",
       "    <tr>\n",
       "      <th>2018-12-31</th>\n",
       "      <td>507833</td>\n",
       "      <td>637650</td>\n",
       "      <td>875549</td>\n",
       "      <td>1061382</td>\n",
       "    </tr>\n",
       "    <tr>\n",
       "      <th>2019-03-31</th>\n",
       "      <td>508310</td>\n",
       "      <td>644176</td>\n",
       "      <td>890014</td>\n",
       "      <td>1077831</td>\n",
       "    </tr>\n",
       "    <tr>\n",
       "      <th>2019-06-30</th>\n",
       "      <td>508891</td>\n",
       "      <td>650995</td>\n",
       "      <td>905172</td>\n",
       "      <td>1094935</td>\n",
       "    </tr>\n",
       "    <tr>\n",
       "      <th>2019-09-30</th>\n",
       "      <td>509559</td>\n",
       "      <td>658120</td>\n",
       "      <td>921046</td>\n",
       "      <td>1112734</td>\n",
       "    </tr>\n",
       "  </tbody>\n",
       "</table>\n",
       "</div>"
      ],
      "text/plain": [
       "bedrooms         2       3       4        5\n",
       "saledate                                   \n",
       "2018-06-30  507275  625404  848597  1030278\n",
       "2018-09-30  507480  631399  861752  1045546\n",
       "2018-12-31  507833  637650  875549  1061382\n",
       "2019-03-31  508310  644176  890014  1077831\n",
       "2019-06-30  508891  650995  905172  1094935\n",
       "2019-09-30  509559  658120  921046  1112734"
      ]
     },
     "execution_count": 11,
     "metadata": {},
     "output_type": "execute_result"
    }
   ],
   "source": [
    "#Converting forecast data to a dataframe\n",
    "cols = df.columns\n",
    "pred = pd.DataFrame(index=test.index, data=forecast,columns=[cols])\n",
    "pred=pred.astype(int)\n",
    "pred.tail(6)"
   ]
  },
  {
   "cell_type": "code",
   "execution_count": 12,
   "id": "94d16aa7",
   "metadata": {},
   "outputs": [
    {
     "data": {
      "text/html": [
       "<div>\n",
       "<style scoped>\n",
       "    .dataframe tbody tr th:only-of-type {\n",
       "        vertical-align: middle;\n",
       "    }\n",
       "\n",
       "    .dataframe tbody tr th {\n",
       "        vertical-align: top;\n",
       "    }\n",
       "\n",
       "    .dataframe thead th {\n",
       "        text-align: right;\n",
       "    }\n",
       "</style>\n",
       "<table border=\"1\" class=\"dataframe\">\n",
       "  <thead>\n",
       "    <tr style=\"text-align: right;\">\n",
       "      <th>bedrooms</th>\n",
       "      <th>2</th>\n",
       "      <th>3</th>\n",
       "      <th>4</th>\n",
       "      <th>5</th>\n",
       "    </tr>\n",
       "    <tr>\n",
       "      <th>saledate</th>\n",
       "      <th></th>\n",
       "      <th></th>\n",
       "      <th></th>\n",
       "      <th></th>\n",
       "    </tr>\n",
       "  </thead>\n",
       "  <tbody>\n",
       "    <tr>\n",
       "      <th>2018-09-30</th>\n",
       "      <td>504318.0</td>\n",
       "      <td>624602.0</td>\n",
       "      <td>830727.0</td>\n",
       "      <td>1007114.0</td>\n",
       "    </tr>\n",
       "    <tr>\n",
       "      <th>2018-12-31</th>\n",
       "      <td>506001.0</td>\n",
       "      <td>626608.0</td>\n",
       "      <td>820924.0</td>\n",
       "      <td>1002323.0</td>\n",
       "    </tr>\n",
       "    <tr>\n",
       "      <th>2019-03-31</th>\n",
       "      <td>496133.0</td>\n",
       "      <td>628423.0</td>\n",
       "      <td>811121.0</td>\n",
       "      <td>998136.0</td>\n",
       "    </tr>\n",
       "    <tr>\n",
       "      <th>2019-06-30</th>\n",
       "      <td>500158.0</td>\n",
       "      <td>630814.0</td>\n",
       "      <td>803925.0</td>\n",
       "      <td>995363.0</td>\n",
       "    </tr>\n",
       "    <tr>\n",
       "      <th>2019-09-30</th>\n",
       "      <td>510712.0</td>\n",
       "      <td>631875.0</td>\n",
       "      <td>791446.0</td>\n",
       "      <td>970268.0</td>\n",
       "    </tr>\n",
       "  </tbody>\n",
       "</table>\n",
       "</div>"
      ],
      "text/plain": [
       "bedrooms           2         3         4          5\n",
       "saledate                                           \n",
       "2018-09-30  504318.0  624602.0  830727.0  1007114.0\n",
       "2018-12-31  506001.0  626608.0  820924.0  1002323.0\n",
       "2019-03-31  496133.0  628423.0  811121.0   998136.0\n",
       "2019-06-30  500158.0  630814.0  803925.0   995363.0\n",
       "2019-09-30  510712.0  631875.0  791446.0   970268.0"
      ]
     },
     "execution_count": 12,
     "metadata": {},
     "output_type": "execute_result"
    }
   ],
   "source": [
    "test.tail()"
   ]
  },
  {
   "cell_type": "code",
   "execution_count": 13,
   "id": "5c6b967d",
   "metadata": {
    "scrolled": true
   },
   "outputs": [
    {
     "data": {
      "text/plain": [
       "<AxesSubplot:xlabel='saledate'>"
      ]
     },
     "execution_count": 13,
     "metadata": {},
     "output_type": "execute_result"
    },
    {
     "data": {
      "image/png": "[encoded data removed]",
      "text/plain": [
       "<Figure size 1080x360 with 1 Axes>"
      ]
     },
     "metadata": {
      "needs_background": "light"
     },
     "output_type": "display_data"
    }
   ],
   "source": [
    "#Ploting actuals (df) and forecast (pred) on the same chart\n",
    "ax = df.plot()\n",
    "pred.plot(ax=ax,figsize=(15,5))\n"
   ]
  },
  {
   "cell_type": "code",
   "execution_count": 14,
   "id": "234e24c0",
   "metadata": {},
   "outputs": [
    {
     "name": "stdout",
     "output_type": "stream",
     "text": [
      "2 bedrooms 1.027963025803897\n",
      "3 bedrooms 2.3523955523069557\n",
      "4 bedrooms 8.347488048618313\n",
      "5 bedrooms 7.229671356483708\n"
     ]
    }
   ],
   "source": [
    "#MAPE\n",
    "import numpy as np\n",
    "for col in df.columns:\n",
    "    print (str(col) +' bedrooms ' + str(np.mean(np.abs((df[col].iloc[-len(pred):].values - pred[[col]].values) / df[col].iloc[-len(pred):].values)) * 100))"
   ]
  },
  {
   "cell_type": "code",
   "execution_count": 15,
   "id": "38bbccf1",
   "metadata": {},
   "outputs": [
    {
     "name": "stdout",
     "output_type": "stream",
     "text": [
      "2 bedrooms rmse 6332.084648834063\n",
      "3 bedrooms rmse 15921.613255781169\n",
      "4 bedroom rmse 78893.80722633854\n",
      "5 bedroom rmse 83350.98694276711\n"
     ]
    }
   ],
   "source": [
    "from sklearn.metrics import mean_squared_error\n",
    "from math import sqrt\n",
    "from sklearn.metrics import mean_squared_error\n",
    "from math import sqrt\n",
    "\n",
    "rmse_2=sqrt(mean_squared_error(test.iloc[:,0],pred.iloc[:,0]))\n",
    "rmse_3=sqrt(mean_squared_error(test.iloc[:,1],pred.iloc[:,1]))\n",
    "rmse_4=sqrt(mean_squared_error(test.iloc[:,2],pred.iloc[:,2]))\n",
    "rmse_5=sqrt(mean_squared_error(test.iloc[:,3],pred.iloc[:,3]))\n",
    "\n",
    "print('2 bedrooms rmse',rmse_2)\n",
    "print('3 bedrooms rmse',rmse_3)\n",
    "print('4 bedroom rmse',rmse_4)\n",
    "print('5 bedroom rmse',rmse_5)\n",
    "    \n",
    "\n"
   ]
  },
  {
   "cell_type": "code",
   "execution_count": 16,
   "id": "a258feb2",
   "metadata": {},
   "outputs": [
    {
     "data": {
      "text/plain": [
       "998492.6666666666"
      ]
     },
     "execution_count": 16,
     "metadata": {},
     "output_type": "execute_result"
    }
   ],
   "source": [
    "test.iloc[:,3].mean()"
   ]
  },
  {
   "cell_type": "code",
   "execution_count": 17,
   "id": "2a24a783",
   "metadata": {},
   "outputs": [
    {
     "data": {
      "text/plain": [
       "<AxesSubplot:xlabel='saledate'>"
      ]
     },
     "execution_count": 17,
     "metadata": {},
     "output_type": "execute_result"
    },
    {
     "data": {
      "image/png": "[encoded data removed]",
      "text/plain": [
       "<Figure size 1080x360 with 1 Axes>"
      ]
     },
     "metadata": {
      "needs_background": "light"
     },
     "output_type": "display_data"
    }
   ],
   "source": [
    "#Forecast actuals\n",
    "model = VAR(endog=df, freq='Q-DEC')\n",
    "model_fit = model.fit()\n",
    "forecast_period=4\n",
    "prediction = model_fit.forecast(model_fit.endog, steps=forecast_period)\n",
    "cols = df.columns\n",
    "forecast_index = pd.date_range('2019-09-30', freq ='Q', periods=forecast_period) \n",
    "pred = pd.DataFrame(index=forecast_index, data=prediction,columns=[cols])\n",
    "ax = df.plot()\n",
    "pred.plot(ax=ax,figsize=(15,5))"
   ]
  },
  {
   "cell_type": "code",
   "execution_count": 18,
   "id": "c03cfd74",
   "metadata": {},
   "outputs": [
    {
     "data": {
      "text/plain": [
       "(4, 4)"
      ]
     },
     "execution_count": 18,
     "metadata": {},
     "output_type": "execute_result"
    }
   ],
   "source": [
    "pred.shape"
   ]
  },
  {
   "cell_type": "code",
   "execution_count": 19,
   "id": "88ab2de9",
   "metadata": {},
   "outputs": [
    {
     "data": {
      "text/html": [
       "<div>\n",
       "<style scoped>\n",
       "    .dataframe tbody tr th:only-of-type {\n",
       "        vertical-align: middle;\n",
       "    }\n",
       "\n",
       "    .dataframe tbody tr th {\n",
       "        vertical-align: top;\n",
       "    }\n",
       "\n",
       "    .dataframe thead tr th {\n",
       "        text-align: left;\n",
       "    }\n",
       "</style>\n",
       "<table border=\"1\" class=\"dataframe\">\n",
       "  <thead>\n",
       "    <tr>\n",
       "      <th>bedrooms</th>\n",
       "      <th>2</th>\n",
       "      <th>3</th>\n",
       "      <th>4</th>\n",
       "      <th>5</th>\n",
       "    </tr>\n",
       "  </thead>\n",
       "  <tbody>\n",
       "    <tr>\n",
       "      <th>2019-09-30</th>\n",
       "      <td>513849</td>\n",
       "      <td>631839</td>\n",
       "      <td>784588</td>\n",
       "      <td>962610</td>\n",
       "    </tr>\n",
       "    <tr>\n",
       "      <th>2019-12-31</th>\n",
       "      <td>517111</td>\n",
       "      <td>631841</td>\n",
       "      <td>778409</td>\n",
       "      <td>955461</td>\n",
       "    </tr>\n",
       "    <tr>\n",
       "      <th>2020-03-31</th>\n",
       "      <td>520410</td>\n",
       "      <td>631908</td>\n",
       "      <td>772959</td>\n",
       "      <td>948929</td>\n",
       "    </tr>\n",
       "    <tr>\n",
       "      <th>2020-06-30</th>\n",
       "      <td>523678</td>\n",
       "      <td>632060</td>\n",
       "      <td>768260</td>\n",
       "      <td>943088</td>\n",
       "    </tr>\n",
       "  </tbody>\n",
       "</table>\n",
       "</div>"
      ],
      "text/plain": [
       "bedrooms         2       3       4       5\n",
       "2019-09-30  513849  631839  784588  962610\n",
       "2019-12-31  517111  631841  778409  955461\n",
       "2020-03-31  520410  631908  772959  948929\n",
       "2020-06-30  523678  632060  768260  943088"
      ]
     },
     "execution_count": 19,
     "metadata": {},
     "output_type": "execute_result"
    }
   ],
   "source": [
    "pred=pred.astype(int)\n",
    "pred.head()"
   ]
  },
  {
   "cell_type": "code",
   "execution_count": null,
   "id": "c5a1c879",
   "metadata": {},
   "outputs": [],
   "source": []
  }
 ],
 "metadata": {
  "kernelspec": {
   "display_name": "Python 3 (ipykernel)",
   "language": "python",
   "name": "python3"
  },
  "language_info": {
   "codemirror_mode": {
    "name": "ipython",
    "version": 3
   },
   "file_extension": ".py",
   "mimetype": "text/x-python",
   "name": "python",
   "nbconvert_exporter": "python",
   "pygments_lexer": "ipython3",
   "version": "3.9.7"
  }
 },
 "nbformat": 4,
 "nbformat_minor": 5
}
